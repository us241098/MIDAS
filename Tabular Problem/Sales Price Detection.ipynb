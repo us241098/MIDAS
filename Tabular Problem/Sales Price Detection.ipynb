{
 "cells": [
  {
   "cell_type": "markdown",
   "metadata": {},
   "source": [
    "## Problem Description\n",
    "\n",
    "Given the tabular data we have to predict the \"SalePrice\" in the validation dataset."
   ]
  },
  {
   "cell_type": "markdown",
   "metadata": {},
   "source": [
    "## Dataset\n",
    "\n",
    "Dataset can be downloaded from here [Predict Future Sales](https://www.kaggle.com/c/bluebook-for-bulldozers/data)"
   ]
  },
  {
   "cell_type": "markdown",
   "metadata": {},
   "source": [
    "## Approach and accuracy achieved\n",
    "\n",
    "Since the dataset contained a good amount of features and considerable amount of values in dataset were null, I though it \n",
    "right thing to do would be to select limited features based on feature importance. For this I trained a Random forest baseline model and got the importance score of all the features. According to this score features for the final model were selected and Random Forest and lightgbm were tried on the dataset.\n",
    "\n",
    "Based on importance score I have also tried to replace the null values of the 2 most important features (after age) that were \"Coupler_System\" and \"ProductSize\" but the results were not improved.\n",
    "\n",
    "### Accuracy\n",
    "\n",
    "    Evaluation parameter: RMSLE (Root mean squared log error) on validation dataset\n",
    "    \n",
    "    Random Forest: 0.24668083100145405 (using all features)\n",
    "    lightgbm: 0.246714 (using features after calculating importance scores)"
   ]
  },
  {
   "cell_type": "markdown",
   "metadata": {},
   "source": [
    "## Imports"
   ]
  },
  {
   "cell_type": "code",
   "execution_count": 3,
   "metadata": {},
   "outputs": [],
   "source": [
    "import pandas as pd\n",
    "import re\n",
    "from sklearn.ensemble import RandomForestRegressor, RandomForestClassifier\n",
    "from IPython.display import display\n",
    "import numpy as np\n",
    "import math\n",
    "from sklearn import metrics\n",
    "from pandas.api.types import is_string_dtype, is_numeric_dtype\n",
    "import matplotlib.pyplot as plt \n",
    "from sklearn.ensemble import forest"
   ]
  },
  {
   "cell_type": "markdown",
   "metadata": {},
   "source": [
    "## Loading the dataset"
   ]
  },
  {
   "cell_type": "code",
   "execution_count": 4,
   "metadata": {},
   "outputs": [],
   "source": [
    "df_train = pd.read_csv('Train/Train.csv', low_memory=False, parse_dates=['saledate'])\n",
    "df_valid = pd.read_csv('Valid/Valid.csv', low_memory=False, parse_dates=['saledate'])"
   ]
  },
  {
   "cell_type": "markdown",
   "metadata": {},
   "source": [
    "## Getting number of unique values and missing values in each column in training dataset"
   ]
  },
  {
   "cell_type": "code",
   "execution_count": 5,
   "metadata": {},
   "outputs": [
    {
     "name": "stdout",
     "output_type": "stream",
     "text": [
      "training (401125, 53)\n",
      "validation (11573, 52)\n",
      "SalesID 401125\n",
      "SalePrice 899\n",
      "MachineID 341027\n",
      "ModelID 5218\n",
      "datasource 5\n",
      "auctioneerID 30\n",
      "YearMade 72\n",
      "MachineHoursCurrentMeter 15152\n",
      "UsageBand 3\n",
      "saledate 3919\n",
      "fiModelDesc 4999\n",
      "fiBaseModel 1950\n",
      "fiSecondaryDesc 175\n",
      "fiModelSeries 122\n",
      "fiModelDescriptor 139\n",
      "ProductSize 6\n",
      "fiProductClassDesc 74\n",
      "state 53\n",
      "ProductGroup 6\n",
      "ProductGroupDesc 6\n",
      "Drive_System 4\n",
      "Enclosure 6\n",
      "Forks 2\n",
      "Pad_Type 4\n",
      "Ride_Control 3\n",
      "Stick 2\n",
      "Transmission 8\n",
      "Turbocharged 2\n",
      "Blade_Extension 2\n",
      "Blade_Width 6\n",
      "Enclosure_Type 3\n",
      "Engine_Horsepower 2\n",
      "Hydraulics 12\n",
      "Pushblock 2\n",
      "Ripper 4\n",
      "Scarifier 2\n",
      "Tip_Control 3\n",
      "Tire_Size 17\n",
      "Coupler 3\n",
      "Coupler_System 2\n",
      "Grouser_Tracks 2\n",
      "Hydraulics_Flow 3\n",
      "Track_Type 2\n",
      "Undercarriage_Pad_Width 19\n",
      "Stick_Length 29\n",
      "Thumb 3\n",
      "Pattern_Changer 3\n",
      "Grouser_Type 3\n",
      "Backhoe_Mounting 2\n",
      "Blade_Type 10\n",
      "Travel_Controls 7\n",
      "Differential_Type 4\n",
      "Steering_Controls 5\n",
      "####################################################################################################\n",
      "number of null values\n",
      "####################################################################################################\n",
      "SalesID                          0\n",
      "SalePrice                        0\n",
      "MachineID                        0\n",
      "ModelID                          0\n",
      "datasource                       0\n",
      "auctioneerID                 20136\n",
      "YearMade                         0\n",
      "MachineHoursCurrentMeter    258360\n",
      "UsageBand                   331486\n",
      "saledate                         0\n",
      "fiModelDesc                      0\n",
      "fiBaseModel                      0\n",
      "fiSecondaryDesc             137191\n",
      "fiModelSeries               344217\n",
      "fiModelDescriptor           329206\n",
      "ProductSize                 210775\n",
      "fiProductClassDesc               0\n",
      "state                            0\n",
      "ProductGroup                     0\n",
      "ProductGroupDesc                 0\n",
      "Drive_System                296764\n",
      "Enclosure                      325\n",
      "Forks                       209048\n",
      "Pad_Type                    321991\n",
      "Ride_Control                252519\n",
      "Stick                       321991\n",
      "Transmission                217895\n",
      "Turbocharged                321991\n",
      "Blade_Extension             375906\n",
      "Blade_Width                 375906\n",
      "Enclosure_Type              375906\n",
      "Engine_Horsepower           375906\n",
      "Hydraulics                   80555\n",
      "Pushblock                   375906\n",
      "Ripper                      296988\n",
      "Scarifier                   375895\n",
      "Tip_Control                 375906\n",
      "Tire_Size                   306407\n",
      "Coupler                     187173\n",
      "Coupler_System              357667\n",
      "Grouser_Tracks              357763\n",
      "Hydraulics_Flow             357763\n",
      "Track_Type                  301972\n",
      "Undercarriage_Pad_Width     301253\n",
      "Stick_Length                301907\n",
      "Thumb                       301837\n",
      "Pattern_Changer             301907\n",
      "Grouser_Type                301972\n",
      "Backhoe_Mounting            322453\n",
      "Blade_Type                  321292\n",
      "Travel_Controls             321291\n",
      "Differential_Type           331714\n",
      "Steering_Controls           331756\n",
      "####################################################################################################\n"
     ]
    }
   ],
   "source": [
    "df_train.head().T\n",
    "#df_valid.head()\n",
    "\n",
    "#print (df_train.columns)\n",
    "print('training',df_train.shape)\n",
    "print('validation', df_valid.shape)\n",
    "\n",
    "for df_train.col in df_train:\n",
    "    print (df_train.col, df_train[df_train.col].nunique())\n",
    "print('#'*100)\n",
    "print(\"number of null values\")\n",
    "print('#'*100)\n",
    "print (df_train.isnull().sum().to_string()) #to know number of nan values for each column\n",
    "print('#'*100)\n"
   ]
  },
  {
   "cell_type": "code",
   "execution_count": 6,
   "metadata": {},
   "outputs": [
    {
     "name": "stdout",
     "output_type": "stream",
     "text": [
      "                             count          mean            std        min  \\\n",
      "SalesID                   401125.0  1.919713e+06  909021.492667  1139246.0   \n",
      "SalePrice                 401125.0  3.109971e+04   23036.898502     4750.0   \n",
      "MachineID                 401125.0  1.217903e+06  440991.954249        0.0   \n",
      "ModelID                   401125.0  6.889703e+03    6221.777842       28.0   \n",
      "datasource                401125.0  1.346658e+02       8.962237      121.0   \n",
      "auctioneerID              380989.0  6.556040e+00      16.976779        0.0   \n",
      "YearMade                  401125.0  1.899157e+03     291.797469     1000.0   \n",
      "MachineHoursCurrentMeter  142765.0  3.457955e+03   27590.256413        0.0   \n",
      "\n",
      "                                25%        50%        75%        max  \n",
      "SalesID                   1418371.0  1639422.0  2242707.0  6333342.0  \n",
      "SalePrice                   14500.0    24000.0    40000.0   142000.0  \n",
      "MachineID                 1088697.0  1279490.0  1468067.0  2486330.0  \n",
      "ModelID                      3259.0     4604.0     8724.0    37198.0  \n",
      "datasource                    132.0      132.0      136.0      172.0  \n",
      "auctioneerID                    1.0        2.0        4.0       99.0  \n",
      "YearMade                     1985.0     1995.0     2000.0     2013.0  \n",
      "MachineHoursCurrentMeter        0.0        0.0     3025.0  2483300.0  \n"
     ]
    }
   ],
   "source": [
    "print (df_train.describe().T)"
   ]
  },
  {
   "cell_type": "markdown",
   "metadata": {},
   "source": [
    "## Correlation Matrix and Scores "
   ]
  },
  {
   "cell_type": "code",
   "execution_count": 7,
   "metadata": {
    "scrolled": true
   },
   "outputs": [
    {
     "name": "stdout",
     "output_type": "stream",
     "text": [
      "SalesID                     0.010725\n",
      "SalePrice                   1.000000\n",
      "MachineID                  -0.224854\n",
      "ModelID                    -0.042125\n",
      "datasource                  0.015122\n",
      "auctioneerID               -0.046865\n",
      "YearMade                    0.156453\n",
      "MachineHoursCurrentMeter    0.013560\n",
      "dtype: float64\n"
     ]
    },
    {
     "data": {
      "image/png": "[encoded data removed]",
      "text/plain": [
       "<Figure size 288x288 with 1 Axes>"
      ]
     },
     "metadata": {
      "needs_background": "light"
     },
     "output_type": "display_data"
    }
   ],
   "source": [
    "import seaborn as sns\n",
    "print(df_train.corrwith(df_train['SalePrice'])) \n",
    "plt.matshow(df_train.corr())\n",
    "plt.show()\n",
    "\n"
   ]
  },
  {
   "cell_type": "markdown",
   "metadata": {},
   "source": [
    "## Getting number of unique values and missing values in each column in validation dataset\n"
   ]
  },
  {
   "cell_type": "code",
   "execution_count": 8,
   "metadata": {},
   "outputs": [
    {
     "name": "stdout",
     "output_type": "stream",
     "text": [
      "('SalesID', 11573)\n",
      "('MachineID', 9681)\n",
      "('ModelID', 1763)\n",
      "('datasource', 5)\n",
      "('auctioneerID', 14)\n",
      "('YearMade', 55)\n",
      "('MachineHoursCurrentMeter', 3075)\n",
      "('UsageBand', 3)\n",
      "('saledate', 94)\n",
      "('fiModelDesc', 1731)\n",
      "('fiBaseModel', 786)\n",
      "('fiSecondaryDesc', 81)\n",
      "('fiModelSeries', 59)\n",
      "('fiModelDescriptor', 73)\n",
      "('ProductSize', 6)\n",
      "('fiProductClassDesc', 67)\n",
      "('state', 48)\n",
      "('ProductGroup', 6)\n",
      "('ProductGroupDesc', 6)\n",
      "('Drive_System', 4)\n",
      "('Enclosure', 4)\n",
      "('Forks', 2)\n",
      "('Pad_Type', 4)\n",
      "('Ride_Control', 3)\n",
      "('Stick', 2)\n",
      "('Transmission', 7)\n",
      "('Turbocharged', 2)\n",
      "('Blade_Extension', 2)\n",
      "('Blade_Width', 6)\n",
      "('Enclosure_Type', 3)\n",
      "('Engine_Horsepower', 2)\n",
      "('Hydraulics', 11)\n",
      "('Pushblock', 2)\n",
      "('Ripper', 4)\n",
      "('Scarifier', 2)\n",
      "('Tip_Control', 3)\n",
      "('Tire_Size', 15)\n",
      "('Coupler', 3)\n",
      "('Coupler_System', 2)\n",
      "('Grouser_Tracks', 2)\n",
      "('Hydraulics_Flow', 3)\n",
      "('Track_Type', 2)\n",
      "('Undercarriage_Pad_Width', 16)\n",
      "('Stick_Length', 21)\n",
      "('Thumb', 3)\n",
      "('Pattern_Changer', 3)\n",
      "('Grouser_Type', 2)\n",
      "('Backhoe_Mounting', 1)\n",
      "('Blade_Type', 8)\n",
      "('Travel_Controls', 7)\n",
      "('Differential_Type', 3)\n",
      "('Steering_Controls', 3)\n",
      "####################################################################################################\n",
      "number of null values\n",
      "####################################################################################################\n",
      "SalesID                         0\n",
      "MachineID                       0\n",
      "ModelID                         0\n",
      "datasource                      0\n",
      "auctioneerID                    0\n",
      "YearMade                        0\n",
      "MachineHoursCurrentMeter     6834\n",
      "UsageBand                    7542\n",
      "saledate                        0\n",
      "fiModelDesc                     0\n",
      "fiBaseModel                     0\n",
      "fiSecondaryDesc              3536\n",
      "fiModelSeries                9814\n",
      "fiModelDescriptor            8676\n",
      "ProductSize                  5830\n",
      "fiProductClassDesc              0\n",
      "state                           0\n",
      "ProductGroup                    0\n",
      "ProductGroupDesc                0\n",
      "Drive_System                 8847\n",
      "Enclosure                       9\n",
      "Forks                        5935\n",
      "Pad_Type                     9611\n",
      "Ride_Control                 7451\n",
      "Stick                        9611\n",
      "Transmission                 6796\n",
      "Turbocharged                 9611\n",
      "Blade_Extension             10809\n",
      "Blade_Width                 10809\n",
      "Enclosure_Type              10809\n",
      "Engine_Horsepower           10809\n",
      "Hydraulics                   2010\n",
      "Pushblock                   10809\n",
      "Ripper                       8765\n",
      "Scarifier                   10809\n",
      "Tip_Control                 10809\n",
      "Tire_Size                    8653\n",
      "Coupler                      4846\n",
      "Coupler_System              10057\n",
      "Grouser_Tracks              10060\n",
      "Hydraulics_Flow             10060\n",
      "Track_Type                   8533\n",
      "Undercarriage_Pad_Width      8529\n",
      "Stick_Length                 8530\n",
      "Thumb                        8529\n",
      "Pattern_Changer              8530\n",
      "Grouser_Type                 8533\n",
      "Backhoe_Mounting             9533\n",
      "Blade_Type                   9531\n",
      "Travel_Controls              9530\n",
      "Differential_Type            9420\n",
      "Steering_Controls            9420\n",
      "####################################################################################################\n"
     ]
    }
   ],
   "source": [
    "df_valid.head().T\n",
    "#df_valid.head()\n",
    "\n",
    "\n",
    "for df_valid.col in df_valid:\n",
    "    print ((df_valid.col, df_valid[df_valid.col].nunique()))\n",
    "    \n",
    "print('#'*100)\n",
    "print(\"number of null values\")\n",
    "print('#'*100)\n",
    "print (df_valid.isnull().sum().to_string()) #to know number of nan values for each column\n",
    "print ('#'*100)\n"
   ]
  },
  {
   "cell_type": "code",
   "execution_count": 9,
   "metadata": {},
   "outputs": [
    {
     "data": {
      "text/plain": [
       "array([[<matplotlib.axes._subplots.AxesSubplot object at 0x0000015AA35E6C48>]],\n",
       "      dtype=object)"
      ]
     },
     "execution_count": 9,
     "metadata": {},
     "output_type": "execute_result"
    },
    {
     "data": {
      "image/png": "[encoded data removed]",
      "text/plain": [
       "<Figure size 432x288 with 1 Axes>"
      ]
     },
     "metadata": {
      "needs_background": "light"
     },
     "output_type": "display_data"
    },
    {
     "data": {
      "image/png": "[encoded data removed]",
      "text/plain": [
       "<Figure size 432x288 with 1 Axes>"
      ]
     },
     "metadata": {
      "needs_background": "light"
     },
     "output_type": "display_data"
    }
   ],
   "source": [
    "## Looking for Outliers\n",
    "import seaborn as sns\n",
    "sns.boxplot(x=df_train['SalePrice'])\n",
    "\n",
    "df_train.hist(column='SalePrice',bins=50)\n",
    "\n"
   ]
  },
  {
   "cell_type": "markdown",
   "metadata": {},
   "source": [
    "### By looking at data we will remove the rows with SalePrice>110000"
   ]
  },
  {
   "cell_type": "code",
   "execution_count": 10,
   "metadata": {},
   "outputs": [
    {
     "name": "stdout",
     "output_type": "stream",
     "text": [
      "2846\n",
      "(397605, 53)\n"
     ]
    },
    {
     "data": {
      "text/plain": [
       "array([[<matplotlib.axes._subplots.AxesSubplot object at 0x0000015AA3583308>]],\n",
       "      dtype=object)"
      ]
     },
     "execution_count": 10,
     "metadata": {},
     "output_type": "execute_result"
    },
    {
     "data": {
      "image/png": "[encoded data removed]",
      "text/plain": [
       "<Figure size 432x288 with 1 Axes>"
      ]
     },
     "metadata": {
      "needs_background": "light"
     },
     "output_type": "display_data"
    }
   ],
   "source": [
    "print ((df_train.SalePrice[df_train.SalePrice > 110000]).count())\n",
    "df_train = df_train[df_train['SalePrice'] < 110000]\n",
    "print (df_train.shape)\n",
    "\n",
    "df_train.hist(column='SalePrice',bins=50)"
   ]
  },
  {
   "cell_type": "code",
   "execution_count": 11,
   "metadata": {},
   "outputs": [],
   "source": [
    "# Converting Sale Price to log scale as evaluation parameter is RMLE\n",
    "df_train.SalePrice = np.log(df_train.SalePrice)\n",
    "\n",
    "\n",
    "def add_datepart(df, fldname, drop=True, time=False):\n",
    "    '''Making more features from the dates features in the Dataset'''\n",
    "    \n",
    "    fld = df[fldname]\n",
    "    fld_dtype = fld.dtype\n",
    "    \n",
    "    if isinstance(fld_dtype, pd.core.dtypes.dtypes.DatetimeTZDtype):\n",
    "        fld_dtype = np.datetime64\n",
    "\n",
    "    if not np.issubdtype(fld_dtype, np.datetime64):\n",
    "        df[fldname] = fld = pd.to_datetime(fld, infer_datetime_format=True)\n",
    "    targ_pre = re.sub('[Dd]ate$', '', fldname)\n",
    "    attr = ['Year', 'Month', 'Week', 'Day', 'Dayofweek', 'Dayofyear',\n",
    "            'Is_month_end', 'Is_month_start', 'Is_quarter_end', 'Is_quarter_start', 'Is_year_end', 'Is_year_start']\n",
    "    if time:\n",
    "        attr = attr + ['Hour', 'Minute', 'Second']\n",
    "        \n",
    "    for n in attr: \n",
    "        df[targ_pre + n] = getattr(fld.dt, n.lower())\n",
    "    df[targ_pre + 'Elapsed'] = fld.astype(np.int64) // 10 ** 9\n",
    "    \n",
    "    if drop: df.drop(fldname, axis=1, inplace=True)\n",
    "        \n",
    "add_datepart(df_train, 'saledate')\n",
    "\n",
    "# Creating a new feature named age that is age of the Bulldozer at the time of the sale\n",
    "df_train['age'] = df_train['saleYear'] - df_train['YearMade']"
   ]
  },
  {
   "cell_type": "code",
   "execution_count": 12,
   "metadata": {},
   "outputs": [
    {
     "name": "stdout",
     "output_type": "stream",
     "text": [
      "(397605, 66)\n",
      "0       Low\n",
      "1       Low\n",
      "2      High\n",
      "3      High\n",
      "4    Medium\n",
      "Name: UsageBand, dtype: object\n"
     ]
    }
   ],
   "source": [
    "print(df_train.shape)\n",
    "print(df_train.UsageBand.head().T)"
   ]
  },
  {
   "cell_type": "code",
   "execution_count": 13,
   "metadata": {},
   "outputs": [
    {
     "name": "stdout",
     "output_type": "stream",
     "text": [
      "UsageBand\n",
      "fiModelDesc\n",
      "fiBaseModel\n",
      "fiSecondaryDesc\n",
      "fiModelSeries\n",
      "fiModelDescriptor\n",
      "ProductSize\n",
      "fiProductClassDesc\n",
      "state\n",
      "ProductGroup\n",
      "ProductGroupDesc\n",
      "Drive_System\n",
      "Enclosure\n",
      "Forks\n",
      "Pad_Type\n",
      "Ride_Control\n",
      "Stick\n",
      "Transmission\n",
      "Turbocharged\n",
      "Blade_Extension\n",
      "Blade_Width\n",
      "Enclosure_Type\n",
      "Engine_Horsepower\n",
      "Hydraulics\n",
      "Pushblock\n",
      "Ripper\n",
      "Scarifier\n",
      "Tip_Control\n",
      "Tire_Size\n",
      "Coupler\n",
      "Coupler_System\n",
      "Grouser_Tracks\n",
      "Hydraulics_Flow\n",
      "Track_Type\n",
      "Undercarriage_Pad_Width\n",
      "Stick_Length\n",
      "Thumb\n",
      "Pattern_Changer\n",
      "Grouser_Type\n",
      "Backhoe_Mounting\n",
      "Blade_Type\n",
      "Travel_Controls\n",
      "Differential_Type\n",
      "Steering_Controls\n"
     ]
    }
   ],
   "source": [
    "# convert string features to categorical\n",
    "\n",
    "for n,c in df_train.items():\n",
    "    if is_string_dtype(c): \n",
    "        print (n)\n",
    "        df_train[n] = c.astype('category').cat.as_ordered()\n",
    "        \n",
    "#Specify order for variable UsageBand and change to codes\n",
    "df_train.UsageBand.cat.set_categories(['High', 'Medium', 'Low'], ordered=True, inplace=True)\n",
    "df_train.UsageBand = df_train.UsageBand.cat.codes\n",
    "\n"
   ]
  },
  {
   "cell_type": "code",
   "execution_count": 14,
   "metadata": {},
   "outputs": [],
   "source": [
    "'''\n",
    "For continuous variables, it checks whether a column has missing values or not\n",
    "If the column has missing values, it creates another column called columnname_na, which has 1 for missing and 0 for not missing\n",
    "Simultaneously, the missing values are replaced with the median of the column\n",
    "For categorical variables, pandas replaces missing values with -1. So proc_df adds 1 to all the values for categorical variables. Thus, we have 0 for missing while all other values are incremented by 1'''\n",
    "\n",
    "def fix_missing(df, col, name, na_dict):\n",
    "    if is_numeric_dtype(col):\n",
    "        if pd.isnull(col).sum() or (name in na_dict):\n",
    "            df[name+'_na'] = pd.isnull(col)\n",
    "            filler = na_dict[name] if name in na_dict else col.median()\n",
    "            df[name] = col.fillna(filler)\n",
    "            na_dict[name] = filler\n",
    "    return na_dict\n",
    "\n",
    "\n",
    "def numericalize(df, col, name, max_n_cat):\n",
    "    if not is_numeric_dtype(col) and ( max_n_cat is None or col.nunique()>max_n_cat):\n",
    "        df[name] = col.cat.codes+1\n",
    "\n",
    "\n",
    "def proc_df(df, y_fld=None, skip_flds=None, ignore_flds=None, do_scale=False, na_dict=None,\n",
    "            preproc_fn=None, max_n_cat=None, subset=None, mapper=None):\n",
    "    if not ignore_flds: ignore_flds=[]\n",
    "    if not skip_flds: skip_flds=[]\n",
    "    if subset: df = get_sample(df,subset)\n",
    "    else: df = df.copy()\n",
    "    ignored_flds = df.loc[:, ignore_flds]\n",
    "    df.drop(ignore_flds, axis=1, inplace=True)\n",
    "    if preproc_fn: preproc_fn(df)\n",
    "    if y_fld is None: y = None\n",
    "    else:\n",
    "        if not is_numeric_dtype(df[y_fld]): df[y_fld] = df[y_fld].cat.codes\n",
    "        y = df[y_fld].values\n",
    "        skip_flds += [y_fld]\n",
    "    df.drop(skip_flds, axis=1, inplace=True)\n",
    "\n",
    "    if na_dict is None: na_dict = {}\n",
    "    else: na_dict = na_dict.copy()\n",
    "    na_dict_initial = na_dict.copy()\n",
    "    for n,c in df.items(): na_dict = fix_missing(df, c, n, na_dict)\n",
    "    if len(na_dict_initial.keys()) > 0:\n",
    "        df.drop([a + '_na' for a in list(set(na_dict.keys()) - set(na_dict_initial.keys()))], axis=1, inplace=True)\n",
    "    if do_scale: mapper = scale_vars(df, mapper)\n",
    "    for n,c in df.items(): numericalize(df, c, n, max_n_cat)\n",
    "    df = pd.get_dummies(df, dummy_na=True)\n",
    "    df = pd.concat([ignored_flds, df], axis=1)\n",
    "    res = [df, y, na_dict]\n",
    "    if do_scale: res = res + [mapper]\n",
    "    return res\n",
    "\n",
    "df, y, nas = proc_df(df_train, 'SalePrice')"
   ]
  },
  {
   "cell_type": "code",
   "execution_count": 15,
   "metadata": {},
   "outputs": [
    {
     "data": {
      "text/plain": [
       "((385605, 67), (12000, 67), (385605,), (12000,))"
      ]
     },
     "execution_count": 15,
     "metadata": {},
     "output_type": "execute_result"
    }
   ],
   "source": [
    "#Split the dataset into training and validation sets. Use 12,000 as the validation set for our baseline model\n",
    "def split_vals(a,n): \n",
    "    return a[:n].copy(), a[n:].copy()\n",
    "\n",
    "n_valid = 12000  # same as Kaggle's test set size\n",
    "n_trn = len(df)-n_valid\n",
    "raw_train, raw_valid = split_vals(df_train, n_trn) #for using unprocessed data if needed.\n",
    "\n",
    "X_train, X_valid = split_vals(df, n_trn)\n",
    "y_train, y_valid = split_vals(y, n_trn)\n",
    "X_train.shape, X_valid.shape, y_train.shape, y_valid.shape"
   ]
  },
  {
   "cell_type": "code",
   "execution_count": 16,
   "metadata": {},
   "outputs": [
    {
     "name": "stderr",
     "output_type": "stream",
     "text": [
      "c:\\users\\ushuk\\appdata\\local\\programs\\python\\python37\\lib\\site-packages\\sklearn\\ensemble\\forest.py:245: FutureWarning: The default value of n_estimators will change from 10 in version 0.20 to 100 in 0.22.\n",
      "  \"10 in version 0.20 to 100 in 0.22.\", FutureWarning)\n"
     ]
    },
    {
     "name": "stdout",
     "output_type": "stream",
     "text": [
      "[0.09098603417953595, 0.2470126762262637, 0.9820079494844172, 0.8877450123421958]\n"
     ]
    }
   ],
   "source": [
    "#Run base model\n",
    "def rmse(x,y): \n",
    "    return math.sqrt(((x-y)**2).mean())\n",
    "\n",
    "def print_score(m):\n",
    "    res = [rmse(m.predict(X_train), y_train), rmse(m.predict(X_valid), y_valid),\n",
    "                m.score(X_train, y_train), m.score(X_valid, y_valid)]\n",
    "    if hasattr(m, 'oob_score_'): res.append(m.oob_score_)\n",
    "    print(res)\n",
    "    \n",
    "m = RandomForestRegressor(n_jobs=-1)\n",
    "m.fit(X_train, y_train)\n",
    "print_score(m)"
   ]
  },
  {
   "cell_type": "code",
   "execution_count": 17,
   "metadata": {},
   "outputs": [
    {
     "data": {
      "text/html": [
       "<div>\n",
       "<style scoped>\n",
       "    .dataframe tbody tr th:only-of-type {\n",
       "        vertical-align: middle;\n",
       "    }\n",
       "\n",
       "    .dataframe tbody tr th {\n",
       "        vertical-align: top;\n",
       "    }\n",
       "\n",
       "    .dataframe thead th {\n",
       "        text-align: right;\n",
       "    }\n",
       "</style>\n",
       "<table border=\"1\" class=\"dataframe\">\n",
       "  <thead>\n",
       "    <tr style=\"text-align: right;\">\n",
       "      <th></th>\n",
       "      <th>Feature</th>\n",
       "      <th>Importance</th>\n",
       "    </tr>\n",
       "  </thead>\n",
       "  <tbody>\n",
       "    <tr>\n",
       "      <td>37</td>\n",
       "      <td>Coupler_System</td>\n",
       "      <td>0.202387</td>\n",
       "    </tr>\n",
       "    <tr>\n",
       "      <td>64</td>\n",
       "      <td>age</td>\n",
       "      <td>0.163148</td>\n",
       "    </tr>\n",
       "    <tr>\n",
       "      <td>13</td>\n",
       "      <td>ProductSize</td>\n",
       "      <td>0.143216</td>\n",
       "    </tr>\n",
       "    <tr>\n",
       "      <td>14</td>\n",
       "      <td>fiProductClassDesc</td>\n",
       "      <td>0.129971</td>\n",
       "    </tr>\n",
       "    <tr>\n",
       "      <td>2</td>\n",
       "      <td>ModelID</td>\n",
       "      <td>0.075867</td>\n",
       "    </tr>\n",
       "    <tr>\n",
       "      <td>5</td>\n",
       "      <td>YearMade</td>\n",
       "      <td>0.052569</td>\n",
       "    </tr>\n",
       "    <tr>\n",
       "      <td>10</td>\n",
       "      <td>fiSecondaryDesc</td>\n",
       "      <td>0.031023</td>\n",
       "    </tr>\n",
       "    <tr>\n",
       "      <td>63</td>\n",
       "      <td>saleElapsed</td>\n",
       "      <td>0.027935</td>\n",
       "    </tr>\n",
       "    <tr>\n",
       "      <td>8</td>\n",
       "      <td>fiModelDesc</td>\n",
       "      <td>0.027013</td>\n",
       "    </tr>\n",
       "    <tr>\n",
       "      <td>0</td>\n",
       "      <td>SalesID</td>\n",
       "      <td>0.020556</td>\n",
       "    </tr>\n",
       "    <tr>\n",
       "      <td>9</td>\n",
       "      <td>fiBaseModel</td>\n",
       "      <td>0.014154</td>\n",
       "    </tr>\n",
       "    <tr>\n",
       "      <td>1</td>\n",
       "      <td>MachineID</td>\n",
       "      <td>0.012718</td>\n",
       "    </tr>\n",
       "    <tr>\n",
       "      <td>18</td>\n",
       "      <td>Drive_System</td>\n",
       "      <td>0.008997</td>\n",
       "    </tr>\n",
       "    <tr>\n",
       "      <td>15</td>\n",
       "      <td>state</td>\n",
       "      <td>0.008580</td>\n",
       "    </tr>\n",
       "    <tr>\n",
       "      <td>56</td>\n",
       "      <td>saleDayofyear</td>\n",
       "      <td>0.008426</td>\n",
       "    </tr>\n",
       "    <tr>\n",
       "      <td>19</td>\n",
       "      <td>Enclosure</td>\n",
       "      <td>0.008189</td>\n",
       "    </tr>\n",
       "    <tr>\n",
       "      <td>54</td>\n",
       "      <td>saleDay</td>\n",
       "      <td>0.008059</td>\n",
       "    </tr>\n",
       "    <tr>\n",
       "      <td>12</td>\n",
       "      <td>fiModelDescriptor</td>\n",
       "      <td>0.006518</td>\n",
       "    </tr>\n",
       "    <tr>\n",
       "      <td>11</td>\n",
       "      <td>fiModelSeries</td>\n",
       "      <td>0.005893</td>\n",
       "    </tr>\n",
       "    <tr>\n",
       "      <td>4</td>\n",
       "      <td>auctioneerID</td>\n",
       "      <td>0.004810</td>\n",
       "    </tr>\n",
       "    <tr>\n",
       "      <td>53</td>\n",
       "      <td>saleWeek</td>\n",
       "      <td>0.004305</td>\n",
       "    </tr>\n",
       "    <tr>\n",
       "      <td>55</td>\n",
       "      <td>saleDayofweek</td>\n",
       "      <td>0.004171</td>\n",
       "    </tr>\n",
       "    <tr>\n",
       "      <td>51</td>\n",
       "      <td>saleYear</td>\n",
       "      <td>0.002403</td>\n",
       "    </tr>\n",
       "    <tr>\n",
       "      <td>6</td>\n",
       "      <td>MachineHoursCurrentMeter</td>\n",
       "      <td>0.002204</td>\n",
       "    </tr>\n",
       "    <tr>\n",
       "      <td>47</td>\n",
       "      <td>Blade_Type</td>\n",
       "      <td>0.002010</td>\n",
       "    </tr>\n",
       "    <tr>\n",
       "      <td>35</td>\n",
       "      <td>Tire_Size</td>\n",
       "      <td>0.001859</td>\n",
       "    </tr>\n",
       "    <tr>\n",
       "      <td>52</td>\n",
       "      <td>saleMonth</td>\n",
       "      <td>0.001856</td>\n",
       "    </tr>\n",
       "    <tr>\n",
       "      <td>36</td>\n",
       "      <td>Coupler</td>\n",
       "      <td>0.001631</td>\n",
       "    </tr>\n",
       "    <tr>\n",
       "      <td>28</td>\n",
       "      <td>Enclosure_Type</td>\n",
       "      <td>0.001594</td>\n",
       "    </tr>\n",
       "    <tr>\n",
       "      <td>30</td>\n",
       "      <td>Hydraulics</td>\n",
       "      <td>0.001508</td>\n",
       "    </tr>\n",
       "  </tbody>\n",
       "</table>\n",
       "</div>"
      ],
      "text/plain": [
       "                     Feature  Importance\n",
       "37            Coupler_System    0.202387\n",
       "64                       age    0.163148\n",
       "13               ProductSize    0.143216\n",
       "14        fiProductClassDesc    0.129971\n",
       "2                    ModelID    0.075867\n",
       "5                   YearMade    0.052569\n",
       "10           fiSecondaryDesc    0.031023\n",
       "63               saleElapsed    0.027935\n",
       "8                fiModelDesc    0.027013\n",
       "0                    SalesID    0.020556\n",
       "9                fiBaseModel    0.014154\n",
       "1                  MachineID    0.012718\n",
       "18              Drive_System    0.008997\n",
       "15                     state    0.008580\n",
       "56             saleDayofyear    0.008426\n",
       "19                 Enclosure    0.008189\n",
       "54                   saleDay    0.008059\n",
       "12         fiModelDescriptor    0.006518\n",
       "11             fiModelSeries    0.005893\n",
       "4               auctioneerID    0.004810\n",
       "53                  saleWeek    0.004305\n",
       "55             saleDayofweek    0.004171\n",
       "51                  saleYear    0.002403\n",
       "6   MachineHoursCurrentMeter    0.002204\n",
       "47                Blade_Type    0.002010\n",
       "35                 Tire_Size    0.001859\n",
       "52                 saleMonth    0.001856\n",
       "36                   Coupler    0.001631\n",
       "28            Enclosure_Type    0.001594\n",
       "30                Hydraulics    0.001508"
      ]
     },
     "execution_count": 17,
     "metadata": {},
     "output_type": "execute_result"
    }
   ],
   "source": [
    "#Use the feature importance to find the most important ones\n",
    "feature_importance = pd.DataFrame({'Feature' : X_train.columns, 'Importance' : m.feature_importances_})\n",
    "feature_importance.sort_values('Importance', ascending=False, inplace=True)\n",
    "feature_importance.head(30)"
   ]
  },
  {
   "cell_type": "code",
   "execution_count": 18,
   "metadata": {},
   "outputs": [
    {
     "data": {
      "text/plain": [
       "<matplotlib.axes._subplots.AxesSubplot at 0x15aa57ee388>"
      ]
     },
     "execution_count": 18,
     "metadata": {},
     "output_type": "execute_result"
    },
    {
     "data": {
      "image/png": "[encoded data removed]",
      "text/plain": [
       "<Figure size 432x288 with 1 Axes>"
      ]
     },
     "metadata": {
      "needs_background": "light"
     },
     "output_type": "display_data"
    }
   ],
   "source": [
    "feature_importance.head(20).plot('Feature', 'Importance')"
   ]
  },
  {
   "cell_type": "code",
   "execution_count": 19,
   "metadata": {},
   "outputs": [
    {
     "name": "stdout",
     "output_type": "stream",
     "text": [
      "[0.07683863230107159, 0.22821954658464053, 0.9871681154914028, 0.9041763210122328, 0.9084326872757224]\n",
      "[0.07666476852715623, 0.22537774678840167, 0.9872261195381734, 0.9065478645262702, 0.9084955127682185]\n",
      "[0.0771113784647227, 0.22771753618712826, 0.9870768577818242, 0.9045974205772722, 0.9079392103789556]\n",
      "[0.07686204952190417, 0.2271732763276584, 0.9871602930496906, 0.9050529124528601, 0.9084208146065538]\n",
      "[0.07692978114836171, 0.22433097273386546, 0.9871376541163155, 0.907413931389678, 0.9083573515094189]\n",
      "[0.07719295943232016, 0.22429090820912517, 0.9870494989104527, 0.9074469993655218, 0.9074329236539512]\n",
      "[0.07759331769360675, 0.2232852801767929, 0.9869148160165127, 0.9082750778655548, 0.9064103988871454]\n",
      "[0.077522835173153, 0.22372374070462822, 0.9869385772860748, 0.9079144876366053, 0.9067496311533706]\n",
      "[0.07782358571041084, 0.22429795255811558, 0.9868370368898443, 0.9074411856133713, 0.9058354264064166]\n",
      "[0.07805610264522919, 0.2249427440224462, 0.9867582642666216, 0.9069082612977873, 0.9055259950133785]\n",
      "[0.0781026351460313, 0.2261104368133512, 0.986742471657962, 0.9059392618864115, 0.9052459754641276]\n",
      "[0.07814122563552782, 0.2263579608698905, 0.9867293673394825, 0.905733211786282, 0.9054720353680283]\n",
      "[0.08153117717133146, 0.23236087228869892, 0.9855529686274732, 0.9006670894821865, 0.8971464961934423]\n",
      "[0.0814787116935461, 0.22968909122159728, 0.9855715560329807, 0.9029382978141407, 0.8970063942901599]\n",
      "[0.081592718864086, 0.23077825440171543, 0.9855311504628924, 0.9020156011445379, 0.8967946197073585]\n",
      "[0.08141272964038553, 0.23001304428134137, 0.98559491508865, 0.9026643134544948, 0.8971852856349198]\n"
     ]
    }
   ],
   "source": [
    "for i in [0.0001, 0.0005, 0.0007, 0.0008, 0.001, 0.002, 0.003, 0.004, 0.005, 0.006, 0.007, 0.008, 0.009, 0.010, 0.011, 0.012]:\n",
    "    important_features = feature_importance[feature_importance['Importance'] > i]\n",
    "    df_important = df[important_features['Feature']]\n",
    "    X_train, X_valid = split_vals(df_important, n_trn)\n",
    "    y_train, y_valid = split_vals(y, n_trn)\n",
    "\n",
    "    m = RandomForestRegressor(n_estimators=40, max_features=0.5, n_jobs=-1, oob_score=True)\n",
    "    m.fit(X_train, y_train)\n",
    "    print_score(m)"
   ]
  },
  {
   "cell_type": "code",
   "execution_count": 46,
   "metadata": {},
   "outputs": [
    {
     "name": "stdout",
     "output_type": "stream",
     "text": [
      "22\n",
      "               Feature  Importance\n",
      "37      Coupler_System    0.202387\n",
      "64                 age    0.163148\n",
      "13         ProductSize    0.143216\n",
      "14  fiProductClassDesc    0.129971\n",
      "2              ModelID    0.075867\n",
      "5             YearMade    0.052569\n",
      "10     fiSecondaryDesc    0.031023\n",
      "63         saleElapsed    0.027935\n",
      "8          fiModelDesc    0.027013\n",
      "0              SalesID    0.020556\n",
      "9          fiBaseModel    0.014154\n",
      "1            MachineID    0.012718\n",
      "18        Drive_System    0.008997\n",
      "15               state    0.008580\n",
      "56       saleDayofyear    0.008426\n",
      "19           Enclosure    0.008189\n",
      "54             saleDay    0.008059\n",
      "12   fiModelDescriptor    0.006518\n",
      "11       fiModelSeries    0.005893\n",
      "4         auctioneerID    0.004810\n",
      "53            saleWeek    0.004305\n",
      "55       saleDayofweek    0.004171\n",
      "[0.07756444106643716, 0.22413158408728248, 0.9869245535990868, 0.9075784419488523, 0.9065029983477704]\n"
     ]
    }
   ],
   "source": [
    "#The best cut off point seems to be 0.005 when the RMSE score is 0.2232852801767929\n",
    "important_features = feature_importance[feature_importance['Importance'] > 0.003]\n",
    "\n",
    "print (len(important_features))\n",
    "print (important_features)\n",
    "\n",
    "df_important = df[important_features['Feature']]\n",
    "X_train, X_valid = split_vals(df_important, n_trn)\n",
    "y_train, y_valid = split_vals(y, n_trn)\n",
    "\n",
    "m = RandomForestRegressor(n_estimators=40, max_features=0.5, n_jobs=-1, oob_score=True)\n",
    "m.fit(X_train, y_train)\n",
    "print_score(m)"
   ]
  },
  {
   "cell_type": "markdown",
   "metadata": {},
   "source": [
    "# Checking different models on training Dataset"
   ]
  },
  {
   "cell_type": "code",
   "execution_count": 33,
   "metadata": {},
   "outputs": [],
   "source": [
    "df_train=pd.read_csv('Train/Train.csv', low_memory=False, parse_dates=['saledate'])\n",
    "df_valid = pd.read_csv('Valid/Valid.csv', low_memory=False, parse_dates=['saledate'])"
   ]
  },
  {
   "cell_type": "markdown",
   "metadata": {},
   "source": [
    "## Analysing 'ProductSize' against 'SalePrice' to create new features (Didn't work)"
   ]
  },
  {
   "cell_type": "code",
   "execution_count": 34,
   "metadata": {},
   "outputs": [
    {
     "name": "stdout",
     "output_type": "stream",
     "text": [
      "training shape (401125, 53)\n",
      "validation shape (11573, 52)\n",
      "[nan 'Medium' 'Small' 'Large / Medium' 'Mini' 'Large' 'Compact']\n",
      "(210775, 53)\n"
     ]
    },
    {
     "data": {
      "image/png": "[encoded data removed]",
      "text/plain": [
       "<Figure size 432x288 with 1 Axes>"
      ]
     },
     "metadata": {
      "needs_background": "light"
     },
     "output_type": "display_data"
    },
    {
     "data": {
      "image/png": "[encoded data removed]",
      "text/plain": [
       "<Figure size 432x288 with 1 Axes>"
      ]
     },
     "metadata": {
      "needs_background": "light"
     },
     "output_type": "display_data"
    },
    {
     "data": {
      "image/png": "[encoded data removed]",
      "text/plain": [
       "<Figure size 432x288 with 1 Axes>"
      ]
     },
     "metadata": {
      "needs_background": "light"
     },
     "output_type": "display_data"
    },
    {
     "data": {
      "image/png": "[encoded data removed]",
      "text/plain": [
       "<Figure size 432x288 with 1 Axes>"
      ]
     },
     "metadata": {
      "needs_background": "light"
     },
     "output_type": "display_data"
    },
    {
     "data": {
      "image/png": "[encoded data removed]",
      "text/plain": [
       "<Figure size 432x288 with 1 Axes>"
      ]
     },
     "metadata": {
      "needs_background": "light"
     },
     "output_type": "display_data"
    }
   ],
   "source": [
    "print('training shape',df_train.shape)\n",
    "print('validation shape', df_valid.shape)\n",
    "#print (df_train['Coupler_System'].unique())\n",
    "print (df_train['ProductSize'].unique())\n",
    "\n",
    "df_train['ProductSize'].value_counts().plot(kind='bar')\n",
    "\n",
    "\n",
    "df_nn=df_train[df_train['ProductSize'].isnull()]\n",
    "df_med=df_train[df_train['ProductSize']=='Medium']\n",
    "df_large=df_train[df_train['ProductSize']=='Large']\n",
    "df_small=df_train[df_train['ProductSize']=='Small']\n",
    "df_lm=df_train[df_train['ProductSize']=='Large / Medium']\n",
    "df_compact=df_train[df_train['ProductSize']=='Compact']\n",
    "\n",
    "\n",
    "df_nn.hist(column='SalePrice',bins=100)\n",
    "df_med.hist(column='SalePrice',bins=100)\n",
    "df_large.hist(column='SalePrice',bins=100)\n",
    "df_small.hist(column='SalePrice',bins=100)\n",
    "\n",
    "print (df_nn.shape)"
   ]
  },
  {
   "cell_type": "code",
   "execution_count": 35,
   "metadata": {},
   "outputs": [
    {
     "name": "stdout",
     "output_type": "stream",
     "text": [
      "training shape (397605, 53)\n"
     ]
    }
   ],
   "source": [
    "df_train = df_train[df_train['SalePrice'] < 110000]\n",
    "print('training shape',df_train.shape)"
   ]
  },
  {
   "cell_type": "markdown",
   "metadata": {},
   "source": [
    "## Analysing 'Coupler_System' against 'SalePrice' to create new features (Didn't work)"
   ]
  },
  {
   "cell_type": "code",
   "execution_count": 36,
   "metadata": {},
   "outputs": [
    {
     "name": "stdout",
     "output_type": "stream",
     "text": [
      "32739.996814881957\n",
      "26000.0\n",
      "(354147, 53)\n",
      "(67093, 53)\n",
      "11256.263589346132\n",
      "11100.0\n"
     ]
    },
    {
     "data": {
      "image/png": "[encoded data removed]",
      "text/plain": [
       "<Figure size 432x288 with 1 Axes>"
      ]
     },
     "metadata": {
      "needs_background": "light"
     },
     "output_type": "display_data"
    }
   ],
   "source": [
    "df_coupler=df_train[df_train['Coupler_System'].isnull()]\n",
    "\n",
    "print (df_coupler.SalePrice.mean())\n",
    "print (df_coupler.SalePrice.median())\n",
    "df_coupler.hist(column='SalePrice',bins=100)\n",
    "print (df_coupler.shape)\n",
    "df_coupler = df_coupler[df_coupler['SalePrice'] < 15000]\n",
    "print (df_coupler.shape)\n",
    "print (df_coupler.SalePrice.mean())\n",
    "print (df_coupler.SalePrice.median())"
   ]
  },
  {
   "cell_type": "code",
   "execution_count": 37,
   "metadata": {},
   "outputs": [
    {
     "name": "stdout",
     "output_type": "stream",
     "text": [
      "10470.911550828592\n",
      "10000.0\n"
     ]
    },
    {
     "data": {
      "text/plain": [
       "array([[<matplotlib.axes._subplots.AxesSubplot object at 0x0000020502608088>]],\n",
       "      dtype=object)"
      ]
     },
     "execution_count": 37,
     "metadata": {},
     "output_type": "execute_result"
    },
    {
     "data": {
      "image/png": "[encoded data removed]",
      "text/plain": [
       "<Figure size 432x288 with 1 Axes>"
      ]
     },
     "metadata": {
      "needs_background": "light"
     },
     "output_type": "display_data"
    }
   ],
   "source": [
    "df_coupler=df_train[df_train['Coupler_System']=='None or Unspecified']\n",
    "\n",
    "print (df_coupler.SalePrice.mean())\n",
    "print (df_coupler.SalePrice.median())\n",
    "df_coupler.hist(column='SalePrice',bins=100)"
   ]
  },
  {
   "cell_type": "code",
   "execution_count": 38,
   "metadata": {},
   "outputs": [
    {
     "name": "stdout",
     "output_type": "stream",
     "text": [
      "11591.859313077939\n",
      "11500.0\n"
     ]
    },
    {
     "data": {
      "text/plain": [
       "array([[<matplotlib.axes._subplots.AxesSubplot object at 0x00000205008CC448>]],\n",
       "      dtype=object)"
      ]
     },
     "execution_count": 38,
     "metadata": {},
     "output_type": "execute_result"
    },
    {
     "data": {
      "image/png": "[encoded data removed]",
      "text/plain": [
       "<Figure size 432x288 with 1 Axes>"
      ]
     },
     "metadata": {
      "needs_background": "light"
     },
     "output_type": "display_data"
    }
   ],
   "source": [
    "df_coupler=df_train[df_train['Coupler_System']=='Yes']\n",
    "\n",
    "print (df_coupler.SalePrice.mean())\n",
    "print (df_coupler.SalePrice.median())\n",
    "df_coupler.hist(column='SalePrice',bins=100)"
   ]
  },
  {
   "cell_type": "code",
   "execution_count": 39,
   "metadata": {},
   "outputs": [],
   "source": [
    "#converting saleprice to log scale\n",
    "y = np.log(df_train['SalePrice'])\n",
    "df_train = df_train.drop('SalePrice', axis=1)"
   ]
  },
  {
   "cell_type": "code",
   "execution_count": 40,
   "metadata": {},
   "outputs": [],
   "source": [
    "df_train_valid = df_train.append(df_valid)"
   ]
  },
  {
   "cell_type": "code",
   "execution_count": 41,
   "metadata": {},
   "outputs": [
    {
     "data": {
      "text/plain": [
       "(409178, 52)"
      ]
     },
     "execution_count": 41,
     "metadata": {},
     "output_type": "execute_result"
    }
   ],
   "source": [
    "df_train_valid.shape"
   ]
  },
  {
   "cell_type": "code",
   "execution_count": 42,
   "metadata": {},
   "outputs": [],
   "source": [
    "# same add_datepart function as used for creating baseline model\n",
    "def add_datepart(df, fldname, drop=True, time=False):\n",
    "    fld = df[fldname]\n",
    "    fld_dtype = fld.dtype\n",
    "    if isinstance(fld_dtype, pd.core.dtypes.dtypes.DatetimeTZDtype):\n",
    "        fld_dtype = np.datetime64\n",
    "\n",
    "    if not np.issubdtype(fld_dtype, np.datetime64):\n",
    "        df[fldname] = fld = pd.to_datetime(fld, infer_datetime_format=True)\n",
    "    targ_pre = re.sub('[Dd]ate$', '', fldname)\n",
    "    attr = ['Year', 'Month', 'Week', 'Day', 'Dayofweek', 'Dayofyear',\n",
    "            'Is_month_end', 'Is_month_start', 'Is_quarter_end', 'Is_quarter_start', 'Is_year_end', 'Is_year_start']\n",
    "    if time: attr = attr + ['Hour', 'Minute', 'Second']\n",
    "    for n in attr: df[targ_pre + n] = getattr(fld.dt, n.lower())\n",
    "    df[targ_pre + 'Elapsed'] = fld.astype(np.int64) // 10 ** 9\n",
    "    if drop: df.drop(fldname, axis=1, inplace=True)\n",
    "\n",
    "        \n",
    "add_datepart(df_train_valid, 'saledate')"
   ]
  },
  {
   "cell_type": "code",
   "execution_count": 43,
   "metadata": {},
   "outputs": [],
   "source": [
    "df_train_valid['age'] = df_train_valid['saleYear'] - df_train_valid['YearMade'] "
   ]
  },
  {
   "cell_type": "code",
   "execution_count": 44,
   "metadata": {},
   "outputs": [],
   "source": [
    "for n,c in df_train_valid.items():\n",
    "    if is_string_dtype(c): \n",
    "        #print (n)\n",
    "        df_train_valid[n] = c.astype('category').cat.as_ordered()"
   ]
  },
  {
   "cell_type": "code",
   "execution_count": 45,
   "metadata": {},
   "outputs": [],
   "source": [
    "#Specify order for variable UsageBand and change to codes\n",
    "df_train_valid.UsageBand.cat.set_categories(['High', 'Medium', 'Low'], ordered=True, inplace=True)\n",
    "df_train_valid.UsageBand = df_train_valid.UsageBand.cat.codes"
   ]
  },
  {
   "cell_type": "code",
   "execution_count": 46,
   "metadata": {},
   "outputs": [],
   "source": [
    "#Change other categories into codes and replace NaNs with 0.\n",
    "cat_cols = list(df_train_valid.select_dtypes(include=['category']).columns)  #Above UsageType is changed to Int \n",
    "for col in cat_cols:\n",
    "    s = df_train_valid[col] \n",
    "    df_train_valid[col] = s.cat.codes+1\n"
   ]
  },
  {
   "cell_type": "code",
   "execution_count": 47,
   "metadata": {},
   "outputs": [],
   "source": [
    "#Replace the NaNs for the numerical column with mean and -1 (-1 gave better results than mean/median in auctioneerID)\n",
    "df_train_valid['auctioneerID'].fillna(-1, inplace=True) \n",
    "df_train_valid['MachineHoursCurrentMeter'].fillna(df_train_valid['MachineHoursCurrentMeter'].median(), inplace=True)"
   ]
  },
  {
   "cell_type": "code",
   "execution_count": 48,
   "metadata": {},
   "outputs": [
    {
     "data": {
      "text/plain": [
       "SalesID                 0\n",
       "MachineID               0\n",
       "ModelID                 0\n",
       "datasource              0\n",
       "auctioneerID            0\n",
       "                       ..\n",
       "saleIs_quarter_start    0\n",
       "saleIs_year_end         0\n",
       "saleIs_year_start       0\n",
       "saleElapsed             0\n",
       "age                     0\n",
       "Length: 65, dtype: int64"
      ]
     },
     "execution_count": 48,
     "metadata": {},
     "output_type": "execute_result"
    }
   ],
   "source": [
    "df_train_valid.isnull().sum()"
   ]
  },
  {
   "cell_type": "code",
   "execution_count": 49,
   "metadata": {},
   "outputs": [
    {
     "data": {
      "text/plain": [
       "(409178, 65)"
      ]
     },
     "execution_count": 49,
     "metadata": {},
     "output_type": "execute_result"
    }
   ],
   "source": [
    "df_train_valid.head()\n",
    "df_train_valid.shape"
   ]
  },
  {
   "cell_type": "markdown",
   "metadata": {},
   "source": [
    "###  One hot encoding the ProductSize feature decreased the RMSLE score"
   ]
  },
  {
   "cell_type": "code",
   "execution_count": 50,
   "metadata": {},
   "outputs": [],
   "source": [
    "#df_ps = pd.get_dummies(df_train_valid['ProductSize'], prefix = 'PS')"
   ]
  },
  {
   "cell_type": "code",
   "execution_count": 51,
   "metadata": {},
   "outputs": [],
   "source": [
    "#df_ps.shape\n",
    "#df_train_valid = pd.concat([df_train_valid, df_ps], axis=1)\n",
    "#df_train_valid.shape"
   ]
  },
  {
   "cell_type": "code",
   "execution_count": 52,
   "metadata": {},
   "outputs": [],
   "source": [
    "#df_train_valid=df_train_valid.drop(columns=['ProductSize'])\n"
   ]
  },
  {
   "cell_type": "code",
   "execution_count": 24,
   "metadata": {},
   "outputs": [],
   "source": [
    "\n",
    "#labels=['age', 'ProductSize', 'fiProductClassDesc', 'ModelID', 'YearMade',\n",
    "   #    'fiSecondaryDesc', 'saleElapsed', 'SalesID', 'fiBaseModel', 'Enclosure',\n",
    "    #   'saleDayofyear', 'saleDay']\n",
    "\n",
    "#df_train_valid = df_train_valid[df_important.columns]\n",
    "#df_train_valid = df_train_valid[labels]\n",
    "#Separate the training and validation sets\n",
    "df_valid = df_train_valid.tail(11573)\n",
    "df_train = df_train_valid.head(397605)"
   ]
  },
  {
   "cell_type": "code",
   "execution_count": 25,
   "metadata": {},
   "outputs": [
    {
     "name": "stdout",
     "output_type": "stream",
     "text": [
      "(11573, 65)\n",
      "(397605, 65)\n"
     ]
    }
   ],
   "source": [
    "print (df_valid.shape)\n",
    "print (df_train.shape)"
   ]
  },
  {
   "cell_type": "markdown",
   "metadata": {},
   "source": [
    "### Random Forest model using all features"
   ]
  },
  {
   "cell_type": "code",
   "execution_count": 26,
   "metadata": {},
   "outputs": [
    {
     "data": {
      "text/plain": [
       "RandomForestRegressor(bootstrap=True, criterion='mse', max_depth=None,\n",
       "                      max_features=0.5, max_leaf_nodes=None,\n",
       "                      min_impurity_decrease=0.0, min_impurity_split=None,\n",
       "                      min_samples_leaf=1, min_samples_split=2,\n",
       "                      min_weight_fraction_leaf=0.0, n_estimators=160, n_jobs=-1,\n",
       "                      oob_score=True, random_state=None, verbose=0,\n",
       "                      warm_start=False)"
      ]
     },
     "execution_count": 26,
     "metadata": {},
     "output_type": "execute_result"
    }
   ],
   "source": [
    "m = RandomForestRegressor(n_estimators=160, max_features=0.5, n_jobs=-1, oob_score=True)\n",
    "m.fit(df_train, y) "
   ]
  },
  {
   "cell_type": "code",
   "execution_count": 27,
   "metadata": {},
   "outputs": [],
   "source": [
    "#Import the validation solution\n",
    "solution = pd.read_csv('ValidSolution.csv', low_memory=False)\n",
    "y_actual = np.log(solution.SalePrice)     "
   ]
  },
  {
   "cell_type": "code",
   "execution_count": 28,
   "metadata": {},
   "outputs": [
    {
     "data": {
      "text/plain": [
       "0.24668083100145405"
      ]
     },
     "execution_count": 28,
     "metadata": {},
     "output_type": "execute_result"
    }
   ],
   "source": [
    "def rmse(x,y): \n",
    "    return math.sqrt(((x-y)**2).mean())\n",
    "\n",
    "rmse(m.predict(df_valid), y_actual)"
   ]
  },
  {
   "cell_type": "code",
   "execution_count": 29,
   "metadata": {},
   "outputs": [
    {
     "data": {
      "text/html": [
       "<div>\n",
       "<style scoped>\n",
       "    .dataframe tbody tr th:only-of-type {\n",
       "        vertical-align: middle;\n",
       "    }\n",
       "\n",
       "    .dataframe tbody tr th {\n",
       "        vertical-align: top;\n",
       "    }\n",
       "\n",
       "    .dataframe thead th {\n",
       "        text-align: right;\n",
       "    }\n",
       "</style>\n",
       "<table border=\"1\" class=\"dataframe\">\n",
       "  <thead>\n",
       "    <tr style=\"text-align: right;\">\n",
       "      <th></th>\n",
       "      <th>Feature</th>\n",
       "      <th>Importance</th>\n",
       "    </tr>\n",
       "  </thead>\n",
       "  <tbody>\n",
       "    <tr>\n",
       "      <td>64</td>\n",
       "      <td>age</td>\n",
       "      <td>0.136732</td>\n",
       "    </tr>\n",
       "    <tr>\n",
       "      <td>13</td>\n",
       "      <td>ProductSize</td>\n",
       "      <td>0.119302</td>\n",
       "    </tr>\n",
       "    <tr>\n",
       "      <td>37</td>\n",
       "      <td>Coupler_System</td>\n",
       "      <td>0.097073</td>\n",
       "    </tr>\n",
       "    <tr>\n",
       "      <td>14</td>\n",
       "      <td>fiProductClassDesc</td>\n",
       "      <td>0.085298</td>\n",
       "    </tr>\n",
       "    <tr>\n",
       "      <td>5</td>\n",
       "      <td>YearMade</td>\n",
       "      <td>0.073176</td>\n",
       "    </tr>\n",
       "    <tr>\n",
       "      <td>2</td>\n",
       "      <td>ModelID</td>\n",
       "      <td>0.058942</td>\n",
       "    </tr>\n",
       "    <tr>\n",
       "      <td>38</td>\n",
       "      <td>Grouser_Tracks</td>\n",
       "      <td>0.050028</td>\n",
       "    </tr>\n",
       "    <tr>\n",
       "      <td>39</td>\n",
       "      <td>Hydraulics_Flow</td>\n",
       "      <td>0.039185</td>\n",
       "    </tr>\n",
       "    <tr>\n",
       "      <td>10</td>\n",
       "      <td>fiSecondaryDesc</td>\n",
       "      <td>0.036134</td>\n",
       "    </tr>\n",
       "    <tr>\n",
       "      <td>8</td>\n",
       "      <td>fiModelDesc</td>\n",
       "      <td>0.030030</td>\n",
       "    </tr>\n",
       "    <tr>\n",
       "      <td>19</td>\n",
       "      <td>Enclosure</td>\n",
       "      <td>0.027401</td>\n",
       "    </tr>\n",
       "    <tr>\n",
       "      <td>63</td>\n",
       "      <td>saleElapsed</td>\n",
       "      <td>0.026213</td>\n",
       "    </tr>\n",
       "    <tr>\n",
       "      <td>9</td>\n",
       "      <td>fiBaseModel</td>\n",
       "      <td>0.023604</td>\n",
       "    </tr>\n",
       "    <tr>\n",
       "      <td>0</td>\n",
       "      <td>SalesID</td>\n",
       "      <td>0.021724</td>\n",
       "    </tr>\n",
       "    <tr>\n",
       "      <td>12</td>\n",
       "      <td>fiModelDescriptor</td>\n",
       "      <td>0.016885</td>\n",
       "    </tr>\n",
       "    <tr>\n",
       "      <td>17</td>\n",
       "      <td>ProductGroupDesc</td>\n",
       "      <td>0.015251</td>\n",
       "    </tr>\n",
       "    <tr>\n",
       "      <td>1</td>\n",
       "      <td>MachineID</td>\n",
       "      <td>0.013372</td>\n",
       "    </tr>\n",
       "    <tr>\n",
       "      <td>16</td>\n",
       "      <td>ProductGroup</td>\n",
       "      <td>0.011674</td>\n",
       "    </tr>\n",
       "    <tr>\n",
       "      <td>30</td>\n",
       "      <td>Hydraulics</td>\n",
       "      <td>0.011020</td>\n",
       "    </tr>\n",
       "    <tr>\n",
       "      <td>51</td>\n",
       "      <td>saleYear</td>\n",
       "      <td>0.008959</td>\n",
       "    </tr>\n",
       "    <tr>\n",
       "      <td>56</td>\n",
       "      <td>saleDayofyear</td>\n",
       "      <td>0.008352</td>\n",
       "    </tr>\n",
       "    <tr>\n",
       "      <td>15</td>\n",
       "      <td>state</td>\n",
       "      <td>0.007839</td>\n",
       "    </tr>\n",
       "    <tr>\n",
       "      <td>18</td>\n",
       "      <td>Drive_System</td>\n",
       "      <td>0.007814</td>\n",
       "    </tr>\n",
       "    <tr>\n",
       "      <td>54</td>\n",
       "      <td>saleDay</td>\n",
       "      <td>0.007491</td>\n",
       "    </tr>\n",
       "    <tr>\n",
       "      <td>53</td>\n",
       "      <td>saleWeek</td>\n",
       "      <td>0.005922</td>\n",
       "    </tr>\n",
       "    <tr>\n",
       "      <td>35</td>\n",
       "      <td>Tire_Size</td>\n",
       "      <td>0.005289</td>\n",
       "    </tr>\n",
       "    <tr>\n",
       "      <td>40</td>\n",
       "      <td>Track_Type</td>\n",
       "      <td>0.005028</td>\n",
       "    </tr>\n",
       "    <tr>\n",
       "      <td>4</td>\n",
       "      <td>auctioneerID</td>\n",
       "      <td>0.004715</td>\n",
       "    </tr>\n",
       "    <tr>\n",
       "      <td>11</td>\n",
       "      <td>fiModelSeries</td>\n",
       "      <td>0.004632</td>\n",
       "    </tr>\n",
       "    <tr>\n",
       "      <td>55</td>\n",
       "      <td>saleDayofweek</td>\n",
       "      <td>0.004035</td>\n",
       "    </tr>\n",
       "  </tbody>\n",
       "</table>\n",
       "</div>"
      ],
      "text/plain": [
       "               Feature  Importance\n",
       "64                 age    0.136732\n",
       "13         ProductSize    0.119302\n",
       "37      Coupler_System    0.097073\n",
       "14  fiProductClassDesc    0.085298\n",
       "5             YearMade    0.073176\n",
       "2              ModelID    0.058942\n",
       "38      Grouser_Tracks    0.050028\n",
       "39     Hydraulics_Flow    0.039185\n",
       "10     fiSecondaryDesc    0.036134\n",
       "8          fiModelDesc    0.030030\n",
       "19           Enclosure    0.027401\n",
       "63         saleElapsed    0.026213\n",
       "9          fiBaseModel    0.023604\n",
       "0              SalesID    0.021724\n",
       "12   fiModelDescriptor    0.016885\n",
       "17    ProductGroupDesc    0.015251\n",
       "1            MachineID    0.013372\n",
       "16        ProductGroup    0.011674\n",
       "30          Hydraulics    0.011020\n",
       "51            saleYear    0.008959\n",
       "56       saleDayofyear    0.008352\n",
       "15               state    0.007839\n",
       "18        Drive_System    0.007814\n",
       "54             saleDay    0.007491\n",
       "53            saleWeek    0.005922\n",
       "35           Tire_Size    0.005289\n",
       "40          Track_Type    0.005028\n",
       "4         auctioneerID    0.004715\n",
       "11       fiModelSeries    0.004632\n",
       "55       saleDayofweek    0.004035"
      ]
     },
     "execution_count": 29,
     "metadata": {},
     "output_type": "execute_result"
    }
   ],
   "source": [
    "#Use the feature importance to find the most important ones\n",
    "feature_importance_valid = pd.DataFrame({'Feature' : df_train.columns, 'Importance' : m.feature_importances_})\n",
    "feature_importance_valid.sort_values('Importance', ascending=False, inplace=True)\n",
    "feature_importance_valid.head(30)"
   ]
  },
  {
   "cell_type": "code",
   "execution_count": 30,
   "metadata": {},
   "outputs": [
    {
     "data": {
      "text/html": [
       "<div>\n",
       "<style scoped>\n",
       "    .dataframe tbody tr th:only-of-type {\n",
       "        vertical-align: middle;\n",
       "    }\n",
       "\n",
       "    .dataframe tbody tr th {\n",
       "        vertical-align: top;\n",
       "    }\n",
       "\n",
       "    .dataframe thead th {\n",
       "        text-align: right;\n",
       "    }\n",
       "</style>\n",
       "<table border=\"1\" class=\"dataframe\">\n",
       "  <thead>\n",
       "    <tr style=\"text-align: right;\">\n",
       "      <th></th>\n",
       "      <th>Feature</th>\n",
       "      <th>Importance</th>\n",
       "    </tr>\n",
       "  </thead>\n",
       "  <tbody>\n",
       "    <tr>\n",
       "      <td>64</td>\n",
       "      <td>age</td>\n",
       "      <td>1.367316e-01</td>\n",
       "    </tr>\n",
       "    <tr>\n",
       "      <td>13</td>\n",
       "      <td>ProductSize</td>\n",
       "      <td>1.193015e-01</td>\n",
       "    </tr>\n",
       "    <tr>\n",
       "      <td>37</td>\n",
       "      <td>Coupler_System</td>\n",
       "      <td>9.707310e-02</td>\n",
       "    </tr>\n",
       "    <tr>\n",
       "      <td>14</td>\n",
       "      <td>fiProductClassDesc</td>\n",
       "      <td>8.529840e-02</td>\n",
       "    </tr>\n",
       "    <tr>\n",
       "      <td>5</td>\n",
       "      <td>YearMade</td>\n",
       "      <td>7.317593e-02</td>\n",
       "    </tr>\n",
       "    <tr>\n",
       "      <td>...</td>\n",
       "      <td>...</td>\n",
       "      <td>...</td>\n",
       "    </tr>\n",
       "    <tr>\n",
       "      <td>58</td>\n",
       "      <td>saleIs_month_start</td>\n",
       "      <td>2.266842e-04</td>\n",
       "    </tr>\n",
       "    <tr>\n",
       "      <td>59</td>\n",
       "      <td>saleIs_quarter_end</td>\n",
       "      <td>1.981838e-04</td>\n",
       "    </tr>\n",
       "    <tr>\n",
       "      <td>60</td>\n",
       "      <td>saleIs_quarter_start</td>\n",
       "      <td>1.388213e-04</td>\n",
       "    </tr>\n",
       "    <tr>\n",
       "      <td>61</td>\n",
       "      <td>saleIs_year_end</td>\n",
       "      <td>4.365713e-09</td>\n",
       "    </tr>\n",
       "    <tr>\n",
       "      <td>62</td>\n",
       "      <td>saleIs_year_start</td>\n",
       "      <td>0.000000e+00</td>\n",
       "    </tr>\n",
       "  </tbody>\n",
       "</table>\n",
       "<p>65 rows × 2 columns</p>\n",
       "</div>"
      ],
      "text/plain": [
       "                 Feature    Importance\n",
       "64                   age  1.367316e-01\n",
       "13           ProductSize  1.193015e-01\n",
       "37        Coupler_System  9.707310e-02\n",
       "14    fiProductClassDesc  8.529840e-02\n",
       "5               YearMade  7.317593e-02\n",
       "..                   ...           ...\n",
       "58    saleIs_month_start  2.266842e-04\n",
       "59    saleIs_quarter_end  1.981838e-04\n",
       "60  saleIs_quarter_start  1.388213e-04\n",
       "61       saleIs_year_end  4.365713e-09\n",
       "62     saleIs_year_start  0.000000e+00\n",
       "\n",
       "[65 rows x 2 columns]"
      ]
     },
     "execution_count": 30,
     "metadata": {},
     "output_type": "execute_result"
    }
   ],
   "source": [
    "feature_importance_valid"
   ]
  },
  {
   "cell_type": "markdown",
   "metadata": {},
   "source": [
    "## Random forest using features extracted from the importance scores from baseline model"
   ]
  },
  {
   "cell_type": "code",
   "execution_count": 72,
   "metadata": {},
   "outputs": [],
   "source": [
    "\n",
    "#labels=['age', 'ProductSize', 'fiProductClassDesc', 'ModelID', 'YearMade',\n",
    "   #    'fiSecondaryDesc', 'saleElapsed', 'SalesID', 'fiBaseModel', 'Enclosure',\n",
    "    #   'saleDayofyear', 'saleDay']\n",
    "\n",
    "df_train_valid = df_train_valid[df_important.columns]\n",
    "#df_train_valid = df_train_valid[labels]\n",
    "#Separate the training and validation sets\n",
    "df_valid = df_train_valid.tail(11573)\n",
    "df_train = df_train_valid.head(397605)"
   ]
  },
  {
   "cell_type": "code",
   "execution_count": 73,
   "metadata": {},
   "outputs": [
    {
     "name": "stdout",
     "output_type": "stream",
     "text": [
      "0.2486030621721911\n"
     ]
    }
   ],
   "source": [
    "m = RandomForestRegressor(n_estimators=160, max_features=0.5, n_jobs=-1, oob_score=True)\n",
    "m.fit(df_train, y) \n",
    "print(rmse(m.predict(df_valid), y_actual))\n"
   ]
  },
  {
   "cell_type": "code",
   "execution_count": 53,
   "metadata": {},
   "outputs": [
    {
     "data": {
      "text/plain": [
       "(409178, 65)"
      ]
     },
     "execution_count": 53,
     "metadata": {},
     "output_type": "execute_result"
    }
   ],
   "source": [
    "df_train_valid.shape"
   ]
  },
  {
   "cell_type": "markdown",
   "metadata": {},
   "source": [
    "## Using feature importance scores from the previous model"
   ]
  },
  {
   "cell_type": "code",
   "execution_count": 54,
   "metadata": {},
   "outputs": [
    {
     "name": "stdout",
     "output_type": "stream",
     "text": [
      "0.24707065922813223\n",
      "0.24750963642986007\n",
      "0.2473066904969417\n",
      "0.24669681624944612\n",
      "0.24692309875682228\n",
      "0.24690487282202364\n",
      "0.2487750428309561\n",
      "0.24877707491625375\n",
      "0.24878593626081008\n",
      "0.2499025341583965\n",
      "0.24996727989969864\n",
      "0.2498795867960829\n",
      "0.258524686359654\n",
      "0.25904043903817975\n",
      "0.2581712195101032\n",
      "0.25880996797399997\n"
     ]
    }
   ],
   "source": [
    "for i in [0.0001, 0.0005, 0.0007, 0.0008, 0.001, 0.002, 0.003, 0.004, 0.005, 0.006, 0.007, 0.008, 0.009, 0.010, 0.011, 0.012]:\n",
    "    important_features_valid = feature_importance_valid[feature_importance_valid['Importance'] > i]\n",
    "    df_train_valid_iter = df_train_valid[important_features_valid['Feature']]\n",
    "    \n",
    "    df_valid = df_train_valid_iter.tail(11573)\n",
    "    df_train = df_train_valid_iter.head(397605)\n",
    "    \n",
    "    m_iter = RandomForestRegressor(n_estimators=160, max_features=0.5, n_jobs=-1, oob_score=True)\n",
    "    m_iter.fit(df_train, y)\n",
    "    print(rmse(m_iter.predict(df_valid), y_actual))"
   ]
  },
  {
   "cell_type": "code",
   "execution_count": 57,
   "metadata": {},
   "outputs": [
    {
     "name": "stdout",
     "output_type": "stream",
     "text": [
      "50\n",
      "                     Feature  Importance\n",
      "64                       age    0.136732\n",
      "13               ProductSize    0.119302\n",
      "37            Coupler_System    0.097073\n",
      "14        fiProductClassDesc    0.085298\n",
      "5                   YearMade    0.073176\n",
      "2                    ModelID    0.058942\n",
      "38            Grouser_Tracks    0.050028\n",
      "39           Hydraulics_Flow    0.039185\n",
      "10           fiSecondaryDesc    0.036134\n",
      "8                fiModelDesc    0.030030\n",
      "19                 Enclosure    0.027401\n",
      "63               saleElapsed    0.026213\n",
      "9                fiBaseModel    0.023604\n",
      "0                    SalesID    0.021724\n",
      "12         fiModelDescriptor    0.016885\n",
      "17          ProductGroupDesc    0.015251\n",
      "1                  MachineID    0.013372\n",
      "16              ProductGroup    0.011674\n",
      "30                Hydraulics    0.011020\n",
      "51                  saleYear    0.008959\n",
      "56             saleDayofyear    0.008352\n",
      "15                     state    0.007839\n",
      "18              Drive_System    0.007814\n",
      "54                   saleDay    0.007491\n",
      "53                  saleWeek    0.005922\n",
      "35                 Tire_Size    0.005289\n",
      "40                Track_Type    0.005028\n",
      "4               auctioneerID    0.004715\n",
      "11             fiModelSeries    0.004632\n",
      "55             saleDayofweek    0.004035\n",
      "42              Stick_Length    0.003634\n",
      "52                 saleMonth    0.003063\n",
      "32                    Ripper    0.002419\n",
      "6   MachineHoursCurrentMeter    0.002376\n",
      "47                Blade_Type    0.002292\n",
      "48           Travel_Controls    0.001614\n",
      "36                   Coupler    0.001593\n",
      "27               Blade_Width    0.001476\n",
      "21                  Pad_Type    0.001446\n",
      "31                 Pushblock    0.001358\n",
      "41   Undercarriage_Pad_Width    0.001190\n",
      "24              Transmission    0.001163\n",
      "34               Tip_Control    0.001140\n",
      "7                  UsageBand    0.001047\n",
      "33                 Scarifier    0.001022\n",
      "3                 datasource    0.000941\n",
      "23                     Stick    0.000934\n",
      "29         Engine_Horsepower    0.000927\n",
      "25              Turbocharged    0.000927\n",
      "28            Enclosure_Type    0.000865\n"
     ]
    }
   ],
   "source": [
    "# we can see best RMSLE score is for 0.0008\n",
    "important_features_valid = feature_importance_valid[feature_importance_valid['Importance'] > 0.0008]\n",
    "\n",
    "print (len(important_features_valid))\n",
    "print (important_features_valid)\n"
   ]
  },
  {
   "cell_type": "code",
   "execution_count": 60,
   "metadata": {},
   "outputs": [],
   "source": [
    "\n",
    "from lightgbm import LGBMRegressor\n"
   ]
  },
  {
   "cell_type": "markdown",
   "metadata": {},
   "source": [
    "## Using LightGBM"
   ]
  },
  {
   "cell_type": "code",
   "execution_count": 59,
   "metadata": {},
   "outputs": [
    {
     "name": "stdout",
     "output_type": "stream",
     "text": [
      "[1]\ttraining's rmse: 0.636085\ttraining's l2: 0.404604\tvalid_1's rmse: 0.694373\tvalid_1's l2: 0.482153\n",
      "Training until validation scores don't improve for 30 rounds\n",
      "[2]\ttraining's rmse: 0.606089\ttraining's l2: 0.367344\tvalid_1's rmse: 0.660593\tvalid_1's l2: 0.436384\n",
      "[3]\ttraining's rmse: 0.578188\ttraining's l2: 0.334301\tvalid_1's rmse: 0.628667\tvalid_1's l2: 0.395222\n",
      "[4]\ttraining's rmse: 0.544312\ttraining's l2: 0.296275\tvalid_1's rmse: 0.598287\tvalid_1's l2: 0.357947\n",
      "[5]\ttraining's rmse: 0.520053\ttraining's l2: 0.270455\tvalid_1's rmse: 0.56972\tvalid_1's l2: 0.324581\n",
      "[6]\ttraining's rmse: 0.494879\ttraining's l2: 0.244905\tvalid_1's rmse: 0.549102\tvalid_1's l2: 0.301513\n",
      "[7]\ttraining's rmse: 0.469769\ttraining's l2: 0.220683\tvalid_1's rmse: 0.525722\tvalid_1's l2: 0.276384\n",
      "[8]\ttraining's rmse: 0.454125\ttraining's l2: 0.206229\tvalid_1's rmse: 0.506939\tvalid_1's l2: 0.256987\n",
      "[9]\ttraining's rmse: 0.436343\ttraining's l2: 0.190395\tvalid_1's rmse: 0.49089\tvalid_1's l2: 0.240973\n",
      "[10]\ttraining's rmse: 0.42015\ttraining's l2: 0.176526\tvalid_1's rmse: 0.473299\tvalid_1's l2: 0.224012\n",
      "[11]\ttraining's rmse: 0.407732\ttraining's l2: 0.166245\tvalid_1's rmse: 0.460563\tvalid_1's l2: 0.212119\n",
      "[12]\ttraining's rmse: 0.398415\ttraining's l2: 0.158735\tvalid_1's rmse: 0.449047\tvalid_1's l2: 0.201643\n",
      "[13]\ttraining's rmse: 0.388622\ttraining's l2: 0.151027\tvalid_1's rmse: 0.437755\tvalid_1's l2: 0.191629\n",
      "[14]\ttraining's rmse: 0.377071\ttraining's l2: 0.142183\tvalid_1's rmse: 0.428721\tvalid_1's l2: 0.183802\n",
      "[15]\ttraining's rmse: 0.367791\ttraining's l2: 0.13527\tvalid_1's rmse: 0.423009\tvalid_1's l2: 0.178936\n",
      "[16]\ttraining's rmse: 0.359212\ttraining's l2: 0.129033\tvalid_1's rmse: 0.416359\tvalid_1's l2: 0.173355\n",
      "[17]\ttraining's rmse: 0.353007\ttraining's l2: 0.124614\tvalid_1's rmse: 0.408956\tvalid_1's l2: 0.167245\n",
      "[18]\ttraining's rmse: 0.347313\ttraining's l2: 0.120627\tvalid_1's rmse: 0.403707\tvalid_1's l2: 0.162979\n",
      "[19]\ttraining's rmse: 0.339808\ttraining's l2: 0.115469\tvalid_1's rmse: 0.396713\tvalid_1's l2: 0.157381\n",
      "[20]\ttraining's rmse: 0.332942\ttraining's l2: 0.11085\tvalid_1's rmse: 0.389742\tvalid_1's l2: 0.151899\n",
      "[21]\ttraining's rmse: 0.328008\ttraining's l2: 0.107589\tvalid_1's rmse: 0.383033\tvalid_1's l2: 0.146714\n",
      "[22]\ttraining's rmse: 0.324764\ttraining's l2: 0.105472\tvalid_1's rmse: 0.381649\tvalid_1's l2: 0.145656\n",
      "[23]\ttraining's rmse: 0.320081\ttraining's l2: 0.102452\tvalid_1's rmse: 0.375036\tvalid_1's l2: 0.140652\n",
      "[24]\ttraining's rmse: 0.316142\ttraining's l2: 0.099946\tvalid_1's rmse: 0.371104\tvalid_1's l2: 0.137719\n",
      "[25]\ttraining's rmse: 0.313162\ttraining's l2: 0.0980706\tvalid_1's rmse: 0.367368\tvalid_1's l2: 0.134959\n",
      "[26]\ttraining's rmse: 0.309074\ttraining's l2: 0.095527\tvalid_1's rmse: 0.36341\tvalid_1's l2: 0.132067\n",
      "[27]\ttraining's rmse: 0.305239\ttraining's l2: 0.0931709\tvalid_1's rmse: 0.360433\tvalid_1's l2: 0.129912\n",
      "[28]\ttraining's rmse: 0.301714\ttraining's l2: 0.0910311\tvalid_1's rmse: 0.357876\tvalid_1's l2: 0.128075\n",
      "[29]\ttraining's rmse: 0.298779\ttraining's l2: 0.0892688\tvalid_1's rmse: 0.355686\tvalid_1's l2: 0.126513\n",
      "[30]\ttraining's rmse: 0.296517\ttraining's l2: 0.0879221\tvalid_1's rmse: 0.353426\tvalid_1's l2: 0.12491\n",
      "[31]\ttraining's rmse: 0.294455\ttraining's l2: 0.0867038\tvalid_1's rmse: 0.351492\tvalid_1's l2: 0.123547\n",
      "[32]\ttraining's rmse: 0.292233\ttraining's l2: 0.0854004\tvalid_1's rmse: 0.350659\tvalid_1's l2: 0.122961\n",
      "[33]\ttraining's rmse: 0.290307\ttraining's l2: 0.0842779\tvalid_1's rmse: 0.348213\tvalid_1's l2: 0.121253\n",
      "[34]\ttraining's rmse: 0.288672\ttraining's l2: 0.0833317\tvalid_1's rmse: 0.345537\tvalid_1's l2: 0.119396\n",
      "[35]\ttraining's rmse: 0.286719\ttraining's l2: 0.0822075\tvalid_1's rmse: 0.342499\tvalid_1's l2: 0.117305\n",
      "[36]\ttraining's rmse: 0.285544\ttraining's l2: 0.0815355\tvalid_1's rmse: 0.34061\tvalid_1's l2: 0.116015\n",
      "[37]\ttraining's rmse: 0.28438\ttraining's l2: 0.0808721\tvalid_1's rmse: 0.339925\tvalid_1's l2: 0.115549\n",
      "[38]\ttraining's rmse: 0.282638\ttraining's l2: 0.0798845\tvalid_1's rmse: 0.337204\tvalid_1's l2: 0.113706\n",
      "[39]\ttraining's rmse: 0.281546\ttraining's l2: 0.0792684\tvalid_1's rmse: 0.336077\tvalid_1's l2: 0.112948\n",
      "[40]\ttraining's rmse: 0.280321\ttraining's l2: 0.0785797\tvalid_1's rmse: 0.334367\tvalid_1's l2: 0.111802\n",
      "[41]\ttraining's rmse: 0.279245\ttraining's l2: 0.0779777\tvalid_1's rmse: 0.333496\tvalid_1's l2: 0.11122\n",
      "[42]\ttraining's rmse: 0.278538\ttraining's l2: 0.0775834\tvalid_1's rmse: 0.331865\tvalid_1's l2: 0.110135\n",
      "[43]\ttraining's rmse: 0.277675\ttraining's l2: 0.0771033\tvalid_1's rmse: 0.331203\tvalid_1's l2: 0.109695\n",
      "[44]\ttraining's rmse: 0.276346\ttraining's l2: 0.0763671\tvalid_1's rmse: 0.32983\tvalid_1's l2: 0.108788\n",
      "[45]\ttraining's rmse: 0.274832\ttraining's l2: 0.0755326\tvalid_1's rmse: 0.328286\tvalid_1's l2: 0.107772\n",
      "[46]\ttraining's rmse: 0.27346\ttraining's l2: 0.0747803\tvalid_1's rmse: 0.326545\tvalid_1's l2: 0.106632\n",
      "[47]\ttraining's rmse: 0.272372\ttraining's l2: 0.0741866\tvalid_1's rmse: 0.325616\tvalid_1's l2: 0.106026\n",
      "[48]\ttraining's rmse: 0.27124\ttraining's l2: 0.073571\tvalid_1's rmse: 0.323931\tvalid_1's l2: 0.104931\n",
      "[49]\ttraining's rmse: 0.270055\ttraining's l2: 0.0729297\tvalid_1's rmse: 0.322188\tvalid_1's l2: 0.103805\n",
      "[50]\ttraining's rmse: 0.268928\ttraining's l2: 0.0723223\tvalid_1's rmse: 0.321499\tvalid_1's l2: 0.103362\n",
      "[51]\ttraining's rmse: 0.268198\ttraining's l2: 0.0719302\tvalid_1's rmse: 0.32039\tvalid_1's l2: 0.10265\n",
      "[52]\ttraining's rmse: 0.267265\ttraining's l2: 0.0714303\tvalid_1's rmse: 0.319716\tvalid_1's l2: 0.102218\n",
      "[53]\ttraining's rmse: 0.266373\ttraining's l2: 0.0709548\tvalid_1's rmse: 0.318641\tvalid_1's l2: 0.101532\n",
      "[54]\ttraining's rmse: 0.265594\ttraining's l2: 0.07054\tvalid_1's rmse: 0.317434\tvalid_1's l2: 0.100764\n",
      "[55]\ttraining's rmse: 0.264885\ttraining's l2: 0.0701639\tvalid_1's rmse: 0.317036\tvalid_1's l2: 0.100512\n",
      "[56]\ttraining's rmse: 0.26384\ttraining's l2: 0.0696114\tvalid_1's rmse: 0.315667\tvalid_1's l2: 0.0996456\n",
      "[57]\ttraining's rmse: 0.263\ttraining's l2: 0.0691687\tvalid_1's rmse: 0.314715\tvalid_1's l2: 0.0990456\n",
      "[58]\ttraining's rmse: 0.26232\ttraining's l2: 0.0688117\tvalid_1's rmse: 0.313814\tvalid_1's l2: 0.098479\n",
      "[59]\ttraining's rmse: 0.26155\ttraining's l2: 0.0684082\tvalid_1's rmse: 0.313301\tvalid_1's l2: 0.0981573\n",
      "[60]\ttraining's rmse: 0.260846\ttraining's l2: 0.0680405\tvalid_1's rmse: 0.312586\tvalid_1's l2: 0.0977099\n",
      "[61]\ttraining's rmse: 0.260248\ttraining's l2: 0.0677292\tvalid_1's rmse: 0.312103\tvalid_1's l2: 0.0974081\n",
      "[62]\ttraining's rmse: 0.259889\ttraining's l2: 0.0675425\tvalid_1's rmse: 0.312674\tvalid_1's l2: 0.0977652\n",
      "[63]\ttraining's rmse: 0.259494\ttraining's l2: 0.0673371\tvalid_1's rmse: 0.312189\tvalid_1's l2: 0.0974618\n",
      "[64]\ttraining's rmse: 0.259117\ttraining's l2: 0.0671417\tvalid_1's rmse: 0.311483\tvalid_1's l2: 0.0970214\n",
      "[65]\ttraining's rmse: 0.258587\ttraining's l2: 0.0668671\tvalid_1's rmse: 0.310571\tvalid_1's l2: 0.0964542\n",
      "[66]\ttraining's rmse: 0.258065\ttraining's l2: 0.0665973\tvalid_1's rmse: 0.309023\tvalid_1's l2: 0.0954953\n",
      "[67]\ttraining's rmse: 0.257656\ttraining's l2: 0.0663868\tvalid_1's rmse: 0.308543\tvalid_1's l2: 0.0951986\n",
      "[68]\ttraining's rmse: 0.257066\ttraining's l2: 0.0660829\tvalid_1's rmse: 0.307862\tvalid_1's l2: 0.0947788\n",
      "[69]\ttraining's rmse: 0.256659\ttraining's l2: 0.0658739\tvalid_1's rmse: 0.307643\tvalid_1's l2: 0.0946445\n",
      "[70]\ttraining's rmse: 0.25632\ttraining's l2: 0.0656998\tvalid_1's rmse: 0.307455\tvalid_1's l2: 0.0945289\n",
      "[71]\ttraining's rmse: 0.255416\ttraining's l2: 0.0652374\tvalid_1's rmse: 0.306025\tvalid_1's l2: 0.093651\n",
      "[72]\ttraining's rmse: 0.2551\ttraining's l2: 0.0650759\tvalid_1's rmse: 0.305701\tvalid_1's l2: 0.0934528\n",
      "[73]\ttraining's rmse: 0.254721\ttraining's l2: 0.0648827\tvalid_1's rmse: 0.304921\tvalid_1's l2: 0.0929768\n",
      "[74]\ttraining's rmse: 0.254302\ttraining's l2: 0.0646693\tvalid_1's rmse: 0.304466\tvalid_1's l2: 0.0926996\n",
      "[75]\ttraining's rmse: 0.253785\ttraining's l2: 0.0644069\tvalid_1's rmse: 0.303962\tvalid_1's l2: 0.0923927\n",
      "[76]\ttraining's rmse: 0.253341\ttraining's l2: 0.0641819\tvalid_1's rmse: 0.303456\tvalid_1's l2: 0.0920854\n",
      "[77]\ttraining's rmse: 0.252887\ttraining's l2: 0.0639517\tvalid_1's rmse: 0.302893\tvalid_1's l2: 0.0917441\n",
      "[78]\ttraining's rmse: 0.252634\ttraining's l2: 0.0638239\tvalid_1's rmse: 0.302141\tvalid_1's l2: 0.0912889\n",
      "[79]\ttraining's rmse: 0.252243\ttraining's l2: 0.0636265\tvalid_1's rmse: 0.301692\tvalid_1's l2: 0.0910178\n"
     ]
    },
    {
     "name": "stdout",
     "output_type": "stream",
     "text": [
      "[80]\ttraining's rmse: 0.251748\ttraining's l2: 0.0633769\tvalid_1's rmse: 0.301439\tvalid_1's l2: 0.0908656\n",
      "[81]\ttraining's rmse: 0.251356\ttraining's l2: 0.0631797\tvalid_1's rmse: 0.30099\tvalid_1's l2: 0.0905952\n",
      "[82]\ttraining's rmse: 0.250943\ttraining's l2: 0.0629722\tvalid_1's rmse: 0.30066\tvalid_1's l2: 0.0903962\n",
      "[83]\ttraining's rmse: 0.250271\ttraining's l2: 0.0626355\tvalid_1's rmse: 0.299778\tvalid_1's l2: 0.0898666\n",
      "[84]\ttraining's rmse: 0.249984\ttraining's l2: 0.0624922\tvalid_1's rmse: 0.299596\tvalid_1's l2: 0.0897576\n",
      "[85]\ttraining's rmse: 0.249637\ttraining's l2: 0.0623186\tvalid_1's rmse: 0.298863\tvalid_1's l2: 0.0893192\n",
      "[86]\ttraining's rmse: 0.249268\ttraining's l2: 0.0621345\tvalid_1's rmse: 0.298286\tvalid_1's l2: 0.0889745\n",
      "[87]\ttraining's rmse: 0.249018\ttraining's l2: 0.0620099\tvalid_1's rmse: 0.297776\tvalid_1's l2: 0.0886704\n",
      "[88]\ttraining's rmse: 0.248821\ttraining's l2: 0.0619117\tvalid_1's rmse: 0.297697\tvalid_1's l2: 0.0886234\n",
      "[89]\ttraining's rmse: 0.248498\ttraining's l2: 0.0617512\tvalid_1's rmse: 0.296954\tvalid_1's l2: 0.0881815\n",
      "[90]\ttraining's rmse: 0.248185\ttraining's l2: 0.0615956\tvalid_1's rmse: 0.296518\tvalid_1's l2: 0.0879229\n",
      "[91]\ttraining's rmse: 0.247902\ttraining's l2: 0.0614555\tvalid_1's rmse: 0.296337\tvalid_1's l2: 0.0878156\n",
      "[92]\ttraining's rmse: 0.247693\ttraining's l2: 0.0613518\tvalid_1's rmse: 0.296423\tvalid_1's l2: 0.0878668\n",
      "[93]\ttraining's rmse: 0.247368\ttraining's l2: 0.0611907\tvalid_1's rmse: 0.295997\tvalid_1's l2: 0.0876144\n",
      "[94]\ttraining's rmse: 0.247003\ttraining's l2: 0.0610104\tvalid_1's rmse: 0.29556\tvalid_1's l2: 0.0873557\n",
      "[95]\ttraining's rmse: 0.246675\ttraining's l2: 0.0608484\tvalid_1's rmse: 0.295325\tvalid_1's l2: 0.0872171\n",
      "[96]\ttraining's rmse: 0.246465\ttraining's l2: 0.0607452\tvalid_1's rmse: 0.29513\tvalid_1's l2: 0.087102\n",
      "[97]\ttraining's rmse: 0.246277\ttraining's l2: 0.0606521\tvalid_1's rmse: 0.294793\tvalid_1's l2: 0.0869028\n",
      "[98]\ttraining's rmse: 0.245905\ttraining's l2: 0.0604692\tvalid_1's rmse: 0.294307\tvalid_1's l2: 0.0866169\n",
      "[99]\ttraining's rmse: 0.245551\ttraining's l2: 0.0602954\tvalid_1's rmse: 0.29427\tvalid_1's l2: 0.0865951\n",
      "[100]\ttraining's rmse: 0.245327\ttraining's l2: 0.0601853\tvalid_1's rmse: 0.293961\tvalid_1's l2: 0.0864128\n",
      "[101]\ttraining's rmse: 0.245027\ttraining's l2: 0.0600385\tvalid_1's rmse: 0.293597\tvalid_1's l2: 0.0861994\n",
      "[102]\ttraining's rmse: 0.244741\ttraining's l2: 0.059898\tvalid_1's rmse: 0.293208\tvalid_1's l2: 0.0859707\n",
      "[103]\ttraining's rmse: 0.244501\ttraining's l2: 0.0597808\tvalid_1's rmse: 0.292511\tvalid_1's l2: 0.0855624\n",
      "[104]\ttraining's rmse: 0.244229\ttraining's l2: 0.059648\tvalid_1's rmse: 0.292183\tvalid_1's l2: 0.0853711\n",
      "[105]\ttraining's rmse: 0.243873\ttraining's l2: 0.0594741\tvalid_1's rmse: 0.29146\tvalid_1's l2: 0.084949\n",
      "[106]\ttraining's rmse: 0.243639\ttraining's l2: 0.0593598\tvalid_1's rmse: 0.291366\tvalid_1's l2: 0.0848943\n",
      "[107]\ttraining's rmse: 0.243442\ttraining's l2: 0.059264\tvalid_1's rmse: 0.29085\tvalid_1's l2: 0.0845939\n",
      "[108]\ttraining's rmse: 0.243285\ttraining's l2: 0.0591874\tvalid_1's rmse: 0.290151\tvalid_1's l2: 0.0841876\n",
      "[109]\ttraining's rmse: 0.243101\ttraining's l2: 0.0590981\tvalid_1's rmse: 0.2896\tvalid_1's l2: 0.0838681\n",
      "[110]\ttraining's rmse: 0.24275\ttraining's l2: 0.0589278\tvalid_1's rmse: 0.289156\tvalid_1's l2: 0.0836112\n",
      "[111]\ttraining's rmse: 0.242364\ttraining's l2: 0.0587403\tvalid_1's rmse: 0.288751\tvalid_1's l2: 0.0833769\n",
      "[112]\ttraining's rmse: 0.242072\ttraining's l2: 0.058599\tvalid_1's rmse: 0.288505\tvalid_1's l2: 0.0832351\n",
      "[113]\ttraining's rmse: 0.241818\ttraining's l2: 0.058476\tvalid_1's rmse: 0.288015\tvalid_1's l2: 0.0829526\n",
      "[114]\ttraining's rmse: 0.241632\ttraining's l2: 0.0583858\tvalid_1's rmse: 0.287774\tvalid_1's l2: 0.0828137\n",
      "[115]\ttraining's rmse: 0.241465\ttraining's l2: 0.0583055\tvalid_1's rmse: 0.287539\tvalid_1's l2: 0.0826788\n",
      "[116]\ttraining's rmse: 0.241235\ttraining's l2: 0.0581941\tvalid_1's rmse: 0.287265\tvalid_1's l2: 0.0825213\n",
      "[117]\ttraining's rmse: 0.240988\ttraining's l2: 0.0580754\tvalid_1's rmse: 0.287134\tvalid_1's l2: 0.0824457\n",
      "[118]\ttraining's rmse: 0.240788\ttraining's l2: 0.057979\tvalid_1's rmse: 0.2867\tvalid_1's l2: 0.0821966\n",
      "[119]\ttraining's rmse: 0.240666\ttraining's l2: 0.0579202\tvalid_1's rmse: 0.286641\tvalid_1's l2: 0.0821633\n",
      "[120]\ttraining's rmse: 0.240474\ttraining's l2: 0.0578279\tvalid_1's rmse: 0.286544\tvalid_1's l2: 0.0821075\n",
      "[121]\ttraining's rmse: 0.240235\ttraining's l2: 0.0577131\tvalid_1's rmse: 0.286395\tvalid_1's l2: 0.0820221\n",
      "[122]\ttraining's rmse: 0.240024\ttraining's l2: 0.0576116\tvalid_1's rmse: 0.285932\tvalid_1's l2: 0.0817572\n",
      "[123]\ttraining's rmse: 0.239754\ttraining's l2: 0.057482\tvalid_1's rmse: 0.285743\tvalid_1's l2: 0.0816492\n",
      "[124]\ttraining's rmse: 0.239526\ttraining's l2: 0.0573725\tvalid_1's rmse: 0.285313\tvalid_1's l2: 0.0814037\n",
      "[125]\ttraining's rmse: 0.239359\ttraining's l2: 0.0572925\tvalid_1's rmse: 0.285151\tvalid_1's l2: 0.081311\n",
      "[126]\ttraining's rmse: 0.239043\ttraining's l2: 0.0571416\tvalid_1's rmse: 0.284874\tvalid_1's l2: 0.0811529\n",
      "[127]\ttraining's rmse: 0.238838\ttraining's l2: 0.0570435\tvalid_1's rmse: 0.284468\tvalid_1's l2: 0.0809223\n",
      "[128]\ttraining's rmse: 0.238685\ttraining's l2: 0.0569703\tvalid_1's rmse: 0.284248\tvalid_1's l2: 0.0807968\n",
      "[129]\ttraining's rmse: 0.238487\ttraining's l2: 0.056876\tvalid_1's rmse: 0.284009\tvalid_1's l2: 0.0806612\n",
      "[130]\ttraining's rmse: 0.238385\ttraining's l2: 0.0568272\tvalid_1's rmse: 0.283736\tvalid_1's l2: 0.080506\n",
      "[131]\ttraining's rmse: 0.238209\ttraining's l2: 0.0567435\tvalid_1's rmse: 0.283568\tvalid_1's l2: 0.0804106\n",
      "[132]\ttraining's rmse: 0.238013\ttraining's l2: 0.0566504\tvalid_1's rmse: 0.283122\tvalid_1's l2: 0.0801583\n",
      "[133]\ttraining's rmse: 0.237808\ttraining's l2: 0.0565525\tvalid_1's rmse: 0.282879\tvalid_1's l2: 0.0800204\n",
      "[134]\ttraining's rmse: 0.237666\ttraining's l2: 0.0564853\tvalid_1's rmse: 0.282658\tvalid_1's l2: 0.0798956\n",
      "[135]\ttraining's rmse: 0.237554\ttraining's l2: 0.0564317\tvalid_1's rmse: 0.28252\tvalid_1's l2: 0.0798174\n",
      "[136]\ttraining's rmse: 0.237381\ttraining's l2: 0.0563495\tvalid_1's rmse: 0.282322\tvalid_1's l2: 0.0797058\n",
      "[137]\ttraining's rmse: 0.237175\ttraining's l2: 0.0562521\tvalid_1's rmse: 0.281848\tvalid_1's l2: 0.0794383\n",
      "[138]\ttraining's rmse: 0.237004\ttraining's l2: 0.0561711\tvalid_1's rmse: 0.281641\tvalid_1's l2: 0.0793218\n",
      "[139]\ttraining's rmse: 0.236838\ttraining's l2: 0.0560923\tvalid_1's rmse: 0.281452\tvalid_1's l2: 0.0792154\n",
      "[140]\ttraining's rmse: 0.236673\ttraining's l2: 0.0560143\tvalid_1's rmse: 0.281404\tvalid_1's l2: 0.0791884\n",
      "[141]\ttraining's rmse: 0.236497\ttraining's l2: 0.0559306\tvalid_1's rmse: 0.281338\tvalid_1's l2: 0.0791511\n",
      "[142]\ttraining's rmse: 0.236365\ttraining's l2: 0.0558684\tvalid_1's rmse: 0.281023\tvalid_1's l2: 0.0789739\n",
      "[143]\ttraining's rmse: 0.236203\ttraining's l2: 0.055792\tvalid_1's rmse: 0.280892\tvalid_1's l2: 0.0789005\n",
      "[144]\ttraining's rmse: 0.236054\ttraining's l2: 0.0557215\tvalid_1's rmse: 0.280739\tvalid_1's l2: 0.0788146\n",
      "[145]\ttraining's rmse: 0.235931\ttraining's l2: 0.0556634\tvalid_1's rmse: 0.280503\tvalid_1's l2: 0.0786819\n",
      "[146]\ttraining's rmse: 0.235768\ttraining's l2: 0.0555868\tvalid_1's rmse: 0.280389\tvalid_1's l2: 0.0786178\n",
      "[147]\ttraining's rmse: 0.235667\ttraining's l2: 0.0555388\tvalid_1's rmse: 0.280345\tvalid_1's l2: 0.0785931\n",
      "[148]\ttraining's rmse: 0.235503\ttraining's l2: 0.0554618\tvalid_1's rmse: 0.280006\tvalid_1's l2: 0.0784034\n",
      "[149]\ttraining's rmse: 0.235352\ttraining's l2: 0.0553908\tvalid_1's rmse: 0.279901\tvalid_1's l2: 0.0783443\n",
      "[150]\ttraining's rmse: 0.235146\ttraining's l2: 0.0552934\tvalid_1's rmse: 0.279686\tvalid_1's l2: 0.0782243\n",
      "[151]\ttraining's rmse: 0.235022\ttraining's l2: 0.0552354\tvalid_1's rmse: 0.279579\tvalid_1's l2: 0.0781642\n",
      "[152]\ttraining's rmse: 0.234853\ttraining's l2: 0.0551558\tvalid_1's rmse: 0.279373\tvalid_1's l2: 0.0780491\n",
      "[153]\ttraining's rmse: 0.234722\ttraining's l2: 0.0550944\tvalid_1's rmse: 0.279219\tvalid_1's l2: 0.0779635\n",
      "[154]\ttraining's rmse: 0.234489\ttraining's l2: 0.054985\tvalid_1's rmse: 0.278718\tvalid_1's l2: 0.0776837\n",
      "[155]\ttraining's rmse: 0.234372\ttraining's l2: 0.0549302\tvalid_1's rmse: 0.278513\tvalid_1's l2: 0.0775696\n",
      "[156]\ttraining's rmse: 0.234268\ttraining's l2: 0.0548814\tvalid_1's rmse: 0.278369\tvalid_1's l2: 0.077489\n",
      "[157]\ttraining's rmse: 0.234172\ttraining's l2: 0.0548363\tvalid_1's rmse: 0.278297\tvalid_1's l2: 0.0774494\n",
      "[158]\ttraining's rmse: 0.23395\ttraining's l2: 0.0547324\tvalid_1's rmse: 0.278043\tvalid_1's l2: 0.0773076\n"
     ]
    },
    {
     "name": "stdout",
     "output_type": "stream",
     "text": [
      "[159]\ttraining's rmse: 0.233732\ttraining's l2: 0.0546305\tvalid_1's rmse: 0.277591\tvalid_1's l2: 0.0770569\n",
      "[160]\ttraining's rmse: 0.233623\ttraining's l2: 0.0545795\tvalid_1's rmse: 0.277421\tvalid_1's l2: 0.0769625\n",
      "[161]\ttraining's rmse: 0.233438\ttraining's l2: 0.0544935\tvalid_1's rmse: 0.277322\tvalid_1's l2: 0.0769073\n",
      "[162]\ttraining's rmse: 0.233297\ttraining's l2: 0.0544276\tvalid_1's rmse: 0.277106\tvalid_1's l2: 0.0767875\n",
      "[163]\ttraining's rmse: 0.233169\ttraining's l2: 0.0543676\tvalid_1's rmse: 0.277034\tvalid_1's l2: 0.0767477\n",
      "[164]\ttraining's rmse: 0.232938\ttraining's l2: 0.0542599\tvalid_1's rmse: 0.276766\tvalid_1's l2: 0.0765993\n",
      "[165]\ttraining's rmse: 0.232797\ttraining's l2: 0.0541946\tvalid_1's rmse: 0.276552\tvalid_1's l2: 0.0764811\n",
      "[166]\ttraining's rmse: 0.232657\ttraining's l2: 0.0541292\tvalid_1's rmse: 0.276313\tvalid_1's l2: 0.0763489\n",
      "[167]\ttraining's rmse: 0.23252\ttraining's l2: 0.0540655\tvalid_1's rmse: 0.276217\tvalid_1's l2: 0.0762957\n",
      "[168]\ttraining's rmse: 0.232392\ttraining's l2: 0.0540061\tvalid_1's rmse: 0.276093\tvalid_1's l2: 0.0762275\n",
      "[169]\ttraining's rmse: 0.23227\ttraining's l2: 0.0539494\tvalid_1's rmse: 0.27593\tvalid_1's l2: 0.0761376\n",
      "[170]\ttraining's rmse: 0.23215\ttraining's l2: 0.0538937\tvalid_1's rmse: 0.275838\tvalid_1's l2: 0.0760868\n",
      "[171]\ttraining's rmse: 0.232068\ttraining's l2: 0.0538557\tvalid_1's rmse: 0.275666\tvalid_1's l2: 0.0759917\n",
      "[172]\ttraining's rmse: 0.231942\ttraining's l2: 0.0537973\tvalid_1's rmse: 0.275481\tvalid_1's l2: 0.0758896\n",
      "[173]\ttraining's rmse: 0.23172\ttraining's l2: 0.0536943\tvalid_1's rmse: 0.275281\tvalid_1's l2: 0.0757795\n",
      "[174]\ttraining's rmse: 0.231631\ttraining's l2: 0.0536529\tvalid_1's rmse: 0.275169\tvalid_1's l2: 0.075718\n",
      "[175]\ttraining's rmse: 0.231563\ttraining's l2: 0.0536216\tvalid_1's rmse: 0.27509\tvalid_1's l2: 0.0756744\n",
      "[176]\ttraining's rmse: 0.231433\ttraining's l2: 0.0535613\tvalid_1's rmse: 0.275048\tvalid_1's l2: 0.0756515\n",
      "[177]\ttraining's rmse: 0.231344\ttraining's l2: 0.0535201\tvalid_1's rmse: 0.274999\tvalid_1's l2: 0.0756247\n",
      "[178]\ttraining's rmse: 0.231219\ttraining's l2: 0.0534621\tvalid_1's rmse: 0.275015\tvalid_1's l2: 0.0756332\n",
      "[179]\ttraining's rmse: 0.231074\ttraining's l2: 0.0533951\tvalid_1's rmse: 0.274963\tvalid_1's l2: 0.0756045\n",
      "[180]\ttraining's rmse: 0.230997\ttraining's l2: 0.0533597\tvalid_1's rmse: 0.274754\tvalid_1's l2: 0.0754899\n",
      "[181]\ttraining's rmse: 0.23094\ttraining's l2: 0.0533331\tvalid_1's rmse: 0.274678\tvalid_1's l2: 0.0754481\n",
      "[182]\ttraining's rmse: 0.230844\ttraining's l2: 0.0532889\tvalid_1's rmse: 0.274498\tvalid_1's l2: 0.075349\n",
      "[183]\ttraining's rmse: 0.23065\ttraining's l2: 0.0531993\tvalid_1's rmse: 0.274263\tvalid_1's l2: 0.0752199\n",
      "[184]\ttraining's rmse: 0.230535\ttraining's l2: 0.0531462\tvalid_1's rmse: 0.274181\tvalid_1's l2: 0.0751752\n",
      "[185]\ttraining's rmse: 0.230443\ttraining's l2: 0.0531039\tvalid_1's rmse: 0.274123\tvalid_1's l2: 0.0751434\n",
      "[186]\ttraining's rmse: 0.230315\ttraining's l2: 0.0530449\tvalid_1's rmse: 0.274158\tvalid_1's l2: 0.0751627\n",
      "[187]\ttraining's rmse: 0.230238\ttraining's l2: 0.0530097\tvalid_1's rmse: 0.274028\tvalid_1's l2: 0.0750912\n",
      "[188]\ttraining's rmse: 0.230148\ttraining's l2: 0.0529683\tvalid_1's rmse: 0.273892\tvalid_1's l2: 0.075017\n",
      "[189]\ttraining's rmse: 0.230021\ttraining's l2: 0.0529097\tvalid_1's rmse: 0.27371\tvalid_1's l2: 0.0749174\n",
      "[190]\ttraining's rmse: 0.229871\ttraining's l2: 0.0528405\tvalid_1's rmse: 0.273473\tvalid_1's l2: 0.0747874\n",
      "[191]\ttraining's rmse: 0.229739\ttraining's l2: 0.05278\tvalid_1's rmse: 0.273311\tvalid_1's l2: 0.0746987\n",
      "[192]\ttraining's rmse: 0.229673\ttraining's l2: 0.0527497\tvalid_1's rmse: 0.272897\tvalid_1's l2: 0.0744728\n",
      "[193]\ttraining's rmse: 0.2296\ttraining's l2: 0.0527164\tvalid_1's rmse: 0.272799\tvalid_1's l2: 0.0744192\n",
      "[194]\ttraining's rmse: 0.229359\ttraining's l2: 0.0526053\tvalid_1's rmse: 0.27253\tvalid_1's l2: 0.0742724\n",
      "[195]\ttraining's rmse: 0.229287\ttraining's l2: 0.0525723\tvalid_1's rmse: 0.272431\tvalid_1's l2: 0.0742188\n",
      "[196]\ttraining's rmse: 0.229173\ttraining's l2: 0.0525204\tvalid_1's rmse: 0.272342\tvalid_1's l2: 0.0741702\n",
      "[197]\ttraining's rmse: 0.229015\ttraining's l2: 0.0524481\tvalid_1's rmse: 0.272062\tvalid_1's l2: 0.0740177\n",
      "[198]\ttraining's rmse: 0.228942\ttraining's l2: 0.0524144\tvalid_1's rmse: 0.271947\tvalid_1's l2: 0.0739553\n",
      "[199]\ttraining's rmse: 0.228867\ttraining's l2: 0.05238\tvalid_1's rmse: 0.271873\tvalid_1's l2: 0.0739147\n",
      "[200]\ttraining's rmse: 0.228776\ttraining's l2: 0.0523385\tvalid_1's rmse: 0.271769\tvalid_1's l2: 0.0738582\n",
      "[201]\ttraining's rmse: 0.228657\ttraining's l2: 0.0522842\tvalid_1's rmse: 0.271656\tvalid_1's l2: 0.0737972\n",
      "[202]\ttraining's rmse: 0.228546\ttraining's l2: 0.0522331\tvalid_1's rmse: 0.271532\tvalid_1's l2: 0.0737299\n",
      "[203]\ttraining's rmse: 0.228462\ttraining's l2: 0.052195\tvalid_1's rmse: 0.271514\tvalid_1's l2: 0.0737201\n",
      "[204]\ttraining's rmse: 0.228383\ttraining's l2: 0.0521589\tvalid_1's rmse: 0.271413\tvalid_1's l2: 0.0736648\n",
      "[205]\ttraining's rmse: 0.228288\ttraining's l2: 0.0521152\tvalid_1's rmse: 0.271328\tvalid_1's l2: 0.0736187\n",
      "[206]\ttraining's rmse: 0.228187\ttraining's l2: 0.0520693\tvalid_1's rmse: 0.271154\tvalid_1's l2: 0.0735244\n",
      "[207]\ttraining's rmse: 0.228095\ttraining's l2: 0.0520275\tvalid_1's rmse: 0.270967\tvalid_1's l2: 0.0734234\n",
      "[208]\ttraining's rmse: 0.227987\ttraining's l2: 0.0519779\tvalid_1's rmse: 0.27082\tvalid_1's l2: 0.0733437\n",
      "[209]\ttraining's rmse: 0.2279\ttraining's l2: 0.0519385\tvalid_1's rmse: 0.270695\tvalid_1's l2: 0.0732755\n",
      "[210]\ttraining's rmse: 0.227837\ttraining's l2: 0.0519098\tvalid_1's rmse: 0.270305\tvalid_1's l2: 0.0730648\n",
      "[211]\ttraining's rmse: 0.227702\ttraining's l2: 0.0518484\tvalid_1's rmse: 0.270097\tvalid_1's l2: 0.0729523\n",
      "[212]\ttraining's rmse: 0.227607\ttraining's l2: 0.051805\tvalid_1's rmse: 0.269987\tvalid_1's l2: 0.072893\n",
      "[213]\ttraining's rmse: 0.227543\ttraining's l2: 0.0517759\tvalid_1's rmse: 0.269993\tvalid_1's l2: 0.0728962\n",
      "[214]\ttraining's rmse: 0.227449\ttraining's l2: 0.0517331\tvalid_1's rmse: 0.269867\tvalid_1's l2: 0.0728281\n",
      "[215]\ttraining's rmse: 0.227329\ttraining's l2: 0.0516786\tvalid_1's rmse: 0.269732\tvalid_1's l2: 0.0727552\n",
      "[216]\ttraining's rmse: 0.227194\ttraining's l2: 0.0516173\tvalid_1's rmse: 0.269485\tvalid_1's l2: 0.0726221\n",
      "[217]\ttraining's rmse: 0.227131\ttraining's l2: 0.0515887\tvalid_1's rmse: 0.269388\tvalid_1's l2: 0.0725698\n",
      "[218]\ttraining's rmse: 0.227071\ttraining's l2: 0.0515613\tvalid_1's rmse: 0.269244\tvalid_1's l2: 0.0724921\n",
      "[219]\ttraining's rmse: 0.22695\ttraining's l2: 0.0515063\tvalid_1's rmse: 0.269099\tvalid_1's l2: 0.0724145\n",
      "[220]\ttraining's rmse: 0.226883\ttraining's l2: 0.0514758\tvalid_1's rmse: 0.269031\tvalid_1's l2: 0.0723777\n",
      "[221]\ttraining's rmse: 0.226788\ttraining's l2: 0.051433\tvalid_1's rmse: 0.268951\tvalid_1's l2: 0.0723347\n",
      "[222]\ttraining's rmse: 0.226667\ttraining's l2: 0.0513778\tvalid_1's rmse: 0.268923\tvalid_1's l2: 0.0723198\n",
      "[223]\ttraining's rmse: 0.226544\ttraining's l2: 0.0513221\tvalid_1's rmse: 0.268874\tvalid_1's l2: 0.0722934\n",
      "[224]\ttraining's rmse: 0.226474\ttraining's l2: 0.0512903\tvalid_1's rmse: 0.268876\tvalid_1's l2: 0.0722941\n",
      "[225]\ttraining's rmse: 0.22637\ttraining's l2: 0.0512434\tvalid_1's rmse: 0.268873\tvalid_1's l2: 0.0722928\n",
      "[226]\ttraining's rmse: 0.226272\ttraining's l2: 0.051199\tvalid_1's rmse: 0.268786\tvalid_1's l2: 0.0722459\n",
      "[227]\ttraining's rmse: 0.226207\ttraining's l2: 0.0511696\tvalid_1's rmse: 0.268561\tvalid_1's l2: 0.0721249\n",
      "[228]\ttraining's rmse: 0.22613\ttraining's l2: 0.0511349\tvalid_1's rmse: 0.268528\tvalid_1's l2: 0.072107\n",
      "[229]\ttraining's rmse: 0.226051\ttraining's l2: 0.0510992\tvalid_1's rmse: 0.268225\tvalid_1's l2: 0.0719445\n",
      "[230]\ttraining's rmse: 0.225968\ttraining's l2: 0.0510615\tvalid_1's rmse: 0.268141\tvalid_1's l2: 0.0718997\n",
      "[231]\ttraining's rmse: 0.225873\ttraining's l2: 0.0510187\tvalid_1's rmse: 0.267658\tvalid_1's l2: 0.0716409\n",
      "[232]\ttraining's rmse: 0.225808\ttraining's l2: 0.0509892\tvalid_1's rmse: 0.267621\tvalid_1's l2: 0.0716211\n",
      "[233]\ttraining's rmse: 0.225747\ttraining's l2: 0.0509618\tvalid_1's rmse: 0.267561\tvalid_1's l2: 0.0715891\n",
      "[234]\ttraining's rmse: 0.225694\ttraining's l2: 0.0509376\tvalid_1's rmse: 0.267549\tvalid_1's l2: 0.0715827\n",
      "[235]\ttraining's rmse: 0.225595\ttraining's l2: 0.0508929\tvalid_1's rmse: 0.267381\tvalid_1's l2: 0.0714925\n",
      "[236]\ttraining's rmse: 0.225501\ttraining's l2: 0.0508506\tvalid_1's rmse: 0.267316\tvalid_1's l2: 0.0714577\n",
      "[237]\ttraining's rmse: 0.225453\ttraining's l2: 0.0508291\tvalid_1's rmse: 0.26731\tvalid_1's l2: 0.0714546\n"
     ]
    },
    {
     "name": "stdout",
     "output_type": "stream",
     "text": [
      "[238]\ttraining's rmse: 0.225351\ttraining's l2: 0.0507833\tvalid_1's rmse: 0.267235\tvalid_1's l2: 0.0714147\n",
      "[239]\ttraining's rmse: 0.225285\ttraining's l2: 0.0507533\tvalid_1's rmse: 0.267208\tvalid_1's l2: 0.0714003\n",
      "[240]\ttraining's rmse: 0.225221\ttraining's l2: 0.0507247\tvalid_1's rmse: 0.267151\tvalid_1's l2: 0.0713696\n",
      "[241]\ttraining's rmse: 0.22516\ttraining's l2: 0.0506969\tvalid_1's rmse: 0.267088\tvalid_1's l2: 0.0713359\n",
      "[242]\ttraining's rmse: 0.22505\ttraining's l2: 0.0506477\tvalid_1's rmse: 0.26692\tvalid_1's l2: 0.0712465\n",
      "[243]\ttraining's rmse: 0.224954\ttraining's l2: 0.0506043\tvalid_1's rmse: 0.266761\tvalid_1's l2: 0.0711616\n",
      "[244]\ttraining's rmse: 0.224889\ttraining's l2: 0.050575\tvalid_1's rmse: 0.266731\tvalid_1's l2: 0.0711454\n",
      "[245]\ttraining's rmse: 0.224825\ttraining's l2: 0.0505462\tvalid_1's rmse: 0.266725\tvalid_1's l2: 0.071142\n",
      "[246]\ttraining's rmse: 0.224705\ttraining's l2: 0.0504921\tvalid_1's rmse: 0.266505\tvalid_1's l2: 0.0710251\n",
      "[247]\ttraining's rmse: 0.224626\ttraining's l2: 0.0504567\tvalid_1's rmse: 0.266413\tvalid_1's l2: 0.0709757\n",
      "[248]\ttraining's rmse: 0.224583\ttraining's l2: 0.0504375\tvalid_1's rmse: 0.266382\tvalid_1's l2: 0.0709596\n",
      "[249]\ttraining's rmse: 0.224527\ttraining's l2: 0.0504126\tvalid_1's rmse: 0.266305\tvalid_1's l2: 0.0709184\n",
      "[250]\ttraining's rmse: 0.224442\ttraining's l2: 0.0503742\tvalid_1's rmse: 0.266177\tvalid_1's l2: 0.0708501\n",
      "[251]\ttraining's rmse: 0.224351\ttraining's l2: 0.0503334\tvalid_1's rmse: 0.266119\tvalid_1's l2: 0.0708193\n",
      "[252]\ttraining's rmse: 0.224293\ttraining's l2: 0.0503072\tvalid_1's rmse: 0.266091\tvalid_1's l2: 0.0708046\n",
      "[253]\ttraining's rmse: 0.224211\ttraining's l2: 0.0502707\tvalid_1's rmse: 0.265952\tvalid_1's l2: 0.0707306\n",
      "[254]\ttraining's rmse: 0.224142\ttraining's l2: 0.0502398\tvalid_1's rmse: 0.265897\tvalid_1's l2: 0.0707011\n",
      "[255]\ttraining's rmse: 0.224072\ttraining's l2: 0.0502084\tvalid_1's rmse: 0.265719\tvalid_1's l2: 0.0706066\n",
      "[256]\ttraining's rmse: 0.224035\ttraining's l2: 0.0501915\tvalid_1's rmse: 0.265701\tvalid_1's l2: 0.070597\n",
      "[257]\ttraining's rmse: 0.223987\ttraining's l2: 0.05017\tvalid_1's rmse: 0.265681\tvalid_1's l2: 0.0705866\n",
      "[258]\ttraining's rmse: 0.223937\ttraining's l2: 0.050148\tvalid_1's rmse: 0.265661\tvalid_1's l2: 0.0705756\n",
      "[259]\ttraining's rmse: 0.223881\ttraining's l2: 0.0501228\tvalid_1's rmse: 0.265669\tvalid_1's l2: 0.07058\n",
      "[260]\ttraining's rmse: 0.223824\ttraining's l2: 0.050097\tvalid_1's rmse: 0.265575\tvalid_1's l2: 0.0705301\n",
      "[261]\ttraining's rmse: 0.223771\ttraining's l2: 0.0500735\tvalid_1's rmse: 0.265452\tvalid_1's l2: 0.070465\n",
      "[262]\ttraining's rmse: 0.223705\ttraining's l2: 0.0500438\tvalid_1's rmse: 0.265455\tvalid_1's l2: 0.0704664\n",
      "[263]\ttraining's rmse: 0.223669\ttraining's l2: 0.0500279\tvalid_1's rmse: 0.265432\tvalid_1's l2: 0.0704541\n",
      "[264]\ttraining's rmse: 0.223625\ttraining's l2: 0.0500081\tvalid_1's rmse: 0.265307\tvalid_1's l2: 0.0703879\n",
      "[265]\ttraining's rmse: 0.223501\ttraining's l2: 0.0499528\tvalid_1's rmse: 0.265329\tvalid_1's l2: 0.0703994\n",
      "[266]\ttraining's rmse: 0.223432\ttraining's l2: 0.0499221\tvalid_1's rmse: 0.265193\tvalid_1's l2: 0.0703276\n",
      "[267]\ttraining's rmse: 0.223361\ttraining's l2: 0.04989\tvalid_1's rmse: 0.265132\tvalid_1's l2: 0.0702949\n",
      "[268]\ttraining's rmse: 0.223326\ttraining's l2: 0.0498747\tvalid_1's rmse: 0.265106\tvalid_1's l2: 0.0702811\n",
      "[269]\ttraining's rmse: 0.223295\ttraining's l2: 0.0498605\tvalid_1's rmse: 0.264903\tvalid_1's l2: 0.0701734\n",
      "[270]\ttraining's rmse: 0.22325\ttraining's l2: 0.0498406\tvalid_1's rmse: 0.26487\tvalid_1's l2: 0.070156\n",
      "[271]\ttraining's rmse: 0.223196\ttraining's l2: 0.0498163\tvalid_1's rmse: 0.264708\tvalid_1's l2: 0.0700706\n",
      "[272]\ttraining's rmse: 0.223066\ttraining's l2: 0.0497585\tvalid_1's rmse: 0.264586\tvalid_1's l2: 0.0700058\n",
      "[273]\ttraining's rmse: 0.222963\ttraining's l2: 0.0497124\tvalid_1's rmse: 0.264521\tvalid_1's l2: 0.0699712\n",
      "[274]\ttraining's rmse: 0.222876\ttraining's l2: 0.0496738\tvalid_1's rmse: 0.2645\tvalid_1's l2: 0.0699601\n",
      "[275]\ttraining's rmse: 0.222809\ttraining's l2: 0.049644\tvalid_1's rmse: 0.264445\tvalid_1's l2: 0.0699313\n",
      "[276]\ttraining's rmse: 0.222716\ttraining's l2: 0.0496022\tvalid_1's rmse: 0.264306\tvalid_1's l2: 0.0698577\n",
      "[277]\ttraining's rmse: 0.222644\ttraining's l2: 0.0495704\tvalid_1's rmse: 0.264089\tvalid_1's l2: 0.0697432\n",
      "[278]\ttraining's rmse: 0.22258\ttraining's l2: 0.0495421\tvalid_1's rmse: 0.263951\tvalid_1's l2: 0.0696703\n",
      "[279]\ttraining's rmse: 0.222536\ttraining's l2: 0.0495224\tvalid_1's rmse: 0.263854\tvalid_1's l2: 0.069619\n",
      "[280]\ttraining's rmse: 0.222448\ttraining's l2: 0.0494829\tvalid_1's rmse: 0.263761\tvalid_1's l2: 0.0695701\n",
      "[281]\ttraining's rmse: 0.222367\ttraining's l2: 0.0494471\tvalid_1's rmse: 0.263642\tvalid_1's l2: 0.0695071\n",
      "[282]\ttraining's rmse: 0.222334\ttraining's l2: 0.0494323\tvalid_1's rmse: 0.263519\tvalid_1's l2: 0.0694422\n",
      "[283]\ttraining's rmse: 0.22226\ttraining's l2: 0.0493995\tvalid_1's rmse: 0.263482\tvalid_1's l2: 0.0694228\n",
      "[284]\ttraining's rmse: 0.22221\ttraining's l2: 0.0493772\tvalid_1's rmse: 0.263446\tvalid_1's l2: 0.0694039\n",
      "[285]\ttraining's rmse: 0.222158\ttraining's l2: 0.0493544\tvalid_1's rmse: 0.263409\tvalid_1's l2: 0.0693843\n",
      "[286]\ttraining's rmse: 0.222092\ttraining's l2: 0.049325\tvalid_1's rmse: 0.263341\tvalid_1's l2: 0.0693483\n",
      "[287]\ttraining's rmse: 0.222031\ttraining's l2: 0.0492976\tvalid_1's rmse: 0.263349\tvalid_1's l2: 0.0693529\n",
      "[288]\ttraining's rmse: 0.221942\ttraining's l2: 0.0492584\tvalid_1's rmse: 0.26321\tvalid_1's l2: 0.0692797\n",
      "[289]\ttraining's rmse: 0.221898\ttraining's l2: 0.0492388\tvalid_1's rmse: 0.263116\tvalid_1's l2: 0.0692302\n",
      "[290]\ttraining's rmse: 0.221855\ttraining's l2: 0.0492195\tvalid_1's rmse: 0.263095\tvalid_1's l2: 0.0692188\n",
      "[291]\ttraining's rmse: 0.221774\ttraining's l2: 0.0491838\tvalid_1's rmse: 0.262957\tvalid_1's l2: 0.0691466\n",
      "[292]\ttraining's rmse: 0.221714\ttraining's l2: 0.0491569\tvalid_1's rmse: 0.262682\tvalid_1's l2: 0.0690019\n",
      "[293]\ttraining's rmse: 0.221638\ttraining's l2: 0.0491236\tvalid_1's rmse: 0.262628\tvalid_1's l2: 0.0689734\n",
      "[294]\ttraining's rmse: 0.221572\ttraining's l2: 0.049094\tvalid_1's rmse: 0.262542\tvalid_1's l2: 0.0689284\n",
      "[295]\ttraining's rmse: 0.221479\ttraining's l2: 0.049053\tvalid_1's rmse: 0.262468\tvalid_1's l2: 0.0688897\n",
      "[296]\ttraining's rmse: 0.221445\ttraining's l2: 0.0490378\tvalid_1's rmse: 0.262402\tvalid_1's l2: 0.0688549\n",
      "[297]\ttraining's rmse: 0.221414\ttraining's l2: 0.0490242\tvalid_1's rmse: 0.262375\tvalid_1's l2: 0.0688404\n",
      "[298]\ttraining's rmse: 0.22133\ttraining's l2: 0.0489869\tvalid_1's rmse: 0.262392\tvalid_1's l2: 0.0688497\n",
      "[299]\ttraining's rmse: 0.221267\ttraining's l2: 0.048959\tvalid_1's rmse: 0.262288\tvalid_1's l2: 0.0687947\n",
      "[300]\ttraining's rmse: 0.221189\ttraining's l2: 0.0489246\tvalid_1's rmse: 0.262212\tvalid_1's l2: 0.0687552\n",
      "[301]\ttraining's rmse: 0.221104\ttraining's l2: 0.0488869\tvalid_1's rmse: 0.262157\tvalid_1's l2: 0.0687263\n",
      "[302]\ttraining's rmse: 0.221057\ttraining's l2: 0.0488663\tvalid_1's rmse: 0.262161\tvalid_1's l2: 0.0687283\n",
      "[303]\ttraining's rmse: 0.220981\ttraining's l2: 0.0488326\tvalid_1's rmse: 0.262155\tvalid_1's l2: 0.068725\n",
      "[304]\ttraining's rmse: 0.220922\ttraining's l2: 0.0488067\tvalid_1's rmse: 0.261987\tvalid_1's l2: 0.0686374\n",
      "[305]\ttraining's rmse: 0.22089\ttraining's l2: 0.0487924\tvalid_1's rmse: 0.261939\tvalid_1's l2: 0.0686122\n",
      "[306]\ttraining's rmse: 0.220822\ttraining's l2: 0.0487623\tvalid_1's rmse: 0.261915\tvalid_1's l2: 0.0685995\n",
      "[307]\ttraining's rmse: 0.220781\ttraining's l2: 0.0487441\tvalid_1's rmse: 0.261806\tvalid_1's l2: 0.0685422\n",
      "[308]\ttraining's rmse: 0.220759\ttraining's l2: 0.0487345\tvalid_1's rmse: 0.26181\tvalid_1's l2: 0.0685444\n",
      "[309]\ttraining's rmse: 0.220702\ttraining's l2: 0.0487093\tvalid_1's rmse: 0.26176\tvalid_1's l2: 0.0685182\n",
      "[310]\ttraining's rmse: 0.220632\ttraining's l2: 0.0486786\tvalid_1's rmse: 0.261768\tvalid_1's l2: 0.0685226\n",
      "[311]\ttraining's rmse: 0.220583\ttraining's l2: 0.0486569\tvalid_1's rmse: 0.2617\tvalid_1's l2: 0.0684867\n",
      "[312]\ttraining's rmse: 0.220526\ttraining's l2: 0.0486316\tvalid_1's rmse: 0.261693\tvalid_1's l2: 0.0684834\n",
      "[313]\ttraining's rmse: 0.220427\ttraining's l2: 0.048588\tvalid_1's rmse: 0.261567\tvalid_1's l2: 0.0684175\n",
      "[314]\ttraining's rmse: 0.220387\ttraining's l2: 0.0485704\tvalid_1's rmse: 0.26146\tvalid_1's l2: 0.0683615\n",
      "[315]\ttraining's rmse: 0.220332\ttraining's l2: 0.0485461\tvalid_1's rmse: 0.261419\tvalid_1's l2: 0.0683399\n",
      "[316]\ttraining's rmse: 0.220279\ttraining's l2: 0.0485229\tvalid_1's rmse: 0.261391\tvalid_1's l2: 0.0683254\n",
      "[317]\ttraining's rmse: 0.220226\ttraining's l2: 0.0484997\tvalid_1's rmse: 0.261105\tvalid_1's l2: 0.068176\n",
      "[318]\ttraining's rmse: 0.220178\ttraining's l2: 0.0484782\tvalid_1's rmse: 0.26106\tvalid_1's l2: 0.0681524\n"
     ]
    },
    {
     "name": "stdout",
     "output_type": "stream",
     "text": [
      "[319]\ttraining's rmse: 0.220127\ttraining's l2: 0.0484559\tvalid_1's rmse: 0.261055\tvalid_1's l2: 0.0681495\n",
      "[320]\ttraining's rmse: 0.220077\ttraining's l2: 0.048434\tvalid_1's rmse: 0.261015\tvalid_1's l2: 0.0681287\n",
      "[321]\ttraining's rmse: 0.220049\ttraining's l2: 0.0484215\tvalid_1's rmse: 0.261024\tvalid_1's l2: 0.0681335\n",
      "[322]\ttraining's rmse: 0.219989\ttraining's l2: 0.048395\tvalid_1's rmse: 0.261021\tvalid_1's l2: 0.0681319\n",
      "[323]\ttraining's rmse: 0.219929\ttraining's l2: 0.0483687\tvalid_1's rmse: 0.260957\tvalid_1's l2: 0.0680984\n",
      "[324]\ttraining's rmse: 0.219885\ttraining's l2: 0.0483493\tvalid_1's rmse: 0.260902\tvalid_1's l2: 0.0680696\n",
      "[325]\ttraining's rmse: 0.219817\ttraining's l2: 0.0483197\tvalid_1's rmse: 0.260751\tvalid_1's l2: 0.0679909\n",
      "[326]\ttraining's rmse: 0.219776\ttraining's l2: 0.0483015\tvalid_1's rmse: 0.260742\tvalid_1's l2: 0.0679862\n",
      "[327]\ttraining's rmse: 0.219729\ttraining's l2: 0.0482807\tvalid_1's rmse: 0.260769\tvalid_1's l2: 0.0680003\n",
      "[328]\ttraining's rmse: 0.219681\ttraining's l2: 0.0482597\tvalid_1's rmse: 0.260731\tvalid_1's l2: 0.0679808\n",
      "[329]\ttraining's rmse: 0.219662\ttraining's l2: 0.0482515\tvalid_1's rmse: 0.260714\tvalid_1's l2: 0.0679719\n",
      "[330]\ttraining's rmse: 0.219617\ttraining's l2: 0.0482316\tvalid_1's rmse: 0.260707\tvalid_1's l2: 0.0679683\n",
      "[331]\ttraining's rmse: 0.219545\ttraining's l2: 0.0482001\tvalid_1's rmse: 0.260629\tvalid_1's l2: 0.0679273\n",
      "[332]\ttraining's rmse: 0.219482\ttraining's l2: 0.0481724\tvalid_1's rmse: 0.260584\tvalid_1's l2: 0.0679042\n",
      "[333]\ttraining's rmse: 0.219412\ttraining's l2: 0.0481415\tvalid_1's rmse: 0.26056\tvalid_1's l2: 0.0678913\n",
      "[334]\ttraining's rmse: 0.21938\ttraining's l2: 0.0481276\tvalid_1's rmse: 0.260523\tvalid_1's l2: 0.0678724\n",
      "[335]\ttraining's rmse: 0.219322\ttraining's l2: 0.0481021\tvalid_1's rmse: 0.260463\tvalid_1's l2: 0.0678408\n",
      "[336]\ttraining's rmse: 0.219277\ttraining's l2: 0.0480822\tvalid_1's rmse: 0.260323\tvalid_1's l2: 0.0677679\n",
      "[337]\ttraining's rmse: 0.219198\ttraining's l2: 0.0480477\tvalid_1's rmse: 0.260192\tvalid_1's l2: 0.0676998\n",
      "[338]\ttraining's rmse: 0.219124\ttraining's l2: 0.0480154\tvalid_1's rmse: 0.260129\tvalid_1's l2: 0.0676672\n",
      "[339]\ttraining's rmse: 0.219079\ttraining's l2: 0.0479958\tvalid_1's rmse: 0.260107\tvalid_1's l2: 0.0676557\n",
      "[340]\ttraining's rmse: 0.219\ttraining's l2: 0.0479608\tvalid_1's rmse: 0.259966\tvalid_1's l2: 0.0675822\n",
      "[341]\ttraining's rmse: 0.218947\ttraining's l2: 0.0479376\tvalid_1's rmse: 0.259913\tvalid_1's l2: 0.0675547\n",
      "[342]\ttraining's rmse: 0.218909\ttraining's l2: 0.0479213\tvalid_1's rmse: 0.259904\tvalid_1's l2: 0.0675501\n",
      "[343]\ttraining's rmse: 0.218881\ttraining's l2: 0.0479087\tvalid_1's rmse: 0.259813\tvalid_1's l2: 0.067503\n",
      "[344]\ttraining's rmse: 0.21883\ttraining's l2: 0.0478867\tvalid_1's rmse: 0.259812\tvalid_1's l2: 0.0675023\n",
      "[345]\ttraining's rmse: 0.218782\ttraining's l2: 0.0478656\tvalid_1's rmse: 0.259664\tvalid_1's l2: 0.0674252\n",
      "[346]\ttraining's rmse: 0.218709\ttraining's l2: 0.0478338\tvalid_1's rmse: 0.259431\tvalid_1's l2: 0.0673045\n",
      "[347]\ttraining's rmse: 0.218675\ttraining's l2: 0.0478187\tvalid_1's rmse: 0.259412\tvalid_1's l2: 0.0672947\n",
      "[348]\ttraining's rmse: 0.218614\ttraining's l2: 0.0477919\tvalid_1's rmse: 0.259332\tvalid_1's l2: 0.0672531\n",
      "[349]\ttraining's rmse: 0.218564\ttraining's l2: 0.0477702\tvalid_1's rmse: 0.259288\tvalid_1's l2: 0.0672301\n",
      "[350]\ttraining's rmse: 0.218533\ttraining's l2: 0.0477567\tvalid_1's rmse: 0.259246\tvalid_1's l2: 0.0672085\n",
      "[351]\ttraining's rmse: 0.218475\ttraining's l2: 0.0477315\tvalid_1's rmse: 0.259252\tvalid_1's l2: 0.0672114\n",
      "[352]\ttraining's rmse: 0.218429\ttraining's l2: 0.0477114\tvalid_1's rmse: 0.25922\tvalid_1's l2: 0.0671948\n",
      "[353]\ttraining's rmse: 0.218406\ttraining's l2: 0.047701\tvalid_1's rmse: 0.259228\tvalid_1's l2: 0.067199\n",
      "[354]\ttraining's rmse: 0.218374\ttraining's l2: 0.0476872\tvalid_1's rmse: 0.259188\tvalid_1's l2: 0.0671783\n",
      "[355]\ttraining's rmse: 0.218322\ttraining's l2: 0.0476644\tvalid_1's rmse: 0.259086\tvalid_1's l2: 0.0671254\n",
      "[356]\ttraining's rmse: 0.218266\ttraining's l2: 0.04764\tvalid_1's rmse: 0.259046\tvalid_1's l2: 0.0671048\n",
      "[357]\ttraining's rmse: 0.218192\ttraining's l2: 0.0476077\tvalid_1's rmse: 0.258954\tvalid_1's l2: 0.0670569\n",
      "[358]\ttraining's rmse: 0.218132\ttraining's l2: 0.0475815\tvalid_1's rmse: 0.258805\tvalid_1's l2: 0.0669801\n",
      "[359]\ttraining's rmse: 0.218103\ttraining's l2: 0.0475689\tvalid_1's rmse: 0.258609\tvalid_1's l2: 0.0668784\n",
      "[360]\ttraining's rmse: 0.218072\ttraining's l2: 0.0475555\tvalid_1's rmse: 0.258565\tvalid_1's l2: 0.0668558\n",
      "[361]\ttraining's rmse: 0.218035\ttraining's l2: 0.0475391\tvalid_1's rmse: 0.258538\tvalid_1's l2: 0.0668421\n",
      "[362]\ttraining's rmse: 0.217949\ttraining's l2: 0.0475016\tvalid_1's rmse: 0.25845\tvalid_1's l2: 0.0667962\n",
      "[363]\ttraining's rmse: 0.217855\ttraining's l2: 0.0474608\tvalid_1's rmse: 0.25842\tvalid_1's l2: 0.0667806\n",
      "[364]\ttraining's rmse: 0.217783\ttraining's l2: 0.0474295\tvalid_1's rmse: 0.258353\tvalid_1's l2: 0.0667464\n",
      "[365]\ttraining's rmse: 0.217745\ttraining's l2: 0.0474127\tvalid_1's rmse: 0.258318\tvalid_1's l2: 0.0667284\n",
      "[366]\ttraining's rmse: 0.217707\ttraining's l2: 0.0473963\tvalid_1's rmse: 0.258275\tvalid_1's l2: 0.0667061\n",
      "[367]\ttraining's rmse: 0.21766\ttraining's l2: 0.0473757\tvalid_1's rmse: 0.258248\tvalid_1's l2: 0.0666921\n",
      "[368]\ttraining's rmse: 0.217595\ttraining's l2: 0.0473478\tvalid_1's rmse: 0.258183\tvalid_1's l2: 0.0666587\n",
      "[369]\ttraining's rmse: 0.217546\ttraining's l2: 0.0473263\tvalid_1's rmse: 0.258166\tvalid_1's l2: 0.0666499\n",
      "[370]\ttraining's rmse: 0.217487\ttraining's l2: 0.0473005\tvalid_1's rmse: 0.258131\tvalid_1's l2: 0.0666318\n",
      "[371]\ttraining's rmse: 0.217457\ttraining's l2: 0.0472874\tvalid_1's rmse: 0.258132\tvalid_1's l2: 0.066632\n",
      "[372]\ttraining's rmse: 0.217412\ttraining's l2: 0.0472681\tvalid_1's rmse: 0.258116\tvalid_1's l2: 0.0666241\n",
      "[373]\ttraining's rmse: 0.217388\ttraining's l2: 0.0472574\tvalid_1's rmse: 0.258092\tvalid_1's l2: 0.0666117\n",
      "[374]\ttraining's rmse: 0.217363\ttraining's l2: 0.0472466\tvalid_1's rmse: 0.258088\tvalid_1's l2: 0.0666092\n",
      "[375]\ttraining's rmse: 0.217329\ttraining's l2: 0.0472321\tvalid_1's rmse: 0.258077\tvalid_1's l2: 0.0666039\n",
      "[376]\ttraining's rmse: 0.217305\ttraining's l2: 0.0472216\tvalid_1's rmse: 0.258023\tvalid_1's l2: 0.0665759\n",
      "[377]\ttraining's rmse: 0.217259\ttraining's l2: 0.0472016\tvalid_1's rmse: 0.257999\tvalid_1's l2: 0.0665637\n",
      "[378]\ttraining's rmse: 0.217219\ttraining's l2: 0.0471841\tvalid_1's rmse: 0.257923\tvalid_1's l2: 0.0665242\n",
      "[379]\ttraining's rmse: 0.21717\ttraining's l2: 0.0471628\tvalid_1's rmse: 0.257887\tvalid_1's l2: 0.0665057\n",
      "[380]\ttraining's rmse: 0.217081\ttraining's l2: 0.0471243\tvalid_1's rmse: 0.257776\tvalid_1's l2: 0.0664483\n",
      "[381]\ttraining's rmse: 0.217034\ttraining's l2: 0.0471039\tvalid_1's rmse: 0.257747\tvalid_1's l2: 0.0664336\n",
      "[382]\ttraining's rmse: 0.217002\ttraining's l2: 0.04709\tvalid_1's rmse: 0.257709\tvalid_1's l2: 0.0664138\n",
      "[383]\ttraining's rmse: 0.216949\ttraining's l2: 0.0470669\tvalid_1's rmse: 0.257589\tvalid_1's l2: 0.0663523\n",
      "[384]\ttraining's rmse: 0.216917\ttraining's l2: 0.0470531\tvalid_1's rmse: 0.257541\tvalid_1's l2: 0.0663275\n",
      "[385]\ttraining's rmse: 0.216882\ttraining's l2: 0.047038\tvalid_1's rmse: 0.257526\tvalid_1's l2: 0.0663196\n",
      "[386]\ttraining's rmse: 0.216832\ttraining's l2: 0.0470159\tvalid_1's rmse: 0.25752\tvalid_1's l2: 0.0663168\n",
      "[387]\ttraining's rmse: 0.216767\ttraining's l2: 0.0469878\tvalid_1's rmse: 0.257452\tvalid_1's l2: 0.0662814\n",
      "[388]\ttraining's rmse: 0.216738\ttraining's l2: 0.0469754\tvalid_1's rmse: 0.257421\tvalid_1's l2: 0.0662655\n",
      "[389]\ttraining's rmse: 0.216678\ttraining's l2: 0.0469494\tvalid_1's rmse: 0.257355\tvalid_1's l2: 0.0662315\n",
      "[390]\ttraining's rmse: 0.216653\ttraining's l2: 0.0469386\tvalid_1's rmse: 0.257299\tvalid_1's l2: 0.0662027\n",
      "[391]\ttraining's rmse: 0.216632\ttraining's l2: 0.0469293\tvalid_1's rmse: 0.257291\tvalid_1's l2: 0.0661984\n",
      "[392]\ttraining's rmse: 0.216597\ttraining's l2: 0.0469145\tvalid_1's rmse: 0.257261\tvalid_1's l2: 0.0661832\n",
      "[393]\ttraining's rmse: 0.216561\ttraining's l2: 0.0468986\tvalid_1's rmse: 0.257203\tvalid_1's l2: 0.0661534\n",
      "[394]\ttraining's rmse: 0.216504\ttraining's l2: 0.0468741\tvalid_1's rmse: 0.257223\tvalid_1's l2: 0.0661636\n",
      "[395]\ttraining's rmse: 0.216463\ttraining's l2: 0.0468561\tvalid_1's rmse: 0.25717\tvalid_1's l2: 0.0661366\n",
      "[396]\ttraining's rmse: 0.216442\ttraining's l2: 0.0468471\tvalid_1's rmse: 0.257131\tvalid_1's l2: 0.0661163\n",
      "[397]\ttraining's rmse: 0.216408\ttraining's l2: 0.0468324\tvalid_1's rmse: 0.257075\tvalid_1's l2: 0.0660878\n",
      "[398]\ttraining's rmse: 0.216381\ttraining's l2: 0.0468207\tvalid_1's rmse: 0.257076\tvalid_1's l2: 0.0660882\n"
     ]
    },
    {
     "name": "stdout",
     "output_type": "stream",
     "text": [
      "[399]\ttraining's rmse: 0.216316\ttraining's l2: 0.0467928\tvalid_1's rmse: 0.257025\tvalid_1's l2: 0.066062\n",
      "[400]\ttraining's rmse: 0.216274\ttraining's l2: 0.0467745\tvalid_1's rmse: 0.256956\tvalid_1's l2: 0.0660263\n",
      "[401]\ttraining's rmse: 0.216209\ttraining's l2: 0.0467465\tvalid_1's rmse: 0.25691\tvalid_1's l2: 0.0660026\n",
      "[402]\ttraining's rmse: 0.216145\ttraining's l2: 0.0467187\tvalid_1's rmse: 0.256796\tvalid_1's l2: 0.0659441\n",
      "[403]\ttraining's rmse: 0.216089\ttraining's l2: 0.0466943\tvalid_1's rmse: 0.256746\tvalid_1's l2: 0.0659184\n",
      "[404]\ttraining's rmse: 0.216075\ttraining's l2: 0.0466883\tvalid_1's rmse: 0.256735\tvalid_1's l2: 0.0659128\n",
      "[405]\ttraining's rmse: 0.216035\ttraining's l2: 0.046671\tvalid_1's rmse: 0.256728\tvalid_1's l2: 0.065909\n",
      "[406]\ttraining's rmse: 0.215992\ttraining's l2: 0.0466527\tvalid_1's rmse: 0.256698\tvalid_1's l2: 0.065894\n",
      "[407]\ttraining's rmse: 0.215949\ttraining's l2: 0.046634\tvalid_1's rmse: 0.256689\tvalid_1's l2: 0.0658894\n",
      "[408]\ttraining's rmse: 0.215926\ttraining's l2: 0.0466242\tvalid_1's rmse: 0.256684\tvalid_1's l2: 0.0658868\n",
      "[409]\ttraining's rmse: 0.215878\ttraining's l2: 0.0466035\tvalid_1's rmse: 0.256642\tvalid_1's l2: 0.0658651\n",
      "[410]\ttraining's rmse: 0.215827\ttraining's l2: 0.0465815\tvalid_1's rmse: 0.256615\tvalid_1's l2: 0.0658515\n",
      "[411]\ttraining's rmse: 0.215769\ttraining's l2: 0.0465561\tvalid_1's rmse: 0.256533\tvalid_1's l2: 0.0658092\n",
      "[412]\ttraining's rmse: 0.215749\ttraining's l2: 0.0465475\tvalid_1's rmse: 0.256538\tvalid_1's l2: 0.0658115\n",
      "[413]\ttraining's rmse: 0.215716\ttraining's l2: 0.0465334\tvalid_1's rmse: 0.256397\tvalid_1's l2: 0.0657396\n",
      "[414]\ttraining's rmse: 0.215673\ttraining's l2: 0.0465148\tvalid_1's rmse: 0.256334\tvalid_1's l2: 0.0657071\n",
      "[415]\ttraining's rmse: 0.215636\ttraining's l2: 0.046499\tvalid_1's rmse: 0.256241\tvalid_1's l2: 0.0656595\n",
      "[416]\ttraining's rmse: 0.215583\ttraining's l2: 0.0464761\tvalid_1's rmse: 0.25609\tvalid_1's l2: 0.0655821\n",
      "[417]\ttraining's rmse: 0.215539\ttraining's l2: 0.0464573\tvalid_1's rmse: 0.256042\tvalid_1's l2: 0.0655573\n",
      "[418]\ttraining's rmse: 0.215502\ttraining's l2: 0.0464413\tvalid_1's rmse: 0.256004\tvalid_1's l2: 0.0655381\n",
      "[419]\ttraining's rmse: 0.215484\ttraining's l2: 0.0464333\tvalid_1's rmse: 0.256007\tvalid_1's l2: 0.0655394\n",
      "[420]\ttraining's rmse: 0.215466\ttraining's l2: 0.0464256\tvalid_1's rmse: 0.255999\tvalid_1's l2: 0.0655353\n",
      "[421]\ttraining's rmse: 0.215447\ttraining's l2: 0.0464175\tvalid_1's rmse: 0.255954\tvalid_1's l2: 0.0655123\n",
      "[422]\ttraining's rmse: 0.215416\ttraining's l2: 0.0464039\tvalid_1's rmse: 0.255953\tvalid_1's l2: 0.0655117\n",
      "[423]\ttraining's rmse: 0.215365\ttraining's l2: 0.0463823\tvalid_1's rmse: 0.255946\tvalid_1's l2: 0.0655081\n",
      "[424]\ttraining's rmse: 0.215332\ttraining's l2: 0.0463677\tvalid_1's rmse: 0.255943\tvalid_1's l2: 0.0655069\n",
      "[425]\ttraining's rmse: 0.215275\ttraining's l2: 0.0463434\tvalid_1's rmse: 0.255881\tvalid_1's l2: 0.065475\n",
      "[426]\ttraining's rmse: 0.215241\ttraining's l2: 0.0463288\tvalid_1's rmse: 0.255953\tvalid_1's l2: 0.0655122\n",
      "[427]\ttraining's rmse: 0.215217\ttraining's l2: 0.0463183\tvalid_1's rmse: 0.255952\tvalid_1's l2: 0.0655114\n",
      "[428]\ttraining's rmse: 0.215181\ttraining's l2: 0.0463029\tvalid_1's rmse: 0.255936\tvalid_1's l2: 0.0655033\n",
      "[429]\ttraining's rmse: 0.215158\ttraining's l2: 0.0462928\tvalid_1's rmse: 0.255912\tvalid_1's l2: 0.065491\n",
      "[430]\ttraining's rmse: 0.215132\ttraining's l2: 0.046282\tvalid_1's rmse: 0.255869\tvalid_1's l2: 0.065469\n",
      "[431]\ttraining's rmse: 0.215098\ttraining's l2: 0.046267\tvalid_1's rmse: 0.255851\tvalid_1's l2: 0.0654598\n",
      "[432]\ttraining's rmse: 0.215061\ttraining's l2: 0.0462511\tvalid_1's rmse: 0.255829\tvalid_1's l2: 0.0654483\n",
      "[433]\ttraining's rmse: 0.215024\ttraining's l2: 0.0462355\tvalid_1's rmse: 0.255787\tvalid_1's l2: 0.065427\n",
      "[434]\ttraining's rmse: 0.214982\ttraining's l2: 0.0462172\tvalid_1's rmse: 0.255748\tvalid_1's l2: 0.0654069\n",
      "[435]\ttraining's rmse: 0.214954\ttraining's l2: 0.0462053\tvalid_1's rmse: 0.255622\tvalid_1's l2: 0.0653426\n",
      "[436]\ttraining's rmse: 0.214918\ttraining's l2: 0.0461899\tvalid_1's rmse: 0.255623\tvalid_1's l2: 0.065343\n",
      "[437]\ttraining's rmse: 0.214873\ttraining's l2: 0.0461704\tvalid_1's rmse: 0.255617\tvalid_1's l2: 0.0653401\n",
      "[438]\ttraining's rmse: 0.214831\ttraining's l2: 0.0461523\tvalid_1's rmse: 0.255582\tvalid_1's l2: 0.0653221\n",
      "[439]\ttraining's rmse: 0.214787\ttraining's l2: 0.0461335\tvalid_1's rmse: 0.255495\tvalid_1's l2: 0.0652779\n",
      "[440]\ttraining's rmse: 0.214742\ttraining's l2: 0.0461141\tvalid_1's rmse: 0.255477\tvalid_1's l2: 0.0652686\n",
      "[441]\ttraining's rmse: 0.214695\ttraining's l2: 0.046094\tvalid_1's rmse: 0.255451\tvalid_1's l2: 0.0652553\n",
      "[442]\ttraining's rmse: 0.214663\ttraining's l2: 0.0460803\tvalid_1's rmse: 0.255397\tvalid_1's l2: 0.0652275\n",
      "[443]\ttraining's rmse: 0.214606\ttraining's l2: 0.0460559\tvalid_1's rmse: 0.2553\tvalid_1's l2: 0.0651779\n",
      "[444]\ttraining's rmse: 0.214586\ttraining's l2: 0.046047\tvalid_1's rmse: 0.255276\tvalid_1's l2: 0.0651659\n",
      "[445]\ttraining's rmse: 0.214564\ttraining's l2: 0.0460379\tvalid_1's rmse: 0.255228\tvalid_1's l2: 0.0651412\n",
      "[446]\ttraining's rmse: 0.214519\ttraining's l2: 0.0460182\tvalid_1's rmse: 0.255214\tvalid_1's l2: 0.0651344\n",
      "[447]\ttraining's rmse: 0.21446\ttraining's l2: 0.0459929\tvalid_1's rmse: 0.255126\tvalid_1's l2: 0.0650891\n",
      "[448]\ttraining's rmse: 0.214413\ttraining's l2: 0.0459731\tvalid_1's rmse: 0.255068\tvalid_1's l2: 0.0650595\n",
      "[449]\ttraining's rmse: 0.214371\ttraining's l2: 0.045955\tvalid_1's rmse: 0.255034\tvalid_1's l2: 0.0650421\n",
      "[450]\ttraining's rmse: 0.21434\ttraining's l2: 0.0459414\tvalid_1's rmse: 0.255002\tvalid_1's l2: 0.0650261\n",
      "[451]\ttraining's rmse: 0.214286\ttraining's l2: 0.0459185\tvalid_1's rmse: 0.254918\tvalid_1's l2: 0.064983\n",
      "[452]\ttraining's rmse: 0.214248\ttraining's l2: 0.0459021\tvalid_1's rmse: 0.254935\tvalid_1's l2: 0.064992\n",
      "[453]\ttraining's rmse: 0.214216\ttraining's l2: 0.0458886\tvalid_1's rmse: 0.254905\tvalid_1's l2: 0.0649764\n",
      "[454]\ttraining's rmse: 0.214169\ttraining's l2: 0.0458682\tvalid_1's rmse: 0.25491\tvalid_1's l2: 0.0649791\n",
      "[455]\ttraining's rmse: 0.214132\ttraining's l2: 0.0458526\tvalid_1's rmse: 0.254866\tvalid_1's l2: 0.0649566\n",
      "[456]\ttraining's rmse: 0.214067\ttraining's l2: 0.0458245\tvalid_1's rmse: 0.254717\tvalid_1's l2: 0.0648809\n",
      "[457]\ttraining's rmse: 0.214009\ttraining's l2: 0.0457998\tvalid_1's rmse: 0.254683\tvalid_1's l2: 0.0648634\n",
      "[458]\ttraining's rmse: 0.213994\ttraining's l2: 0.0457933\tvalid_1's rmse: 0.254678\tvalid_1's l2: 0.0648611\n",
      "[459]\ttraining's rmse: 0.213975\ttraining's l2: 0.0457852\tvalid_1's rmse: 0.254665\tvalid_1's l2: 0.0648542\n",
      "[460]\ttraining's rmse: 0.21394\ttraining's l2: 0.0457703\tvalid_1's rmse: 0.254641\tvalid_1's l2: 0.064842\n",
      "[461]\ttraining's rmse: 0.21392\ttraining's l2: 0.0457619\tvalid_1's rmse: 0.254617\tvalid_1's l2: 0.0648298\n",
      "[462]\ttraining's rmse: 0.213896\ttraining's l2: 0.0457515\tvalid_1's rmse: 0.254629\tvalid_1's l2: 0.0648361\n",
      "[463]\ttraining's rmse: 0.213858\ttraining's l2: 0.0457353\tvalid_1's rmse: 0.254586\tvalid_1's l2: 0.0648141\n",
      "[464]\ttraining's rmse: 0.213831\ttraining's l2: 0.0457235\tvalid_1's rmse: 0.254484\tvalid_1's l2: 0.064762\n",
      "[465]\ttraining's rmse: 0.213795\ttraining's l2: 0.0457083\tvalid_1's rmse: 0.254478\tvalid_1's l2: 0.0647592\n",
      "[466]\ttraining's rmse: 0.213776\ttraining's l2: 0.0457003\tvalid_1's rmse: 0.254466\tvalid_1's l2: 0.0647529\n",
      "[467]\ttraining's rmse: 0.213728\ttraining's l2: 0.0456796\tvalid_1's rmse: 0.254474\tvalid_1's l2: 0.0647569\n",
      "[468]\ttraining's rmse: 0.213679\ttraining's l2: 0.0456588\tvalid_1's rmse: 0.254338\tvalid_1's l2: 0.064688\n",
      "[469]\ttraining's rmse: 0.21365\ttraining's l2: 0.0456465\tvalid_1's rmse: 0.254316\tvalid_1's l2: 0.0646768\n",
      "[470]\ttraining's rmse: 0.213615\ttraining's l2: 0.0456314\tvalid_1's rmse: 0.25432\tvalid_1's l2: 0.0646788\n",
      "[471]\ttraining's rmse: 0.213577\ttraining's l2: 0.0456151\tvalid_1's rmse: 0.254329\tvalid_1's l2: 0.0646831\n",
      "[472]\ttraining's rmse: 0.213545\ttraining's l2: 0.0456014\tvalid_1's rmse: 0.25433\tvalid_1's l2: 0.0646839\n",
      "[473]\ttraining's rmse: 0.213523\ttraining's l2: 0.0455919\tvalid_1's rmse: 0.254334\tvalid_1's l2: 0.0646857\n",
      "[474]\ttraining's rmse: 0.213484\ttraining's l2: 0.0455755\tvalid_1's rmse: 0.254284\tvalid_1's l2: 0.0646603\n",
      "[475]\ttraining's rmse: 0.213446\ttraining's l2: 0.0455592\tvalid_1's rmse: 0.254283\tvalid_1's l2: 0.0646599\n",
      "[476]\ttraining's rmse: 0.213389\ttraining's l2: 0.0455348\tvalid_1's rmse: 0.254237\tvalid_1's l2: 0.0646364\n"
     ]
    },
    {
     "name": "stdout",
     "output_type": "stream",
     "text": [
      "[477]\ttraining's rmse: 0.213337\ttraining's l2: 0.0455128\tvalid_1's rmse: 0.254215\tvalid_1's l2: 0.0646254\n",
      "[478]\ttraining's rmse: 0.213294\ttraining's l2: 0.0454945\tvalid_1's rmse: 0.254163\tvalid_1's l2: 0.0645988\n",
      "[479]\ttraining's rmse: 0.213262\ttraining's l2: 0.0454807\tvalid_1's rmse: 0.254144\tvalid_1's l2: 0.0645891\n",
      "[480]\ttraining's rmse: 0.213228\ttraining's l2: 0.0454661\tvalid_1's rmse: 0.254115\tvalid_1's l2: 0.0645745\n",
      "[481]\ttraining's rmse: 0.213182\ttraining's l2: 0.0454465\tvalid_1's rmse: 0.254081\tvalid_1's l2: 0.064557\n",
      "[482]\ttraining's rmse: 0.213151\ttraining's l2: 0.0454333\tvalid_1's rmse: 0.254084\tvalid_1's l2: 0.0645586\n",
      "[483]\ttraining's rmse: 0.213105\ttraining's l2: 0.0454136\tvalid_1's rmse: 0.254084\tvalid_1's l2: 0.0645587\n",
      "[484]\ttraining's rmse: 0.213079\ttraining's l2: 0.0454027\tvalid_1's rmse: 0.254061\tvalid_1's l2: 0.064547\n",
      "[485]\ttraining's rmse: 0.213051\ttraining's l2: 0.0453905\tvalid_1's rmse: 0.254055\tvalid_1's l2: 0.064544\n",
      "[486]\ttraining's rmse: 0.213016\ttraining's l2: 0.0453757\tvalid_1's rmse: 0.253972\tvalid_1's l2: 0.0645019\n",
      "[487]\ttraining's rmse: 0.212997\ttraining's l2: 0.0453679\tvalid_1's rmse: 0.253958\tvalid_1's l2: 0.0644949\n",
      "[488]\ttraining's rmse: 0.212962\ttraining's l2: 0.0453526\tvalid_1's rmse: 0.253952\tvalid_1's l2: 0.0644917\n",
      "[489]\ttraining's rmse: 0.212923\ttraining's l2: 0.0453364\tvalid_1's rmse: 0.253858\tvalid_1's l2: 0.0644437\n",
      "[490]\ttraining's rmse: 0.212883\ttraining's l2: 0.0453193\tvalid_1's rmse: 0.253731\tvalid_1's l2: 0.0643797\n",
      "[491]\ttraining's rmse: 0.212848\ttraining's l2: 0.0453042\tvalid_1's rmse: 0.253735\tvalid_1's l2: 0.0643816\n",
      "[492]\ttraining's rmse: 0.21282\ttraining's l2: 0.0452925\tvalid_1's rmse: 0.253713\tvalid_1's l2: 0.0643702\n",
      "[493]\ttraining's rmse: 0.21279\ttraining's l2: 0.0452796\tvalid_1's rmse: 0.253735\tvalid_1's l2: 0.0643814\n",
      "[494]\ttraining's rmse: 0.212741\ttraining's l2: 0.0452589\tvalid_1's rmse: 0.253726\tvalid_1's l2: 0.0643769\n",
      "[495]\ttraining's rmse: 0.212704\ttraining's l2: 0.0452431\tvalid_1's rmse: 0.253688\tvalid_1's l2: 0.0643574\n",
      "[496]\ttraining's rmse: 0.212666\ttraining's l2: 0.0452267\tvalid_1's rmse: 0.253685\tvalid_1's l2: 0.064356\n",
      "[497]\ttraining's rmse: 0.212643\ttraining's l2: 0.0452172\tvalid_1's rmse: 0.253673\tvalid_1's l2: 0.0643498\n",
      "[498]\ttraining's rmse: 0.212602\ttraining's l2: 0.0451996\tvalid_1's rmse: 0.253611\tvalid_1's l2: 0.0643186\n",
      "[499]\ttraining's rmse: 0.212568\ttraining's l2: 0.0451849\tvalid_1's rmse: 0.253608\tvalid_1's l2: 0.0643168\n",
      "[500]\ttraining's rmse: 0.212547\ttraining's l2: 0.0451761\tvalid_1's rmse: 0.253559\tvalid_1's l2: 0.0642922\n",
      "[501]\ttraining's rmse: 0.212512\ttraining's l2: 0.0451613\tvalid_1's rmse: 0.253502\tvalid_1's l2: 0.0642632\n",
      "[502]\ttraining's rmse: 0.212491\ttraining's l2: 0.0451525\tvalid_1's rmse: 0.253493\tvalid_1's l2: 0.0642586\n",
      "[503]\ttraining's rmse: 0.212456\ttraining's l2: 0.0451374\tvalid_1's rmse: 0.253488\tvalid_1's l2: 0.0642562\n",
      "[504]\ttraining's rmse: 0.212435\ttraining's l2: 0.0451287\tvalid_1's rmse: 0.253497\tvalid_1's l2: 0.0642606\n",
      "[505]\ttraining's rmse: 0.212402\ttraining's l2: 0.0451144\tvalid_1's rmse: 0.253526\tvalid_1's l2: 0.0642757\n",
      "[506]\ttraining's rmse: 0.212368\ttraining's l2: 0.0451004\tvalid_1's rmse: 0.253537\tvalid_1's l2: 0.0642809\n",
      "[507]\ttraining's rmse: 0.212333\ttraining's l2: 0.0450854\tvalid_1's rmse: 0.253482\tvalid_1's l2: 0.0642529\n",
      "[508]\ttraining's rmse: 0.21229\ttraining's l2: 0.045067\tvalid_1's rmse: 0.253412\tvalid_1's l2: 0.0642178\n",
      "[509]\ttraining's rmse: 0.212263\ttraining's l2: 0.0450557\tvalid_1's rmse: 0.253341\tvalid_1's l2: 0.0641818\n",
      "[510]\ttraining's rmse: 0.21223\ttraining's l2: 0.0450417\tvalid_1's rmse: 0.253274\tvalid_1's l2: 0.0641475\n",
      "[511]\ttraining's rmse: 0.212201\ttraining's l2: 0.0450294\tvalid_1's rmse: 0.253241\tvalid_1's l2: 0.064131\n",
      "[512]\ttraining's rmse: 0.212152\ttraining's l2: 0.0450085\tvalid_1's rmse: 0.253192\tvalid_1's l2: 0.0641061\n",
      "[513]\ttraining's rmse: 0.212137\ttraining's l2: 0.0450021\tvalid_1's rmse: 0.253201\tvalid_1's l2: 0.0641108\n",
      "[514]\ttraining's rmse: 0.212113\ttraining's l2: 0.0449918\tvalid_1's rmse: 0.253177\tvalid_1's l2: 0.0640986\n",
      "[515]\ttraining's rmse: 0.212091\ttraining's l2: 0.0449828\tvalid_1's rmse: 0.253153\tvalid_1's l2: 0.0640864\n",
      "[516]\ttraining's rmse: 0.21206\ttraining's l2: 0.0449696\tvalid_1's rmse: 0.253109\tvalid_1's l2: 0.0640644\n",
      "[517]\ttraining's rmse: 0.21204\ttraining's l2: 0.0449611\tvalid_1's rmse: 0.253063\tvalid_1's l2: 0.0640407\n",
      "[518]\ttraining's rmse: 0.212006\ttraining's l2: 0.0449464\tvalid_1's rmse: 0.252929\tvalid_1's l2: 0.0639731\n",
      "[519]\ttraining's rmse: 0.211993\ttraining's l2: 0.0449409\tvalid_1's rmse: 0.252895\tvalid_1's l2: 0.0639557\n",
      "[520]\ttraining's rmse: 0.21197\ttraining's l2: 0.0449313\tvalid_1's rmse: 0.252853\tvalid_1's l2: 0.0639348\n",
      "[521]\ttraining's rmse: 0.211948\ttraining's l2: 0.0449221\tvalid_1's rmse: 0.252834\tvalid_1's l2: 0.0639251\n",
      "[522]\ttraining's rmse: 0.211921\ttraining's l2: 0.0449104\tvalid_1's rmse: 0.252779\tvalid_1's l2: 0.0638972\n",
      "[523]\ttraining's rmse: 0.211883\ttraining's l2: 0.0448942\tvalid_1's rmse: 0.252741\tvalid_1's l2: 0.0638778\n",
      "[524]\ttraining's rmse: 0.211854\ttraining's l2: 0.0448823\tvalid_1's rmse: 0.252685\tvalid_1's l2: 0.0638497\n",
      "[525]\ttraining's rmse: 0.211817\ttraining's l2: 0.0448666\tvalid_1's rmse: 0.252665\tvalid_1's l2: 0.0638398\n",
      "[526]\ttraining's rmse: 0.211785\ttraining's l2: 0.044853\tvalid_1's rmse: 0.252647\tvalid_1's l2: 0.0638303\n",
      "[527]\ttraining's rmse: 0.211721\ttraining's l2: 0.0448258\tvalid_1's rmse: 0.252596\tvalid_1's l2: 0.0638047\n",
      "[528]\ttraining's rmse: 0.211686\ttraining's l2: 0.044811\tvalid_1's rmse: 0.252574\tvalid_1's l2: 0.0637936\n",
      "[529]\ttraining's rmse: 0.211667\ttraining's l2: 0.0448028\tvalid_1's rmse: 0.252448\tvalid_1's l2: 0.0637302\n",
      "[530]\ttraining's rmse: 0.21165\ttraining's l2: 0.0447955\tvalid_1's rmse: 0.252438\tvalid_1's l2: 0.063725\n",
      "[531]\ttraining's rmse: 0.211618\ttraining's l2: 0.0447821\tvalid_1's rmse: 0.252413\tvalid_1's l2: 0.0637123\n",
      "[532]\ttraining's rmse: 0.211566\ttraining's l2: 0.0447603\tvalid_1's rmse: 0.252373\tvalid_1's l2: 0.0636923\n",
      "[533]\ttraining's rmse: 0.211547\ttraining's l2: 0.0447523\tvalid_1's rmse: 0.252382\tvalid_1's l2: 0.0636968\n",
      "[534]\ttraining's rmse: 0.211494\ttraining's l2: 0.0447298\tvalid_1's rmse: 0.252332\tvalid_1's l2: 0.0636714\n",
      "[535]\ttraining's rmse: 0.211472\ttraining's l2: 0.0447203\tvalid_1's rmse: 0.25228\tvalid_1's l2: 0.063645\n",
      "[536]\ttraining's rmse: 0.211442\ttraining's l2: 0.0447078\tvalid_1's rmse: 0.252242\tvalid_1's l2: 0.0636258\n",
      "[537]\ttraining's rmse: 0.211417\ttraining's l2: 0.044697\tvalid_1's rmse: 0.252224\tvalid_1's l2: 0.063617\n",
      "[538]\ttraining's rmse: 0.211401\ttraining's l2: 0.0446903\tvalid_1's rmse: 0.252234\tvalid_1's l2: 0.0636218\n",
      "[539]\ttraining's rmse: 0.211378\ttraining's l2: 0.0446808\tvalid_1's rmse: 0.252157\tvalid_1's l2: 0.063583\n",
      "[540]\ttraining's rmse: 0.211316\ttraining's l2: 0.0446544\tvalid_1's rmse: 0.252048\tvalid_1's l2: 0.0635284\n",
      "[541]\ttraining's rmse: 0.21128\ttraining's l2: 0.0446392\tvalid_1's rmse: 0.252016\tvalid_1's l2: 0.0635122\n",
      "[542]\ttraining's rmse: 0.211258\ttraining's l2: 0.04463\tvalid_1's rmse: 0.252013\tvalid_1's l2: 0.0635107\n",
      "[543]\ttraining's rmse: 0.211226\ttraining's l2: 0.0446162\tvalid_1's rmse: 0.252008\tvalid_1's l2: 0.0635079\n",
      "[544]\ttraining's rmse: 0.2112\ttraining's l2: 0.0446053\tvalid_1's rmse: 0.251987\tvalid_1's l2: 0.0634974\n",
      "[545]\ttraining's rmse: 0.211174\ttraining's l2: 0.0445946\tvalid_1's rmse: 0.251993\tvalid_1's l2: 0.0635004\n",
      "[546]\ttraining's rmse: 0.21114\ttraining's l2: 0.0445802\tvalid_1's rmse: 0.25199\tvalid_1's l2: 0.0634987\n",
      "[547]\ttraining's rmse: 0.211107\ttraining's l2: 0.0445663\tvalid_1's rmse: 0.25198\tvalid_1's l2: 0.0634937\n",
      "[548]\ttraining's rmse: 0.211086\ttraining's l2: 0.0445573\tvalid_1's rmse: 0.251953\tvalid_1's l2: 0.0634801\n",
      "[549]\ttraining's rmse: 0.211058\ttraining's l2: 0.0445454\tvalid_1's rmse: 0.251902\tvalid_1's l2: 0.0634544\n",
      "[550]\ttraining's rmse: 0.211023\ttraining's l2: 0.0445309\tvalid_1's rmse: 0.251855\tvalid_1's l2: 0.063431\n",
      "[551]\ttraining's rmse: 0.210993\ttraining's l2: 0.0445179\tvalid_1's rmse: 0.251857\tvalid_1's l2: 0.063432\n",
      "[552]\ttraining's rmse: 0.210966\ttraining's l2: 0.0445068\tvalid_1's rmse: 0.251836\tvalid_1's l2: 0.0634211\n",
      "[553]\ttraining's rmse: 0.210948\ttraining's l2: 0.044499\tvalid_1's rmse: 0.251832\tvalid_1's l2: 0.0634194\n",
      "[554]\ttraining's rmse: 0.210932\ttraining's l2: 0.0444921\tvalid_1's rmse: 0.251804\tvalid_1's l2: 0.0634052\n",
      "[555]\ttraining's rmse: 0.210903\ttraining's l2: 0.04448\tvalid_1's rmse: 0.251755\tvalid_1's l2: 0.0633806\n",
      "[556]\ttraining's rmse: 0.210886\ttraining's l2: 0.044473\tvalid_1's rmse: 0.251734\tvalid_1's l2: 0.06337\n",
      "[557]\ttraining's rmse: 0.210853\ttraining's l2: 0.0444588\tvalid_1's rmse: 0.251734\tvalid_1's l2: 0.0633699\n"
     ]
    },
    {
     "name": "stdout",
     "output_type": "stream",
     "text": [
      "[558]\ttraining's rmse: 0.210815\ttraining's l2: 0.044443\tvalid_1's rmse: 0.251704\tvalid_1's l2: 0.063355\n",
      "[559]\ttraining's rmse: 0.210794\ttraining's l2: 0.0444339\tvalid_1's rmse: 0.251694\tvalid_1's l2: 0.0633501\n",
      "[560]\ttraining's rmse: 0.21076\ttraining's l2: 0.0444196\tvalid_1's rmse: 0.25169\tvalid_1's l2: 0.0633478\n",
      "[561]\ttraining's rmse: 0.210737\ttraining's l2: 0.0444099\tvalid_1's rmse: 0.251689\tvalid_1's l2: 0.0633473\n",
      "[562]\ttraining's rmse: 0.210711\ttraining's l2: 0.0443991\tvalid_1's rmse: 0.251586\tvalid_1's l2: 0.0632956\n",
      "[563]\ttraining's rmse: 0.210683\ttraining's l2: 0.0443875\tvalid_1's rmse: 0.25158\tvalid_1's l2: 0.0632923\n",
      "[564]\ttraining's rmse: 0.210654\ttraining's l2: 0.0443752\tvalid_1's rmse: 0.25156\tvalid_1's l2: 0.0632822\n",
      "[565]\ttraining's rmse: 0.210619\ttraining's l2: 0.0443603\tvalid_1's rmse: 0.251544\tvalid_1's l2: 0.0632743\n",
      "[566]\ttraining's rmse: 0.210592\ttraining's l2: 0.0443489\tvalid_1's rmse: 0.251532\tvalid_1's l2: 0.0632685\n",
      "[567]\ttraining's rmse: 0.210555\ttraining's l2: 0.0443334\tvalid_1's rmse: 0.251493\tvalid_1's l2: 0.0632487\n",
      "[568]\ttraining's rmse: 0.210525\ttraining's l2: 0.0443207\tvalid_1's rmse: 0.251513\tvalid_1's l2: 0.0632587\n",
      "[569]\ttraining's rmse: 0.210508\ttraining's l2: 0.0443134\tvalid_1's rmse: 0.251488\tvalid_1's l2: 0.0632463\n",
      "[570]\ttraining's rmse: 0.210475\ttraining's l2: 0.0442996\tvalid_1's rmse: 0.251423\tvalid_1's l2: 0.0632136\n",
      "[571]\ttraining's rmse: 0.210461\ttraining's l2: 0.0442938\tvalid_1's rmse: 0.251415\tvalid_1's l2: 0.0632095\n",
      "[572]\ttraining's rmse: 0.210446\ttraining's l2: 0.0442875\tvalid_1's rmse: 0.251477\tvalid_1's l2: 0.0632409\n",
      "[573]\ttraining's rmse: 0.21041\ttraining's l2: 0.0442725\tvalid_1's rmse: 0.251444\tvalid_1's l2: 0.0632243\n",
      "[574]\ttraining's rmse: 0.210368\ttraining's l2: 0.0442548\tvalid_1's rmse: 0.251369\tvalid_1's l2: 0.0631864\n",
      "[575]\ttraining's rmse: 0.210315\ttraining's l2: 0.0442324\tvalid_1's rmse: 0.251373\tvalid_1's l2: 0.0631882\n",
      "[576]\ttraining's rmse: 0.210297\ttraining's l2: 0.0442248\tvalid_1's rmse: 0.251349\tvalid_1's l2: 0.0631762\n",
      "[577]\ttraining's rmse: 0.21027\ttraining's l2: 0.0442134\tvalid_1's rmse: 0.251348\tvalid_1's l2: 0.0631759\n",
      "[578]\ttraining's rmse: 0.210227\ttraining's l2: 0.0441953\tvalid_1's rmse: 0.251263\tvalid_1's l2: 0.0631331\n",
      "[579]\ttraining's rmse: 0.210175\ttraining's l2: 0.0441737\tvalid_1's rmse: 0.251261\tvalid_1's l2: 0.0631319\n",
      "[580]\ttraining's rmse: 0.210157\ttraining's l2: 0.0441661\tvalid_1's rmse: 0.251259\tvalid_1's l2: 0.0631311\n",
      "[581]\ttraining's rmse: 0.210135\ttraining's l2: 0.0441566\tvalid_1's rmse: 0.251264\tvalid_1's l2: 0.0631338\n",
      "[582]\ttraining's rmse: 0.210079\ttraining's l2: 0.0441331\tvalid_1's rmse: 0.251204\tvalid_1's l2: 0.0631034\n",
      "[583]\ttraining's rmse: 0.210068\ttraining's l2: 0.0441285\tvalid_1's rmse: 0.251221\tvalid_1's l2: 0.0631118\n",
      "[584]\ttraining's rmse: 0.210049\ttraining's l2: 0.0441204\tvalid_1's rmse: 0.25119\tvalid_1's l2: 0.0630963\n",
      "[585]\ttraining's rmse: 0.210022\ttraining's l2: 0.0441092\tvalid_1's rmse: 0.251274\tvalid_1's l2: 0.0631388\n",
      "[586]\ttraining's rmse: 0.209988\ttraining's l2: 0.0440948\tvalid_1's rmse: 0.25126\tvalid_1's l2: 0.0631316\n",
      "[587]\ttraining's rmse: 0.209936\ttraining's l2: 0.0440731\tvalid_1's rmse: 0.251184\tvalid_1's l2: 0.0630933\n",
      "[588]\ttraining's rmse: 0.209921\ttraining's l2: 0.0440669\tvalid_1's rmse: 0.251173\tvalid_1's l2: 0.0630879\n",
      "[589]\ttraining's rmse: 0.209892\ttraining's l2: 0.0440547\tvalid_1's rmse: 0.251197\tvalid_1's l2: 0.0630999\n",
      "[590]\ttraining's rmse: 0.209867\ttraining's l2: 0.0440443\tvalid_1's rmse: 0.251145\tvalid_1's l2: 0.063074\n",
      "[591]\ttraining's rmse: 0.209836\ttraining's l2: 0.0440313\tvalid_1's rmse: 0.25114\tvalid_1's l2: 0.0630711\n",
      "[592]\ttraining's rmse: 0.209822\ttraining's l2: 0.0440252\tvalid_1's rmse: 0.25113\tvalid_1's l2: 0.0630665\n",
      "[593]\ttraining's rmse: 0.209785\ttraining's l2: 0.0440099\tvalid_1's rmse: 0.251126\tvalid_1's l2: 0.0630644\n",
      "[594]\ttraining's rmse: 0.20977\ttraining's l2: 0.0440036\tvalid_1's rmse: 0.251114\tvalid_1's l2: 0.0630582\n",
      "[595]\ttraining's rmse: 0.209729\ttraining's l2: 0.0439862\tvalid_1's rmse: 0.251126\tvalid_1's l2: 0.0630644\n",
      "[596]\ttraining's rmse: 0.209699\ttraining's l2: 0.0439735\tvalid_1's rmse: 0.251118\tvalid_1's l2: 0.0630602\n",
      "[597]\ttraining's rmse: 0.209656\ttraining's l2: 0.0439555\tvalid_1's rmse: 0.25107\tvalid_1's l2: 0.0630359\n",
      "[598]\ttraining's rmse: 0.209641\ttraining's l2: 0.0439495\tvalid_1's rmse: 0.251045\tvalid_1's l2: 0.0630237\n",
      "[599]\ttraining's rmse: 0.209617\ttraining's l2: 0.0439392\tvalid_1's rmse: 0.251041\tvalid_1's l2: 0.0630216\n",
      "[600]\ttraining's rmse: 0.20959\ttraining's l2: 0.0439281\tvalid_1's rmse: 0.250961\tvalid_1's l2: 0.0629813\n",
      "[601]\ttraining's rmse: 0.209576\ttraining's l2: 0.043922\tvalid_1's rmse: 0.250961\tvalid_1's l2: 0.0629813\n",
      "[602]\ttraining's rmse: 0.209552\ttraining's l2: 0.0439121\tvalid_1's rmse: 0.25098\tvalid_1's l2: 0.0629909\n",
      "[603]\ttraining's rmse: 0.209505\ttraining's l2: 0.0438925\tvalid_1's rmse: 0.250964\tvalid_1's l2: 0.062983\n",
      "[604]\ttraining's rmse: 0.209485\ttraining's l2: 0.0438838\tvalid_1's rmse: 0.250954\tvalid_1's l2: 0.0629777\n",
      "[605]\ttraining's rmse: 0.20946\ttraining's l2: 0.0438735\tvalid_1's rmse: 0.250937\tvalid_1's l2: 0.0629691\n",
      "[606]\ttraining's rmse: 0.209427\ttraining's l2: 0.0438597\tvalid_1's rmse: 0.250873\tvalid_1's l2: 0.0629373\n",
      "[607]\ttraining's rmse: 0.209413\ttraining's l2: 0.0438536\tvalid_1's rmse: 0.250853\tvalid_1's l2: 0.0629273\n",
      "[608]\ttraining's rmse: 0.209398\ttraining's l2: 0.0438475\tvalid_1's rmse: 0.250833\tvalid_1's l2: 0.0629174\n",
      "[609]\ttraining's rmse: 0.209379\ttraining's l2: 0.0438397\tvalid_1's rmse: 0.25082\tvalid_1's l2: 0.0629109\n",
      "[610]\ttraining's rmse: 0.209355\ttraining's l2: 0.0438296\tvalid_1's rmse: 0.250781\tvalid_1's l2: 0.062891\n",
      "[611]\ttraining's rmse: 0.209323\ttraining's l2: 0.0438162\tvalid_1's rmse: 0.250696\tvalid_1's l2: 0.0628483\n",
      "[612]\ttraining's rmse: 0.209278\ttraining's l2: 0.0437974\tvalid_1's rmse: 0.250693\tvalid_1's l2: 0.0628468\n",
      "[613]\ttraining's rmse: 0.209265\ttraining's l2: 0.043792\tvalid_1's rmse: 0.250671\tvalid_1's l2: 0.0628358\n",
      "[614]\ttraining's rmse: 0.209242\ttraining's l2: 0.0437822\tvalid_1's rmse: 0.250663\tvalid_1's l2: 0.0628322\n",
      "[615]\ttraining's rmse: 0.209224\ttraining's l2: 0.0437746\tvalid_1's rmse: 0.250658\tvalid_1's l2: 0.0628295\n",
      "[616]\ttraining's rmse: 0.20919\ttraining's l2: 0.0437605\tvalid_1's rmse: 0.250647\tvalid_1's l2: 0.0628238\n",
      "[617]\ttraining's rmse: 0.209149\ttraining's l2: 0.0437432\tvalid_1's rmse: 0.250641\tvalid_1's l2: 0.0628209\n",
      "[618]\ttraining's rmse: 0.209123\ttraining's l2: 0.0437323\tvalid_1's rmse: 0.25061\tvalid_1's l2: 0.0628051\n",
      "[619]\ttraining's rmse: 0.209101\ttraining's l2: 0.0437234\tvalid_1's rmse: 0.250636\tvalid_1's l2: 0.0628186\n",
      "[620]\ttraining's rmse: 0.209065\ttraining's l2: 0.0437084\tvalid_1's rmse: 0.250656\tvalid_1's l2: 0.0628283\n",
      "[621]\ttraining's rmse: 0.209031\ttraining's l2: 0.0436939\tvalid_1's rmse: 0.250645\tvalid_1's l2: 0.0628228\n",
      "[622]\ttraining's rmse: 0.208997\ttraining's l2: 0.0436797\tvalid_1's rmse: 0.250617\tvalid_1's l2: 0.0628087\n",
      "[623]\ttraining's rmse: 0.208973\ttraining's l2: 0.0436698\tvalid_1's rmse: 0.250609\tvalid_1's l2: 0.0628047\n",
      "[624]\ttraining's rmse: 0.208938\ttraining's l2: 0.0436551\tvalid_1's rmse: 0.250521\tvalid_1's l2: 0.0627609\n",
      "[625]\ttraining's rmse: 0.208924\ttraining's l2: 0.0436493\tvalid_1's rmse: 0.250491\tvalid_1's l2: 0.0627459\n",
      "[626]\ttraining's rmse: 0.20889\ttraining's l2: 0.0436348\tvalid_1's rmse: 0.250457\tvalid_1's l2: 0.0627289\n",
      "[627]\ttraining's rmse: 0.208855\ttraining's l2: 0.0436203\tvalid_1's rmse: 0.250432\tvalid_1's l2: 0.0627162\n",
      "[628]\ttraining's rmse: 0.208827\ttraining's l2: 0.0436087\tvalid_1's rmse: 0.250445\tvalid_1's l2: 0.0627226\n",
      "[629]\ttraining's rmse: 0.20881\ttraining's l2: 0.0436017\tvalid_1's rmse: 0.250442\tvalid_1's l2: 0.0627212\n",
      "[630]\ttraining's rmse: 0.208789\ttraining's l2: 0.0435927\tvalid_1's rmse: 0.250428\tvalid_1's l2: 0.062714\n",
      "[631]\ttraining's rmse: 0.20877\ttraining's l2: 0.0435848\tvalid_1's rmse: 0.250427\tvalid_1's l2: 0.0627135\n",
      "[632]\ttraining's rmse: 0.20875\ttraining's l2: 0.0435765\tvalid_1's rmse: 0.250414\tvalid_1's l2: 0.0627071\n",
      "[633]\ttraining's rmse: 0.208727\ttraining's l2: 0.0435668\tvalid_1's rmse: 0.250406\tvalid_1's l2: 0.0627031\n",
      "[634]\ttraining's rmse: 0.208707\ttraining's l2: 0.0435588\tvalid_1's rmse: 0.2504\tvalid_1's l2: 0.0627\n",
      "[635]\ttraining's rmse: 0.208689\ttraining's l2: 0.043551\tvalid_1's rmse: 0.2504\tvalid_1's l2: 0.0627002\n",
      "[636]\ttraining's rmse: 0.208676\ttraining's l2: 0.0435456\tvalid_1's rmse: 0.250352\tvalid_1's l2: 0.0626759\n"
     ]
    },
    {
     "name": "stdout",
     "output_type": "stream",
     "text": [
      "[637]\ttraining's rmse: 0.208655\ttraining's l2: 0.043537\tvalid_1's rmse: 0.250325\tvalid_1's l2: 0.0626625\n",
      "[638]\ttraining's rmse: 0.208633\ttraining's l2: 0.0435276\tvalid_1's rmse: 0.250329\tvalid_1's l2: 0.0626647\n",
      "[639]\ttraining's rmse: 0.2086\ttraining's l2: 0.0435141\tvalid_1's rmse: 0.250326\tvalid_1's l2: 0.0626629\n",
      "[640]\ttraining's rmse: 0.208588\ttraining's l2: 0.0435089\tvalid_1's rmse: 0.250324\tvalid_1's l2: 0.0626622\n",
      "[641]\ttraining's rmse: 0.208564\ttraining's l2: 0.0434988\tvalid_1's rmse: 0.250313\tvalid_1's l2: 0.0626565\n",
      "[642]\ttraining's rmse: 0.208506\ttraining's l2: 0.0434748\tvalid_1's rmse: 0.250332\tvalid_1's l2: 0.062666\n",
      "[643]\ttraining's rmse: 0.208484\ttraining's l2: 0.0434657\tvalid_1's rmse: 0.25032\tvalid_1's l2: 0.06266\n",
      "[644]\ttraining's rmse: 0.208469\ttraining's l2: 0.0434592\tvalid_1's rmse: 0.2503\tvalid_1's l2: 0.06265\n",
      "[645]\ttraining's rmse: 0.208442\ttraining's l2: 0.0434479\tvalid_1's rmse: 0.250302\tvalid_1's l2: 0.0626512\n",
      "[646]\ttraining's rmse: 0.208425\ttraining's l2: 0.0434409\tvalid_1's rmse: 0.250302\tvalid_1's l2: 0.062651\n",
      "[647]\ttraining's rmse: 0.208382\ttraining's l2: 0.0434232\tvalid_1's rmse: 0.250284\tvalid_1's l2: 0.062642\n",
      "[648]\ttraining's rmse: 0.208349\ttraining's l2: 0.0434091\tvalid_1's rmse: 0.250295\tvalid_1's l2: 0.0626476\n",
      "[649]\ttraining's rmse: 0.20832\ttraining's l2: 0.0433974\tvalid_1's rmse: 0.250256\tvalid_1's l2: 0.0626281\n",
      "[650]\ttraining's rmse: 0.208307\ttraining's l2: 0.043392\tvalid_1's rmse: 0.250273\tvalid_1's l2: 0.0626364\n",
      "[651]\ttraining's rmse: 0.208283\ttraining's l2: 0.043382\tvalid_1's rmse: 0.250273\tvalid_1's l2: 0.0626363\n",
      "[652]\ttraining's rmse: 0.208253\ttraining's l2: 0.0433692\tvalid_1's rmse: 0.250271\tvalid_1's l2: 0.0626354\n",
      "[653]\ttraining's rmse: 0.208213\ttraining's l2: 0.0433527\tvalid_1's rmse: 0.250265\tvalid_1's l2: 0.0626324\n",
      "[654]\ttraining's rmse: 0.208184\ttraining's l2: 0.0433407\tvalid_1's rmse: 0.250248\tvalid_1's l2: 0.0626241\n",
      "[655]\ttraining's rmse: 0.208147\ttraining's l2: 0.0433251\tvalid_1's rmse: 0.250247\tvalid_1's l2: 0.0626236\n",
      "[656]\ttraining's rmse: 0.208128\ttraining's l2: 0.0433173\tvalid_1's rmse: 0.250211\tvalid_1's l2: 0.0626054\n",
      "[657]\ttraining's rmse: 0.208115\ttraining's l2: 0.0433118\tvalid_1's rmse: 0.250214\tvalid_1's l2: 0.0626072\n",
      "[658]\ttraining's rmse: 0.208087\ttraining's l2: 0.0433003\tvalid_1's rmse: 0.25019\tvalid_1's l2: 0.0625952\n",
      "[659]\ttraining's rmse: 0.208047\ttraining's l2: 0.0432834\tvalid_1's rmse: 0.250103\tvalid_1's l2: 0.0625514\n",
      "[660]\ttraining's rmse: 0.20803\ttraining's l2: 0.0432764\tvalid_1's rmse: 0.250109\tvalid_1's l2: 0.0625546\n",
      "[661]\ttraining's rmse: 0.208002\ttraining's l2: 0.043265\tvalid_1's rmse: 0.250051\tvalid_1's l2: 0.0625254\n",
      "[662]\ttraining's rmse: 0.207987\ttraining's l2: 0.0432587\tvalid_1's rmse: 0.250033\tvalid_1's l2: 0.0625163\n",
      "[663]\ttraining's rmse: 0.207968\ttraining's l2: 0.0432505\tvalid_1's rmse: 0.250017\tvalid_1's l2: 0.0625087\n",
      "[664]\ttraining's rmse: 0.207938\ttraining's l2: 0.0432381\tvalid_1's rmse: 0.249984\tvalid_1's l2: 0.062492\n",
      "[665]\ttraining's rmse: 0.207925\ttraining's l2: 0.0432329\tvalid_1's rmse: 0.249969\tvalid_1's l2: 0.0624847\n",
      "[666]\ttraining's rmse: 0.207907\ttraining's l2: 0.0432252\tvalid_1's rmse: 0.249952\tvalid_1's l2: 0.0624758\n",
      "[667]\ttraining's rmse: 0.207894\ttraining's l2: 0.0432199\tvalid_1's rmse: 0.249947\tvalid_1's l2: 0.0624733\n",
      "[668]\ttraining's rmse: 0.207852\ttraining's l2: 0.0432026\tvalid_1's rmse: 0.249859\tvalid_1's l2: 0.0624293\n",
      "[669]\ttraining's rmse: 0.207826\ttraining's l2: 0.0431915\tvalid_1's rmse: 0.249849\tvalid_1's l2: 0.0624245\n",
      "[670]\ttraining's rmse: 0.207814\ttraining's l2: 0.0431868\tvalid_1's rmse: 0.249845\tvalid_1's l2: 0.0624225\n",
      "[671]\ttraining's rmse: 0.207802\ttraining's l2: 0.0431815\tvalid_1's rmse: 0.249825\tvalid_1's l2: 0.0624127\n",
      "[672]\ttraining's rmse: 0.207772\ttraining's l2: 0.0431693\tvalid_1's rmse: 0.249807\tvalid_1's l2: 0.0624034\n",
      "[673]\ttraining's rmse: 0.207758\ttraining's l2: 0.0431632\tvalid_1's rmse: 0.249768\tvalid_1's l2: 0.0623842\n",
      "[674]\ttraining's rmse: 0.207722\ttraining's l2: 0.0431483\tvalid_1's rmse: 0.249737\tvalid_1's l2: 0.0623684\n",
      "[675]\ttraining's rmse: 0.207697\ttraining's l2: 0.0431381\tvalid_1's rmse: 0.24975\tvalid_1's l2: 0.0623752\n",
      "[676]\ttraining's rmse: 0.207675\ttraining's l2: 0.0431289\tvalid_1's rmse: 0.249741\tvalid_1's l2: 0.0623704\n",
      "[677]\ttraining's rmse: 0.207656\ttraining's l2: 0.0431211\tvalid_1's rmse: 0.24974\tvalid_1's l2: 0.0623699\n",
      "[678]\ttraining's rmse: 0.207628\ttraining's l2: 0.0431093\tvalid_1's rmse: 0.249736\tvalid_1's l2: 0.0623681\n",
      "[679]\ttraining's rmse: 0.207596\ttraining's l2: 0.0430962\tvalid_1's rmse: 0.249648\tvalid_1's l2: 0.0623243\n",
      "[680]\ttraining's rmse: 0.207559\ttraining's l2: 0.0430808\tvalid_1's rmse: 0.249678\tvalid_1's l2: 0.062339\n",
      "[681]\ttraining's rmse: 0.207528\ttraining's l2: 0.0430677\tvalid_1's rmse: 0.249691\tvalid_1's l2: 0.0623457\n",
      "[682]\ttraining's rmse: 0.207493\ttraining's l2: 0.0430531\tvalid_1's rmse: 0.249669\tvalid_1's l2: 0.0623349\n",
      "[683]\ttraining's rmse: 0.207466\ttraining's l2: 0.0430423\tvalid_1's rmse: 0.249684\tvalid_1's l2: 0.0623419\n",
      "[684]\ttraining's rmse: 0.207442\ttraining's l2: 0.0430324\tvalid_1's rmse: 0.249673\tvalid_1's l2: 0.0623366\n",
      "[685]\ttraining's rmse: 0.207417\ttraining's l2: 0.0430218\tvalid_1's rmse: 0.249655\tvalid_1's l2: 0.0623278\n",
      "[686]\ttraining's rmse: 0.207388\ttraining's l2: 0.0430097\tvalid_1's rmse: 0.249656\tvalid_1's l2: 0.0623283\n",
      "[687]\ttraining's rmse: 0.207347\ttraining's l2: 0.0429926\tvalid_1's rmse: 0.249593\tvalid_1's l2: 0.0622966\n",
      "[688]\ttraining's rmse: 0.207334\ttraining's l2: 0.0429872\tvalid_1's rmse: 0.249596\tvalid_1's l2: 0.0622982\n",
      "[689]\ttraining's rmse: 0.207316\ttraining's l2: 0.0429797\tvalid_1's rmse: 0.249577\tvalid_1's l2: 0.0622885\n",
      "[690]\ttraining's rmse: 0.207293\ttraining's l2: 0.0429703\tvalid_1's rmse: 0.249568\tvalid_1's l2: 0.0622841\n",
      "[691]\ttraining's rmse: 0.207278\ttraining's l2: 0.0429643\tvalid_1's rmse: 0.249594\tvalid_1's l2: 0.0622974\n",
      "[692]\ttraining's rmse: 0.207259\ttraining's l2: 0.0429564\tvalid_1's rmse: 0.249587\tvalid_1's l2: 0.0622935\n",
      "[693]\ttraining's rmse: 0.207236\ttraining's l2: 0.0429469\tvalid_1's rmse: 0.249556\tvalid_1's l2: 0.0622784\n",
      "[694]\ttraining's rmse: 0.207212\ttraining's l2: 0.0429369\tvalid_1's rmse: 0.249555\tvalid_1's l2: 0.0622776\n",
      "[695]\ttraining's rmse: 0.207175\ttraining's l2: 0.0429214\tvalid_1's rmse: 0.249526\tvalid_1's l2: 0.0622632\n",
      "[696]\ttraining's rmse: 0.207139\ttraining's l2: 0.0429067\tvalid_1's rmse: 0.249509\tvalid_1's l2: 0.0622548\n",
      "[697]\ttraining's rmse: 0.207093\ttraining's l2: 0.0428874\tvalid_1's rmse: 0.249489\tvalid_1's l2: 0.0622449\n",
      "[698]\ttraining's rmse: 0.207078\ttraining's l2: 0.0428813\tvalid_1's rmse: 0.249481\tvalid_1's l2: 0.0622409\n",
      "[699]\ttraining's rmse: 0.207053\ttraining's l2: 0.0428708\tvalid_1's rmse: 0.249491\tvalid_1's l2: 0.062246\n",
      "[700]\ttraining's rmse: 0.207015\ttraining's l2: 0.0428551\tvalid_1's rmse: 0.249494\tvalid_1's l2: 0.0622474\n",
      "[701]\ttraining's rmse: 0.206991\ttraining's l2: 0.0428451\tvalid_1's rmse: 0.249487\tvalid_1's l2: 0.0622436\n",
      "[702]\ttraining's rmse: 0.206972\ttraining's l2: 0.0428373\tvalid_1's rmse: 0.249483\tvalid_1's l2: 0.0622418\n",
      "[703]\ttraining's rmse: 0.206942\ttraining's l2: 0.0428248\tvalid_1's rmse: 0.249492\tvalid_1's l2: 0.0622462\n",
      "[704]\ttraining's rmse: 0.206922\ttraining's l2: 0.0428169\tvalid_1's rmse: 0.24949\tvalid_1's l2: 0.0622453\n",
      "[705]\ttraining's rmse: 0.206911\ttraining's l2: 0.0428121\tvalid_1's rmse: 0.249492\tvalid_1's l2: 0.062246\n",
      "[706]\ttraining's rmse: 0.206871\ttraining's l2: 0.0427958\tvalid_1's rmse: 0.24949\tvalid_1's l2: 0.0622452\n",
      "[707]\ttraining's rmse: 0.206841\ttraining's l2: 0.0427834\tvalid_1's rmse: 0.249437\tvalid_1's l2: 0.0622187\n",
      "[708]\ttraining's rmse: 0.206812\ttraining's l2: 0.0427713\tvalid_1's rmse: 0.249404\tvalid_1's l2: 0.0622026\n",
      "[709]\ttraining's rmse: 0.206796\ttraining's l2: 0.0427646\tvalid_1's rmse: 0.249403\tvalid_1's l2: 0.0622016\n",
      "[710]\ttraining's rmse: 0.206773\ttraining's l2: 0.0427553\tvalid_1's rmse: 0.249386\tvalid_1's l2: 0.0621934\n",
      "[711]\ttraining's rmse: 0.206733\ttraining's l2: 0.0427383\tvalid_1's rmse: 0.249393\tvalid_1's l2: 0.062197\n",
      "[712]\ttraining's rmse: 0.206684\ttraining's l2: 0.0427184\tvalid_1's rmse: 0.249387\tvalid_1's l2: 0.0621939\n",
      "[713]\ttraining's rmse: 0.206665\ttraining's l2: 0.0427103\tvalid_1's rmse: 0.249385\tvalid_1's l2: 0.0621927\n",
      "[714]\ttraining's rmse: 0.20665\ttraining's l2: 0.0427041\tvalid_1's rmse: 0.249384\tvalid_1's l2: 0.0621923\n",
      "[715]\ttraining's rmse: 0.206622\ttraining's l2: 0.0426926\tvalid_1's rmse: 0.249388\tvalid_1's l2: 0.0621943\n",
      "[716]\ttraining's rmse: 0.20659\ttraining's l2: 0.0426793\tvalid_1's rmse: 0.249342\tvalid_1's l2: 0.0621716\n"
     ]
    },
    {
     "name": "stdout",
     "output_type": "stream",
     "text": [
      "[717]\ttraining's rmse: 0.206566\ttraining's l2: 0.0426696\tvalid_1's rmse: 0.249362\tvalid_1's l2: 0.0621813\n",
      "[718]\ttraining's rmse: 0.206531\ttraining's l2: 0.0426551\tvalid_1's rmse: 0.249359\tvalid_1's l2: 0.0621797\n",
      "[719]\ttraining's rmse: 0.206517\ttraining's l2: 0.0426495\tvalid_1's rmse: 0.249359\tvalid_1's l2: 0.0621802\n",
      "[720]\ttraining's rmse: 0.206505\ttraining's l2: 0.0426444\tvalid_1's rmse: 0.249358\tvalid_1's l2: 0.0621793\n",
      "[721]\ttraining's rmse: 0.206477\ttraining's l2: 0.0426329\tvalid_1's rmse: 0.249339\tvalid_1's l2: 0.0621701\n",
      "[722]\ttraining's rmse: 0.206468\ttraining's l2: 0.042629\tvalid_1's rmse: 0.249335\tvalid_1's l2: 0.0621681\n",
      "[723]\ttraining's rmse: 0.206451\ttraining's l2: 0.042622\tvalid_1's rmse: 0.249312\tvalid_1's l2: 0.0621566\n",
      "[724]\ttraining's rmse: 0.206425\ttraining's l2: 0.0426111\tvalid_1's rmse: 0.249284\tvalid_1's l2: 0.0621424\n",
      "[725]\ttraining's rmse: 0.206396\ttraining's l2: 0.0425995\tvalid_1's rmse: 0.249279\tvalid_1's l2: 0.06214\n",
      "[726]\ttraining's rmse: 0.206375\ttraining's l2: 0.0425906\tvalid_1's rmse: 0.249269\tvalid_1's l2: 0.062135\n",
      "[727]\ttraining's rmse: 0.20634\ttraining's l2: 0.0425763\tvalid_1's rmse: 0.249241\tvalid_1's l2: 0.062121\n",
      "[728]\ttraining's rmse: 0.206323\ttraining's l2: 0.0425693\tvalid_1's rmse: 0.249242\tvalid_1's l2: 0.0621218\n",
      "[729]\ttraining's rmse: 0.206312\ttraining's l2: 0.0425647\tvalid_1's rmse: 0.249233\tvalid_1's l2: 0.0621171\n",
      "[730]\ttraining's rmse: 0.206291\ttraining's l2: 0.042556\tvalid_1's rmse: 0.249253\tvalid_1's l2: 0.062127\n",
      "[731]\ttraining's rmse: 0.206262\ttraining's l2: 0.0425439\tvalid_1's rmse: 0.249249\tvalid_1's l2: 0.0621252\n",
      "[732]\ttraining's rmse: 0.206241\ttraining's l2: 0.0425354\tvalid_1's rmse: 0.249246\tvalid_1's l2: 0.0621235\n",
      "[733]\ttraining's rmse: 0.206206\ttraining's l2: 0.0425209\tvalid_1's rmse: 0.249242\tvalid_1's l2: 0.0621215\n",
      "[734]\ttraining's rmse: 0.206191\ttraining's l2: 0.0425146\tvalid_1's rmse: 0.249224\tvalid_1's l2: 0.0621124\n",
      "[735]\ttraining's rmse: 0.206172\ttraining's l2: 0.042507\tvalid_1's rmse: 0.249246\tvalid_1's l2: 0.0621236\n",
      "[736]\ttraining's rmse: 0.206141\ttraining's l2: 0.0424941\tvalid_1's rmse: 0.249153\tvalid_1's l2: 0.0620772\n",
      "[737]\ttraining's rmse: 0.206116\ttraining's l2: 0.0424839\tvalid_1's rmse: 0.249122\tvalid_1's l2: 0.0620617\n",
      "[738]\ttraining's rmse: 0.206098\ttraining's l2: 0.0424763\tvalid_1's rmse: 0.249095\tvalid_1's l2: 0.0620484\n",
      "[739]\ttraining's rmse: 0.206078\ttraining's l2: 0.042468\tvalid_1's rmse: 0.248894\tvalid_1's l2: 0.061948\n",
      "[740]\ttraining's rmse: 0.206065\ttraining's l2: 0.0424627\tvalid_1's rmse: 0.248884\tvalid_1's l2: 0.0619434\n",
      "[741]\ttraining's rmse: 0.206036\ttraining's l2: 0.0424508\tvalid_1's rmse: 0.248888\tvalid_1's l2: 0.0619454\n",
      "[742]\ttraining's rmse: 0.206016\ttraining's l2: 0.0424427\tvalid_1's rmse: 0.248882\tvalid_1's l2: 0.0619425\n",
      "[743]\ttraining's rmse: 0.206002\ttraining's l2: 0.0424369\tvalid_1's rmse: 0.248879\tvalid_1's l2: 0.0619405\n",
      "[744]\ttraining's rmse: 0.205993\ttraining's l2: 0.042433\tvalid_1's rmse: 0.248878\tvalid_1's l2: 0.0619402\n",
      "[745]\ttraining's rmse: 0.205973\ttraining's l2: 0.042425\tvalid_1's rmse: 0.248821\tvalid_1's l2: 0.0619119\n",
      "[746]\ttraining's rmse: 0.20595\ttraining's l2: 0.0424155\tvalid_1's rmse: 0.248777\tvalid_1's l2: 0.0618898\n",
      "[747]\ttraining's rmse: 0.205933\ttraining's l2: 0.0424085\tvalid_1's rmse: 0.248768\tvalid_1's l2: 0.0618854\n",
      "[748]\ttraining's rmse: 0.205918\ttraining's l2: 0.0424022\tvalid_1's rmse: 0.248765\tvalid_1's l2: 0.061884\n",
      "[749]\ttraining's rmse: 0.205895\ttraining's l2: 0.0423926\tvalid_1's rmse: 0.248704\tvalid_1's l2: 0.0618535\n",
      "[750]\ttraining's rmse: 0.205883\ttraining's l2: 0.0423876\tvalid_1's rmse: 0.248682\tvalid_1's l2: 0.0618425\n",
      "[751]\ttraining's rmse: 0.205863\ttraining's l2: 0.0423797\tvalid_1's rmse: 0.248679\tvalid_1's l2: 0.0618411\n",
      "[752]\ttraining's rmse: 0.20584\ttraining's l2: 0.0423699\tvalid_1's rmse: 0.248701\tvalid_1's l2: 0.0618521\n",
      "[753]\ttraining's rmse: 0.205808\ttraining's l2: 0.042357\tvalid_1's rmse: 0.248703\tvalid_1's l2: 0.0618534\n",
      "[754]\ttraining's rmse: 0.20579\ttraining's l2: 0.0423496\tvalid_1's rmse: 0.2487\tvalid_1's l2: 0.0618518\n",
      "[755]\ttraining's rmse: 0.205757\ttraining's l2: 0.0423359\tvalid_1's rmse: 0.248642\tvalid_1's l2: 0.0618229\n",
      "[756]\ttraining's rmse: 0.205741\ttraining's l2: 0.0423292\tvalid_1's rmse: 0.248641\tvalid_1's l2: 0.0618226\n",
      "[757]\ttraining's rmse: 0.205724\ttraining's l2: 0.0423224\tvalid_1's rmse: 0.248602\tvalid_1's l2: 0.0618029\n",
      "[758]\ttraining's rmse: 0.205703\ttraining's l2: 0.0423139\tvalid_1's rmse: 0.248602\tvalid_1's l2: 0.0618031\n",
      "[759]\ttraining's rmse: 0.205674\ttraining's l2: 0.0423019\tvalid_1's rmse: 0.248609\tvalid_1's l2: 0.0618066\n",
      "[760]\ttraining's rmse: 0.205659\ttraining's l2: 0.0422955\tvalid_1's rmse: 0.248611\tvalid_1's l2: 0.0618074\n",
      "[761]\ttraining's rmse: 0.205632\ttraining's l2: 0.0422847\tvalid_1's rmse: 0.248593\tvalid_1's l2: 0.0617987\n",
      "[762]\ttraining's rmse: 0.205615\ttraining's l2: 0.0422775\tvalid_1's rmse: 0.248695\tvalid_1's l2: 0.0618494\n",
      "[763]\ttraining's rmse: 0.205593\ttraining's l2: 0.0422684\tvalid_1's rmse: 0.248736\tvalid_1's l2: 0.0618695\n",
      "[764]\ttraining's rmse: 0.205544\ttraining's l2: 0.0422482\tvalid_1's rmse: 0.248718\tvalid_1's l2: 0.0618608\n",
      "[765]\ttraining's rmse: 0.205532\ttraining's l2: 0.0422435\tvalid_1's rmse: 0.24871\tvalid_1's l2: 0.0618566\n",
      "[766]\ttraining's rmse: 0.205515\ttraining's l2: 0.0422363\tvalid_1's rmse: 0.248702\tvalid_1's l2: 0.0618527\n",
      "[767]\ttraining's rmse: 0.205497\ttraining's l2: 0.0422291\tvalid_1's rmse: 0.248551\tvalid_1's l2: 0.0617778\n",
      "[768]\ttraining's rmse: 0.205474\ttraining's l2: 0.0422197\tvalid_1's rmse: 0.248541\tvalid_1's l2: 0.0617728\n",
      "[769]\ttraining's rmse: 0.205459\ttraining's l2: 0.0422134\tvalid_1's rmse: 0.24848\tvalid_1's l2: 0.0617422\n",
      "[770]\ttraining's rmse: 0.205442\ttraining's l2: 0.0422066\tvalid_1's rmse: 0.248422\tvalid_1's l2: 0.0617135\n",
      "[771]\ttraining's rmse: 0.205425\ttraining's l2: 0.0421994\tvalid_1's rmse: 0.24842\tvalid_1's l2: 0.0617126\n",
      "[772]\ttraining's rmse: 0.205407\ttraining's l2: 0.0421921\tvalid_1's rmse: 0.248413\tvalid_1's l2: 0.0617089\n",
      "[773]\ttraining's rmse: 0.205377\ttraining's l2: 0.0421799\tvalid_1's rmse: 0.248441\tvalid_1's l2: 0.0617229\n",
      "[774]\ttraining's rmse: 0.205336\ttraining's l2: 0.0421629\tvalid_1's rmse: 0.248375\tvalid_1's l2: 0.06169\n",
      "[775]\ttraining's rmse: 0.20531\ttraining's l2: 0.0421523\tvalid_1's rmse: 0.248315\tvalid_1's l2: 0.0616603\n",
      "[776]\ttraining's rmse: 0.205284\ttraining's l2: 0.0421416\tvalid_1's rmse: 0.248305\tvalid_1's l2: 0.0616552\n",
      "[777]\ttraining's rmse: 0.205257\ttraining's l2: 0.0421304\tvalid_1's rmse: 0.248299\tvalid_1's l2: 0.0616524\n",
      "[778]\ttraining's rmse: 0.205245\ttraining's l2: 0.0421254\tvalid_1's rmse: 0.248292\tvalid_1's l2: 0.061649\n",
      "[779]\ttraining's rmse: 0.205213\ttraining's l2: 0.0421126\tvalid_1's rmse: 0.248281\tvalid_1's l2: 0.0616434\n",
      "[780]\ttraining's rmse: 0.205189\ttraining's l2: 0.0421026\tvalid_1's rmse: 0.248299\tvalid_1's l2: 0.0616525\n",
      "[781]\ttraining's rmse: 0.205164\ttraining's l2: 0.0420921\tvalid_1's rmse: 0.248219\tvalid_1's l2: 0.0616125\n",
      "[782]\ttraining's rmse: 0.205141\ttraining's l2: 0.0420828\tvalid_1's rmse: 0.248194\tvalid_1's l2: 0.0616001\n",
      "[783]\ttraining's rmse: 0.205113\ttraining's l2: 0.0420714\tvalid_1's rmse: 0.248173\tvalid_1's l2: 0.0615898\n",
      "[784]\ttraining's rmse: 0.205093\ttraining's l2: 0.042063\tvalid_1's rmse: 0.248177\tvalid_1's l2: 0.0615918\n",
      "[785]\ttraining's rmse: 0.20508\ttraining's l2: 0.0420579\tvalid_1's rmse: 0.248168\tvalid_1's l2: 0.0615874\n",
      "[786]\ttraining's rmse: 0.205062\ttraining's l2: 0.0420504\tvalid_1's rmse: 0.248062\tvalid_1's l2: 0.0615348\n",
      "[787]\ttraining's rmse: 0.205026\ttraining's l2: 0.0420356\tvalid_1's rmse: 0.248054\tvalid_1's l2: 0.0615309\n",
      "[788]\ttraining's rmse: 0.205\ttraining's l2: 0.042025\tvalid_1's rmse: 0.248007\tvalid_1's l2: 0.0615077\n",
      "[789]\ttraining's rmse: 0.204973\ttraining's l2: 0.0420138\tvalid_1's rmse: 0.247988\tvalid_1's l2: 0.0614979\n",
      "[790]\ttraining's rmse: 0.204952\ttraining's l2: 0.0420053\tvalid_1's rmse: 0.247969\tvalid_1's l2: 0.0614888\n",
      "[791]\ttraining's rmse: 0.204938\ttraining's l2: 0.0419996\tvalid_1's rmse: 0.247848\tvalid_1's l2: 0.0614284\n",
      "[792]\ttraining's rmse: 0.204911\ttraining's l2: 0.0419886\tvalid_1's rmse: 0.247845\tvalid_1's l2: 0.0614274\n",
      "[793]\ttraining's rmse: 0.204897\ttraining's l2: 0.0419827\tvalid_1's rmse: 0.247834\tvalid_1's l2: 0.0614215\n",
      "[794]\ttraining's rmse: 0.204873\ttraining's l2: 0.0419731\tvalid_1's rmse: 0.247834\tvalid_1's l2: 0.0614215\n",
      "[795]\ttraining's rmse: 0.20485\ttraining's l2: 0.0419635\tvalid_1's rmse: 0.247816\tvalid_1's l2: 0.0614128\n"
     ]
    },
    {
     "name": "stdout",
     "output_type": "stream",
     "text": [
      "[796]\ttraining's rmse: 0.204826\ttraining's l2: 0.0419536\tvalid_1's rmse: 0.247824\tvalid_1's l2: 0.0614166\n",
      "[797]\ttraining's rmse: 0.204808\ttraining's l2: 0.0419464\tvalid_1's rmse: 0.247761\tvalid_1's l2: 0.0613857\n",
      "[798]\ttraining's rmse: 0.204793\ttraining's l2: 0.0419402\tvalid_1's rmse: 0.247765\tvalid_1's l2: 0.0613876\n",
      "[799]\ttraining's rmse: 0.204761\ttraining's l2: 0.0419271\tvalid_1's rmse: 0.247715\tvalid_1's l2: 0.0613626\n",
      "[800]\ttraining's rmse: 0.204747\ttraining's l2: 0.0419212\tvalid_1's rmse: 0.2477\tvalid_1's l2: 0.0613552\n",
      "[801]\ttraining's rmse: 0.204726\ttraining's l2: 0.0419128\tvalid_1's rmse: 0.247684\tvalid_1's l2: 0.0613474\n",
      "[802]\ttraining's rmse: 0.204702\ttraining's l2: 0.0419027\tvalid_1's rmse: 0.247627\tvalid_1's l2: 0.0613192\n",
      "[803]\ttraining's rmse: 0.204675\ttraining's l2: 0.0418921\tvalid_1's rmse: 0.247607\tvalid_1's l2: 0.0613095\n",
      "[804]\ttraining's rmse: 0.204656\ttraining's l2: 0.0418839\tvalid_1's rmse: 0.247642\tvalid_1's l2: 0.0613267\n",
      "[805]\ttraining's rmse: 0.204644\ttraining's l2: 0.041879\tvalid_1's rmse: 0.247635\tvalid_1's l2: 0.061323\n",
      "[806]\ttraining's rmse: 0.204626\ttraining's l2: 0.0418717\tvalid_1's rmse: 0.247622\tvalid_1's l2: 0.0613167\n",
      "[807]\ttraining's rmse: 0.204603\ttraining's l2: 0.0418623\tvalid_1's rmse: 0.247629\tvalid_1's l2: 0.06132\n",
      "[808]\ttraining's rmse: 0.204571\ttraining's l2: 0.0418493\tvalid_1's rmse: 0.247616\tvalid_1's l2: 0.0613136\n",
      "[809]\ttraining's rmse: 0.20455\ttraining's l2: 0.0418406\tvalid_1's rmse: 0.247636\tvalid_1's l2: 0.0613235\n",
      "[810]\ttraining's rmse: 0.204522\ttraining's l2: 0.0418291\tvalid_1's rmse: 0.247631\tvalid_1's l2: 0.0613209\n",
      "[811]\ttraining's rmse: 0.204499\ttraining's l2: 0.0418199\tvalid_1's rmse: 0.247624\tvalid_1's l2: 0.0613179\n",
      "[812]\ttraining's rmse: 0.204479\ttraining's l2: 0.0418116\tvalid_1's rmse: 0.247583\tvalid_1's l2: 0.0612975\n",
      "[813]\ttraining's rmse: 0.204451\ttraining's l2: 0.0418003\tvalid_1's rmse: 0.247499\tvalid_1's l2: 0.0612558\n",
      "[814]\ttraining's rmse: 0.204434\ttraining's l2: 0.0417931\tvalid_1's rmse: 0.247601\tvalid_1's l2: 0.0613061\n",
      "[815]\ttraining's rmse: 0.20442\ttraining's l2: 0.0417874\tvalid_1's rmse: 0.24755\tvalid_1's l2: 0.061281\n",
      "[816]\ttraining's rmse: 0.204403\ttraining's l2: 0.0417804\tvalid_1's rmse: 0.247524\tvalid_1's l2: 0.061268\n",
      "[817]\ttraining's rmse: 0.204386\ttraining's l2: 0.0417735\tvalid_1's rmse: 0.247516\tvalid_1's l2: 0.061264\n",
      "[818]\ttraining's rmse: 0.204366\ttraining's l2: 0.0417653\tvalid_1's rmse: 0.247538\tvalid_1's l2: 0.0612751\n",
      "[819]\ttraining's rmse: 0.204344\ttraining's l2: 0.0417565\tvalid_1's rmse: 0.247515\tvalid_1's l2: 0.0612635\n",
      "[820]\ttraining's rmse: 0.204321\ttraining's l2: 0.0417471\tvalid_1's rmse: 0.247465\tvalid_1's l2: 0.0612388\n",
      "[821]\ttraining's rmse: 0.204288\ttraining's l2: 0.0417337\tvalid_1's rmse: 0.247457\tvalid_1's l2: 0.0612347\n",
      "[822]\ttraining's rmse: 0.204257\ttraining's l2: 0.0417211\tvalid_1's rmse: 0.24737\tvalid_1's l2: 0.061192\n",
      "[823]\ttraining's rmse: 0.204248\ttraining's l2: 0.0417172\tvalid_1's rmse: 0.24737\tvalid_1's l2: 0.061192\n",
      "[824]\ttraining's rmse: 0.204235\ttraining's l2: 0.0417121\tvalid_1's rmse: 0.247372\tvalid_1's l2: 0.0611927\n",
      "[825]\ttraining's rmse: 0.204207\ttraining's l2: 0.0417004\tvalid_1's rmse: 0.247363\tvalid_1's l2: 0.0611883\n",
      "[826]\ttraining's rmse: 0.204189\ttraining's l2: 0.041693\tvalid_1's rmse: 0.247337\tvalid_1's l2: 0.0611754\n",
      "[827]\ttraining's rmse: 0.204176\ttraining's l2: 0.0416878\tvalid_1's rmse: 0.247336\tvalid_1's l2: 0.0611749\n",
      "[828]\ttraining's rmse: 0.204147\ttraining's l2: 0.0416762\tvalid_1's rmse: 0.247316\tvalid_1's l2: 0.061165\n",
      "[829]\ttraining's rmse: 0.204127\ttraining's l2: 0.0416677\tvalid_1's rmse: 0.24734\tvalid_1's l2: 0.0611769\n",
      "[830]\ttraining's rmse: 0.204106\ttraining's l2: 0.0416591\tvalid_1's rmse: 0.247328\tvalid_1's l2: 0.0611711\n",
      "[831]\ttraining's rmse: 0.204089\ttraining's l2: 0.0416523\tvalid_1's rmse: 0.247325\tvalid_1's l2: 0.0611698\n",
      "[832]\ttraining's rmse: 0.204076\ttraining's l2: 0.0416472\tvalid_1's rmse: 0.247311\tvalid_1's l2: 0.0611625\n",
      "[833]\ttraining's rmse: 0.204047\ttraining's l2: 0.0416352\tvalid_1's rmse: 0.247315\tvalid_1's l2: 0.0611646\n",
      "[834]\ttraining's rmse: 0.204028\ttraining's l2: 0.0416276\tvalid_1's rmse: 0.247286\tvalid_1's l2: 0.0611506\n",
      "[835]\ttraining's rmse: 0.204017\ttraining's l2: 0.0416228\tvalid_1's rmse: 0.24729\tvalid_1's l2: 0.0611521\n",
      "[836]\ttraining's rmse: 0.203999\ttraining's l2: 0.0416156\tvalid_1's rmse: 0.247295\tvalid_1's l2: 0.0611547\n",
      "[837]\ttraining's rmse: 0.203987\ttraining's l2: 0.0416105\tvalid_1's rmse: 0.247253\tvalid_1's l2: 0.0611342\n",
      "[838]\ttraining's rmse: 0.203971\ttraining's l2: 0.0416041\tvalid_1's rmse: 0.247241\tvalid_1's l2: 0.0611281\n",
      "[839]\ttraining's rmse: 0.20396\ttraining's l2: 0.0415998\tvalid_1's rmse: 0.247235\tvalid_1's l2: 0.061125\n",
      "[840]\ttraining's rmse: 0.203952\ttraining's l2: 0.0415962\tvalid_1's rmse: 0.247221\tvalid_1's l2: 0.0611181\n",
      "[841]\ttraining's rmse: 0.203924\ttraining's l2: 0.0415851\tvalid_1's rmse: 0.24722\tvalid_1's l2: 0.0611177\n",
      "[842]\ttraining's rmse: 0.203902\ttraining's l2: 0.041576\tvalid_1's rmse: 0.247183\tvalid_1's l2: 0.0610995\n",
      "[843]\ttraining's rmse: 0.203892\ttraining's l2: 0.0415718\tvalid_1's rmse: 0.247186\tvalid_1's l2: 0.0611011\n",
      "[844]\ttraining's rmse: 0.203857\ttraining's l2: 0.0415578\tvalid_1's rmse: 0.247151\tvalid_1's l2: 0.0610838\n",
      "[845]\ttraining's rmse: 0.203825\ttraining's l2: 0.0415447\tvalid_1's rmse: 0.247155\tvalid_1's l2: 0.0610855\n",
      "[846]\ttraining's rmse: 0.203807\ttraining's l2: 0.0415375\tvalid_1's rmse: 0.247137\tvalid_1's l2: 0.0610768\n",
      "[847]\ttraining's rmse: 0.203793\ttraining's l2: 0.0415317\tvalid_1's rmse: 0.247129\tvalid_1's l2: 0.0610728\n",
      "[848]\ttraining's rmse: 0.203783\ttraining's l2: 0.0415275\tvalid_1's rmse: 0.247083\tvalid_1's l2: 0.0610502\n",
      "[849]\ttraining's rmse: 0.203766\ttraining's l2: 0.0415205\tvalid_1's rmse: 0.247067\tvalid_1's l2: 0.0610419\n",
      "[850]\ttraining's rmse: 0.203746\ttraining's l2: 0.0415123\tvalid_1's rmse: 0.247069\tvalid_1's l2: 0.0610433\n",
      "[851]\ttraining's rmse: 0.203717\ttraining's l2: 0.0415007\tvalid_1's rmse: 0.247074\tvalid_1's l2: 0.0610453\n",
      "[852]\ttraining's rmse: 0.2037\ttraining's l2: 0.0414936\tvalid_1's rmse: 0.247023\tvalid_1's l2: 0.0610203\n",
      "[853]\ttraining's rmse: 0.203676\ttraining's l2: 0.0414839\tvalid_1's rmse: 0.246998\tvalid_1's l2: 0.0610079\n",
      "[854]\ttraining's rmse: 0.203659\ttraining's l2: 0.0414768\tvalid_1's rmse: 0.246973\tvalid_1's l2: 0.0609955\n",
      "[855]\ttraining's rmse: 0.203644\ttraining's l2: 0.0414707\tvalid_1's rmse: 0.246972\tvalid_1's l2: 0.0609951\n",
      "[856]\ttraining's rmse: 0.203629\ttraining's l2: 0.0414648\tvalid_1's rmse: 0.246961\tvalid_1's l2: 0.0609898\n",
      "[857]\ttraining's rmse: 0.203622\ttraining's l2: 0.0414618\tvalid_1's rmse: 0.246957\tvalid_1's l2: 0.060988\n",
      "[858]\ttraining's rmse: 0.203611\ttraining's l2: 0.0414573\tvalid_1's rmse: 0.247009\tvalid_1's l2: 0.0610132\n",
      "[859]\ttraining's rmse: 0.203602\ttraining's l2: 0.0414536\tvalid_1's rmse: 0.247006\tvalid_1's l2: 0.0610121\n",
      "[860]\ttraining's rmse: 0.20359\ttraining's l2: 0.0414489\tvalid_1's rmse: 0.247005\tvalid_1's l2: 0.0610116\n",
      "[861]\ttraining's rmse: 0.203569\ttraining's l2: 0.0414405\tvalid_1's rmse: 0.247016\tvalid_1's l2: 0.0610169\n",
      "[862]\ttraining's rmse: 0.203547\ttraining's l2: 0.0414312\tvalid_1's rmse: 0.247019\tvalid_1's l2: 0.0610182\n",
      "[863]\ttraining's rmse: 0.20353\ttraining's l2: 0.0414243\tvalid_1's rmse: 0.247019\tvalid_1's l2: 0.0610185\n",
      "[864]\ttraining's rmse: 0.203518\ttraining's l2: 0.0414196\tvalid_1's rmse: 0.247019\tvalid_1's l2: 0.0610184\n",
      "[865]\ttraining's rmse: 0.203501\ttraining's l2: 0.0414127\tvalid_1's rmse: 0.247023\tvalid_1's l2: 0.0610204\n",
      "[866]\ttraining's rmse: 0.203471\ttraining's l2: 0.0414006\tvalid_1's rmse: 0.246981\tvalid_1's l2: 0.0609997\n",
      "[867]\ttraining's rmse: 0.203458\ttraining's l2: 0.0413952\tvalid_1's rmse: 0.246979\tvalid_1's l2: 0.0609987\n",
      "[868]\ttraining's rmse: 0.203439\ttraining's l2: 0.0413874\tvalid_1's rmse: 0.246952\tvalid_1's l2: 0.0609852\n",
      "[869]\ttraining's rmse: 0.203413\ttraining's l2: 0.0413769\tvalid_1's rmse: 0.246956\tvalid_1's l2: 0.060987\n",
      "[870]\ttraining's rmse: 0.203397\ttraining's l2: 0.0413705\tvalid_1's rmse: 0.246961\tvalid_1's l2: 0.0609897\n",
      "[871]\ttraining's rmse: 0.203373\ttraining's l2: 0.0413608\tvalid_1's rmse: 0.246967\tvalid_1's l2: 0.0609929\n",
      "[872]\ttraining's rmse: 0.203356\ttraining's l2: 0.0413538\tvalid_1's rmse: 0.246973\tvalid_1's l2: 0.0609958\n",
      "[873]\ttraining's rmse: 0.20334\ttraining's l2: 0.0413472\tvalid_1's rmse: 0.246931\tvalid_1's l2: 0.0609749\n",
      "[874]\ttraining's rmse: 0.203323\ttraining's l2: 0.0413403\tvalid_1's rmse: 0.247011\tvalid_1's l2: 0.0610142\n"
     ]
    },
    {
     "name": "stdout",
     "output_type": "stream",
     "text": [
      "[875]\ttraining's rmse: 0.203302\ttraining's l2: 0.0413316\tvalid_1's rmse: 0.246984\tvalid_1's l2: 0.061001\n",
      "[876]\ttraining's rmse: 0.203282\ttraining's l2: 0.0413238\tvalid_1's rmse: 0.24699\tvalid_1's l2: 0.0610041\n",
      "[877]\ttraining's rmse: 0.20327\ttraining's l2: 0.0413186\tvalid_1's rmse: 0.246988\tvalid_1's l2: 0.061003\n",
      "[878]\ttraining's rmse: 0.203253\ttraining's l2: 0.0413118\tvalid_1's rmse: 0.246981\tvalid_1's l2: 0.0609994\n",
      "[879]\ttraining's rmse: 0.203237\ttraining's l2: 0.0413054\tvalid_1's rmse: 0.246968\tvalid_1's l2: 0.0609932\n",
      "[880]\ttraining's rmse: 0.203222\ttraining's l2: 0.0412993\tvalid_1's rmse: 0.246965\tvalid_1's l2: 0.0609919\n",
      "[881]\ttraining's rmse: 0.203194\ttraining's l2: 0.0412877\tvalid_1's rmse: 0.246957\tvalid_1's l2: 0.0609879\n",
      "[882]\ttraining's rmse: 0.203178\ttraining's l2: 0.0412814\tvalid_1's rmse: 0.246962\tvalid_1's l2: 0.0609901\n",
      "[883]\ttraining's rmse: 0.203161\ttraining's l2: 0.0412745\tvalid_1's rmse: 0.246921\tvalid_1's l2: 0.0609698\n",
      "[884]\ttraining's rmse: 0.203146\ttraining's l2: 0.0412683\tvalid_1's rmse: 0.247121\tvalid_1's l2: 0.0610687\n",
      "[885]\ttraining's rmse: 0.203127\ttraining's l2: 0.0412605\tvalid_1's rmse: 0.24712\tvalid_1's l2: 0.0610683\n",
      "[886]\ttraining's rmse: 0.203094\ttraining's l2: 0.0412471\tvalid_1's rmse: 0.247068\tvalid_1's l2: 0.0610426\n",
      "[887]\ttraining's rmse: 0.203084\ttraining's l2: 0.041243\tvalid_1's rmse: 0.247065\tvalid_1's l2: 0.0610412\n",
      "[888]\ttraining's rmse: 0.203069\ttraining's l2: 0.0412368\tvalid_1's rmse: 0.247069\tvalid_1's l2: 0.0610429\n",
      "[889]\ttraining's rmse: 0.203054\ttraining's l2: 0.0412309\tvalid_1's rmse: 0.247125\tvalid_1's l2: 0.0610709\n",
      "[890]\ttraining's rmse: 0.203042\ttraining's l2: 0.0412262\tvalid_1's rmse: 0.247192\tvalid_1's l2: 0.0611041\n",
      "[891]\ttraining's rmse: 0.203014\ttraining's l2: 0.0412146\tvalid_1's rmse: 0.247193\tvalid_1's l2: 0.0611043\n",
      "[892]\ttraining's rmse: 0.202985\ttraining's l2: 0.0412031\tvalid_1's rmse: 0.247161\tvalid_1's l2: 0.0610887\n",
      "[893]\ttraining's rmse: 0.202969\ttraining's l2: 0.0411966\tvalid_1's rmse: 0.247112\tvalid_1's l2: 0.0610643\n",
      "[894]\ttraining's rmse: 0.202959\ttraining's l2: 0.0411925\tvalid_1's rmse: 0.247116\tvalid_1's l2: 0.0610661\n",
      "[895]\ttraining's rmse: 0.202938\ttraining's l2: 0.0411837\tvalid_1's rmse: 0.247116\tvalid_1's l2: 0.0610661\n",
      "[896]\ttraining's rmse: 0.202927\ttraining's l2: 0.0411794\tvalid_1's rmse: 0.247118\tvalid_1's l2: 0.0610675\n",
      "[897]\ttraining's rmse: 0.202913\ttraining's l2: 0.0411738\tvalid_1's rmse: 0.247061\tvalid_1's l2: 0.0610393\n",
      "[898]\ttraining's rmse: 0.20289\ttraining's l2: 0.0411644\tvalid_1's rmse: 0.247059\tvalid_1's l2: 0.0610381\n",
      "[899]\ttraining's rmse: 0.202879\ttraining's l2: 0.04116\tvalid_1's rmse: 0.247057\tvalid_1's l2: 0.061037\n",
      "[900]\ttraining's rmse: 0.202861\ttraining's l2: 0.0411527\tvalid_1's rmse: 0.247077\tvalid_1's l2: 0.0610469\n",
      "[901]\ttraining's rmse: 0.20284\ttraining's l2: 0.0411441\tvalid_1's rmse: 0.247076\tvalid_1's l2: 0.0610465\n",
      "[902]\ttraining's rmse: 0.20283\ttraining's l2: 0.04114\tvalid_1's rmse: 0.247059\tvalid_1's l2: 0.0610379\n",
      "[903]\ttraining's rmse: 0.202821\ttraining's l2: 0.0411362\tvalid_1's rmse: 0.247053\tvalid_1's l2: 0.0610352\n",
      "[904]\ttraining's rmse: 0.202803\ttraining's l2: 0.0411292\tvalid_1's rmse: 0.247046\tvalid_1's l2: 0.0610319\n",
      "[905]\ttraining's rmse: 0.202792\ttraining's l2: 0.0411248\tvalid_1's rmse: 0.247022\tvalid_1's l2: 0.0610197\n",
      "[906]\ttraining's rmse: 0.202754\ttraining's l2: 0.0411094\tvalid_1's rmse: 0.246995\tvalid_1's l2: 0.0610065\n",
      "[907]\ttraining's rmse: 0.202731\ttraining's l2: 0.0410999\tvalid_1's rmse: 0.246998\tvalid_1's l2: 0.061008\n",
      "[908]\ttraining's rmse: 0.202711\ttraining's l2: 0.0410918\tvalid_1's rmse: 0.246924\tvalid_1's l2: 0.0609713\n",
      "[909]\ttraining's rmse: 0.202695\ttraining's l2: 0.0410852\tvalid_1's rmse: 0.246893\tvalid_1's l2: 0.0609562\n",
      "[910]\ttraining's rmse: 0.202681\ttraining's l2: 0.0410797\tvalid_1's rmse: 0.246889\tvalid_1's l2: 0.0609542\n",
      "[911]\ttraining's rmse: 0.202668\ttraining's l2: 0.0410744\tvalid_1's rmse: 0.246866\tvalid_1's l2: 0.0609428\n",
      "[912]\ttraining's rmse: 0.202654\ttraining's l2: 0.0410685\tvalid_1's rmse: 0.246844\tvalid_1's l2: 0.0609319\n",
      "[913]\ttraining's rmse: 0.202634\ttraining's l2: 0.0410605\tvalid_1's rmse: 0.246831\tvalid_1's l2: 0.0609255\n",
      "[914]\ttraining's rmse: 0.202613\ttraining's l2: 0.0410522\tvalid_1's rmse: 0.246822\tvalid_1's l2: 0.060921\n",
      "[915]\ttraining's rmse: 0.202586\ttraining's l2: 0.041041\tvalid_1's rmse: 0.246771\tvalid_1's l2: 0.0608961\n",
      "[916]\ttraining's rmse: 0.202563\ttraining's l2: 0.0410317\tvalid_1's rmse: 0.246764\tvalid_1's l2: 0.0608924\n",
      "[917]\ttraining's rmse: 0.202547\ttraining's l2: 0.0410252\tvalid_1's rmse: 0.246726\tvalid_1's l2: 0.0608736\n",
      "[918]\ttraining's rmse: 0.202527\ttraining's l2: 0.0410171\tvalid_1's rmse: 0.246727\tvalid_1's l2: 0.0608743\n",
      "[919]\ttraining's rmse: 0.202503\ttraining's l2: 0.0410074\tvalid_1's rmse: 0.246718\tvalid_1's l2: 0.0608696\n",
      "[920]\ttraining's rmse: 0.202485\ttraining's l2: 0.0410004\tvalid_1's rmse: 0.246737\tvalid_1's l2: 0.0608793\n",
      "[921]\ttraining's rmse: 0.202463\ttraining's l2: 0.0409914\tvalid_1's rmse: 0.24674\tvalid_1's l2: 0.0608808\n",
      "[922]\ttraining's rmse: 0.202453\ttraining's l2: 0.0409873\tvalid_1's rmse: 0.246742\tvalid_1's l2: 0.0608814\n",
      "[923]\ttraining's rmse: 0.202443\ttraining's l2: 0.040983\tvalid_1's rmse: 0.246741\tvalid_1's l2: 0.060881\n",
      "[924]\ttraining's rmse: 0.202419\ttraining's l2: 0.0409735\tvalid_1's rmse: 0.246752\tvalid_1's l2: 0.0608866\n",
      "[925]\ttraining's rmse: 0.202403\ttraining's l2: 0.0409671\tvalid_1's rmse: 0.246755\tvalid_1's l2: 0.060888\n",
      "[926]\ttraining's rmse: 0.202386\ttraining's l2: 0.0409601\tvalid_1's rmse: 0.246732\tvalid_1's l2: 0.0608765\n",
      "[927]\ttraining's rmse: 0.202368\ttraining's l2: 0.0409527\tvalid_1's rmse: 0.246739\tvalid_1's l2: 0.0608802\n",
      "[928]\ttraining's rmse: 0.20234\ttraining's l2: 0.0409416\tvalid_1's rmse: 0.246697\tvalid_1's l2: 0.0608596\n",
      "[929]\ttraining's rmse: 0.202322\ttraining's l2: 0.0409341\tvalid_1's rmse: 0.246707\tvalid_1's l2: 0.0608644\n",
      "[930]\ttraining's rmse: 0.202306\ttraining's l2: 0.0409275\tvalid_1's rmse: 0.24671\tvalid_1's l2: 0.0608656\n",
      "[931]\ttraining's rmse: 0.202291\ttraining's l2: 0.0409216\tvalid_1's rmse: 0.246714\tvalid_1's l2: 0.060868\n",
      "[932]\ttraining's rmse: 0.202277\ttraining's l2: 0.040916\tvalid_1's rmse: 0.246726\tvalid_1's l2: 0.0608738\n",
      "[933]\ttraining's rmse: 0.202269\ttraining's l2: 0.0409127\tvalid_1's rmse: 0.246725\tvalid_1's l2: 0.0608732\n",
      "[934]\ttraining's rmse: 0.202229\ttraining's l2: 0.0408966\tvalid_1's rmse: 0.246675\tvalid_1's l2: 0.0608486\n",
      "[935]\ttraining's rmse: 0.202214\ttraining's l2: 0.0408905\tvalid_1's rmse: 0.246665\tvalid_1's l2: 0.0608436\n",
      "[936]\ttraining's rmse: 0.2022\ttraining's l2: 0.040885\tvalid_1's rmse: 0.246663\tvalid_1's l2: 0.0608425\n",
      "[937]\ttraining's rmse: 0.202191\ttraining's l2: 0.040881\tvalid_1's rmse: 0.246934\tvalid_1's l2: 0.0609764\n",
      "[938]\ttraining's rmse: 0.202176\ttraining's l2: 0.040875\tvalid_1's rmse: 0.246938\tvalid_1's l2: 0.0609782\n",
      "[939]\ttraining's rmse: 0.202145\ttraining's l2: 0.0408627\tvalid_1's rmse: 0.246905\tvalid_1's l2: 0.060962\n",
      "[940]\ttraining's rmse: 0.202136\ttraining's l2: 0.0408591\tvalid_1's rmse: 0.246904\tvalid_1's l2: 0.0609615\n",
      "[941]\ttraining's rmse: 0.202116\ttraining's l2: 0.0408507\tvalid_1's rmse: 0.24694\tvalid_1's l2: 0.0609796\n",
      "[942]\ttraining's rmse: 0.202093\ttraining's l2: 0.0408415\tvalid_1's rmse: 0.246941\tvalid_1's l2: 0.0609798\n",
      "[943]\ttraining's rmse: 0.202079\ttraining's l2: 0.0408359\tvalid_1's rmse: 0.24695\tvalid_1's l2: 0.0609844\n",
      "[944]\ttraining's rmse: 0.202064\ttraining's l2: 0.0408298\tvalid_1's rmse: 0.246948\tvalid_1's l2: 0.0609835\n",
      "[945]\ttraining's rmse: 0.202035\ttraining's l2: 0.0408181\tvalid_1's rmse: 0.246925\tvalid_1's l2: 0.0609719\n",
      "[946]\ttraining's rmse: 0.202023\ttraining's l2: 0.0408134\tvalid_1's rmse: 0.246925\tvalid_1's l2: 0.0609717\n",
      "[947]\ttraining's rmse: 0.202004\ttraining's l2: 0.0408056\tvalid_1's rmse: 0.246897\tvalid_1's l2: 0.060958\n",
      "[948]\ttraining's rmse: 0.201984\ttraining's l2: 0.0407977\tvalid_1's rmse: 0.246906\tvalid_1's l2: 0.0609624\n",
      "[949]\ttraining's rmse: 0.201974\ttraining's l2: 0.0407934\tvalid_1's rmse: 0.246879\tvalid_1's l2: 0.0609494\n",
      "[950]\ttraining's rmse: 0.201957\ttraining's l2: 0.0407865\tvalid_1's rmse: 0.246858\tvalid_1's l2: 0.060939\n",
      "[951]\ttraining's rmse: 0.201945\ttraining's l2: 0.0407817\tvalid_1's rmse: 0.246869\tvalid_1's l2: 0.0609443\n",
      "[952]\ttraining's rmse: 0.20193\ttraining's l2: 0.0407759\tvalid_1's rmse: 0.246872\tvalid_1's l2: 0.0609459\n",
      "[953]\ttraining's rmse: 0.201916\ttraining's l2: 0.0407702\tvalid_1's rmse: 0.246886\tvalid_1's l2: 0.0609527\n"
     ]
    },
    {
     "name": "stdout",
     "output_type": "stream",
     "text": [
      "[954]\ttraining's rmse: 0.201902\ttraining's l2: 0.0407644\tvalid_1's rmse: 0.246877\tvalid_1's l2: 0.0609481\n",
      "[955]\ttraining's rmse: 0.201878\ttraining's l2: 0.0407546\tvalid_1's rmse: 0.246853\tvalid_1's l2: 0.0609362\n",
      "[956]\ttraining's rmse: 0.201849\ttraining's l2: 0.0407429\tvalid_1's rmse: 0.246854\tvalid_1's l2: 0.0609368\n",
      "[957]\ttraining's rmse: 0.201819\ttraining's l2: 0.0407309\tvalid_1's rmse: 0.246766\tvalid_1's l2: 0.0608935\n",
      "[958]\ttraining's rmse: 0.201794\ttraining's l2: 0.0407207\tvalid_1's rmse: 0.246704\tvalid_1's l2: 0.0608629\n",
      "[959]\ttraining's rmse: 0.201774\ttraining's l2: 0.0407127\tvalid_1's rmse: 0.246705\tvalid_1's l2: 0.0608635\n",
      "[960]\ttraining's rmse: 0.201753\ttraining's l2: 0.0407042\tvalid_1's rmse: 0.246712\tvalid_1's l2: 0.0608669\n",
      "[961]\ttraining's rmse: 0.20174\ttraining's l2: 0.0406989\tvalid_1's rmse: 0.246713\tvalid_1's l2: 0.0608673\n",
      "[962]\ttraining's rmse: 0.201729\ttraining's l2: 0.0406947\tvalid_1's rmse: 0.246713\tvalid_1's l2: 0.0608671\n",
      "[963]\ttraining's rmse: 0.201716\ttraining's l2: 0.0406892\tvalid_1's rmse: 0.246708\tvalid_1's l2: 0.0608649\n",
      "[964]\ttraining's rmse: 0.201695\ttraining's l2: 0.0406807\tvalid_1's rmse: 0.246701\tvalid_1's l2: 0.0608612\n",
      "[965]\ttraining's rmse: 0.201674\ttraining's l2: 0.0406725\tvalid_1's rmse: 0.246681\tvalid_1's l2: 0.0608515\n",
      "[966]\ttraining's rmse: 0.201655\ttraining's l2: 0.0406647\tvalid_1's rmse: 0.246714\tvalid_1's l2: 0.0608677\n",
      "Early stopping, best iteration is:\n",
      "[936]\ttraining's rmse: 0.2022\ttraining's l2: 0.040885\tvalid_1's rmse: 0.246663\tvalid_1's l2: 0.0608425\n"
     ]
    },
    {
     "data": {
      "text/plain": [
       "LGBMRegressor(boosting_type='gbdt', class_weight=None, colsample_bytree=0.5,\n",
       "              eta=0.3, importance_type='split', learning_rate=0.1, max_depth=-1,\n",
       "              min_child_samples=20, min_child_weight=200, min_split_gain=0.0,\n",
       "              n_estimators=1500, n_jobs=-1, num_leaves=31, objective=None,\n",
       "              random_state=None, reg_alpha=0.0, reg_lambda=0.0, seed=42,\n",
       "              silent=True, subsample=0.5, subsample_for_bin=200000,\n",
       "              subsample_freq=0)"
      ]
     },
     "execution_count": 59,
     "metadata": {},
     "output_type": "execute_result"
    }
   ],
   "source": [
    "model = LGBMRegressor(\n",
    "    max_depth=-1,\n",
    "    boosting_type='gbdt',\n",
    "    n_estimators=1500,\n",
    "    min_child_weight=200, \n",
    "    colsample_bytree=0.5, \n",
    "    subsample=0.5, \n",
    "    eta=0.3,    \n",
    "    seed=42)\n",
    "\n",
    "model.fit(\n",
    "    df_train, \n",
    "    y, \n",
    "    eval_metric=\"rmse\", \n",
    "    eval_set=[(df_train, y), (df_valid, y_actual)], \n",
    "    verbose=True,    \n",
    "    early_stopping_rounds = 30\n",
    "    )"
   ]
  },
  {
   "cell_type": "markdown",
   "metadata": {},
   "source": [
    "## Future Improvements\n",
    "\n",
    "    (1) Use clustering/dendograms based techniques for feature extraction \n",
    "    (2) Hyperparameter tuning in LGBM and XGBoost regressors\n",
    "    (3) Selecting and clubbing two or more features\n",
    "    (4) Use binning for relevant feature\n",
    "    (5) Try to make more hand features\n",
    "    (6) Impute the nan missing values with some other values than mean or median"
   ]
  }
 ],
 "metadata": {
  "kernelspec": {
   "display_name": "Python 3",
   "language": "python",
   "name": "python3"
  },
  "language_info": {
   "codemirror_mode": {
    "name": "ipython",
    "version": 3
   },
   "file_extension": ".py",
   "mimetype": "text/x-python",
   "name": "python",
   "nbconvert_exporter": "python",
   "pygments_lexer": "ipython3",
   "version": "3.7.4"
  }
 },
 "nbformat": 4,
 "nbformat_minor": 2
}
